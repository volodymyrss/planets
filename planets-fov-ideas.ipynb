{
 "cells": [
  {
   "cell_type": "code",
   "execution_count": 3,
   "id": "utility-russia",
   "metadata": {},
   "outputs": [],
   "source": [
    "#!pip install pyephem\n",
    "\n",
    "import ephem\n",
    "from astropy.coordinates import solar_system\n",
    "from astropy import time\n",
    "from astropy.coordinates import SkyCoord\n",
    "import astroquery.heasarc\n",
    "\n",
    "import astropy.units as u\n",
    "import astropy.coordinates as coord\n",
    "import numpy as np\n",
    "\n",
    "import matplotlib as mpl\n",
    "import matplotlib.pylab as plt\n",
    "\n",
    "import pandas as pd\n",
    "import io\n",
    "\n",
    "import gzip"
   ]
  },
  {
   "cell_type": "code",
   "execution_count": 4,
   "id": "armed-hepatitis",
   "metadata": {},
   "outputs": [
    {
     "ename": "ConnectionError",
     "evalue": "HTTPConnectionPool(host='in.internal.odahub.io', port=80): Max retries exceeded with url: /staging-1-3/dispatcher/api/par-names?instrument=isgri&product_type=isgri_image (Caused by NewConnectionError('<urllib3.connection.HTTPConnection object at 0x7f8434981eb0>: Failed to establish a new connection: [Errno 110] Connection timed out'))",
     "output_type": "error",
     "traceback": [
      "\u001b[0;31m---------------------------------------------------------------------------\u001b[0m",
      "\u001b[0;31mTimeoutError\u001b[0m                              Traceback (most recent call last)",
      "\u001b[0;32m~/.pyenv/versions/3.8.6/lib/python3.8/site-packages/urllib3/connection.py\u001b[0m in \u001b[0;36m_new_conn\u001b[0;34m(self)\u001b[0m\n\u001b[1;32m    168\u001b[0m         \u001b[0;32mtry\u001b[0m\u001b[0;34m:\u001b[0m\u001b[0;34m\u001b[0m\u001b[0;34m\u001b[0m\u001b[0m\n\u001b[0;32m--> 169\u001b[0;31m             conn = connection.create_connection(\n\u001b[0m\u001b[1;32m    170\u001b[0m                 \u001b[0;34m(\u001b[0m\u001b[0mself\u001b[0m\u001b[0;34m.\u001b[0m\u001b[0m_dns_host\u001b[0m\u001b[0;34m,\u001b[0m \u001b[0mself\u001b[0m\u001b[0;34m.\u001b[0m\u001b[0mport\u001b[0m\u001b[0;34m)\u001b[0m\u001b[0;34m,\u001b[0m \u001b[0mself\u001b[0m\u001b[0;34m.\u001b[0m\u001b[0mtimeout\u001b[0m\u001b[0;34m,\u001b[0m \u001b[0;34m**\u001b[0m\u001b[0mextra_kw\u001b[0m\u001b[0;34m\u001b[0m\u001b[0;34m\u001b[0m\u001b[0m\n",
      "\u001b[0;32m~/.pyenv/versions/3.8.6/lib/python3.8/site-packages/urllib3/util/connection.py\u001b[0m in \u001b[0;36mcreate_connection\u001b[0;34m(address, timeout, source_address, socket_options)\u001b[0m\n\u001b[1;32m     95\u001b[0m     \u001b[0;32mif\u001b[0m \u001b[0merr\u001b[0m \u001b[0;32mis\u001b[0m \u001b[0;32mnot\u001b[0m \u001b[0;32mNone\u001b[0m\u001b[0;34m:\u001b[0m\u001b[0;34m\u001b[0m\u001b[0;34m\u001b[0m\u001b[0m\n\u001b[0;32m---> 96\u001b[0;31m         \u001b[0;32mraise\u001b[0m \u001b[0merr\u001b[0m\u001b[0;34m\u001b[0m\u001b[0;34m\u001b[0m\u001b[0m\n\u001b[0m\u001b[1;32m     97\u001b[0m \u001b[0;34m\u001b[0m\u001b[0m\n",
      "\u001b[0;32m~/.pyenv/versions/3.8.6/lib/python3.8/site-packages/urllib3/util/connection.py\u001b[0m in \u001b[0;36mcreate_connection\u001b[0;34m(address, timeout, source_address, socket_options)\u001b[0m\n\u001b[1;32m     85\u001b[0m                 \u001b[0msock\u001b[0m\u001b[0;34m.\u001b[0m\u001b[0mbind\u001b[0m\u001b[0;34m(\u001b[0m\u001b[0msource_address\u001b[0m\u001b[0;34m)\u001b[0m\u001b[0;34m\u001b[0m\u001b[0;34m\u001b[0m\u001b[0m\n\u001b[0;32m---> 86\u001b[0;31m             \u001b[0msock\u001b[0m\u001b[0;34m.\u001b[0m\u001b[0mconnect\u001b[0m\u001b[0;34m(\u001b[0m\u001b[0msa\u001b[0m\u001b[0;34m)\u001b[0m\u001b[0;34m\u001b[0m\u001b[0;34m\u001b[0m\u001b[0m\n\u001b[0m\u001b[1;32m     87\u001b[0m             \u001b[0;32mreturn\u001b[0m \u001b[0msock\u001b[0m\u001b[0;34m\u001b[0m\u001b[0;34m\u001b[0m\u001b[0m\n",
      "\u001b[0;31mTimeoutError\u001b[0m: [Errno 110] Connection timed out",
      "\nDuring handling of the above exception, another exception occurred:\n",
      "\u001b[0;31mNewConnectionError\u001b[0m                        Traceback (most recent call last)",
      "\u001b[0;32m~/.pyenv/versions/3.8.6/lib/python3.8/site-packages/urllib3/connectionpool.py\u001b[0m in \u001b[0;36murlopen\u001b[0;34m(self, method, url, body, headers, retries, redirect, assert_same_host, timeout, pool_timeout, release_conn, chunked, body_pos, **response_kw)\u001b[0m\n\u001b[1;32m    698\u001b[0m             \u001b[0;31m# Make the request on the httplib connection object.\u001b[0m\u001b[0;34m\u001b[0m\u001b[0;34m\u001b[0m\u001b[0;34m\u001b[0m\u001b[0m\n\u001b[0;32m--> 699\u001b[0;31m             httplib_response = self._make_request(\n\u001b[0m\u001b[1;32m    700\u001b[0m                 \u001b[0mconn\u001b[0m\u001b[0;34m,\u001b[0m\u001b[0;34m\u001b[0m\u001b[0;34m\u001b[0m\u001b[0m\n",
      "\u001b[0;32m~/.pyenv/versions/3.8.6/lib/python3.8/site-packages/urllib3/connectionpool.py\u001b[0m in \u001b[0;36m_make_request\u001b[0;34m(self, conn, method, url, timeout, chunked, **httplib_request_kw)\u001b[0m\n\u001b[1;32m    393\u001b[0m             \u001b[0;32melse\u001b[0m\u001b[0;34m:\u001b[0m\u001b[0;34m\u001b[0m\u001b[0;34m\u001b[0m\u001b[0m\n\u001b[0;32m--> 394\u001b[0;31m                 \u001b[0mconn\u001b[0m\u001b[0;34m.\u001b[0m\u001b[0mrequest\u001b[0m\u001b[0;34m(\u001b[0m\u001b[0mmethod\u001b[0m\u001b[0;34m,\u001b[0m \u001b[0murl\u001b[0m\u001b[0;34m,\u001b[0m \u001b[0;34m**\u001b[0m\u001b[0mhttplib_request_kw\u001b[0m\u001b[0;34m)\u001b[0m\u001b[0;34m\u001b[0m\u001b[0;34m\u001b[0m\u001b[0m\n\u001b[0m\u001b[1;32m    395\u001b[0m \u001b[0;34m\u001b[0m\u001b[0m\n",
      "\u001b[0;32m~/.pyenv/versions/3.8.6/lib/python3.8/site-packages/urllib3/connection.py\u001b[0m in \u001b[0;36mrequest\u001b[0;34m(self, method, url, body, headers)\u001b[0m\n\u001b[1;32m    233\u001b[0m             \u001b[0mheaders\u001b[0m\u001b[0;34m[\u001b[0m\u001b[0;34m\"User-Agent\"\u001b[0m\u001b[0;34m]\u001b[0m \u001b[0;34m=\u001b[0m \u001b[0m_get_default_user_agent\u001b[0m\u001b[0;34m(\u001b[0m\u001b[0;34m)\u001b[0m\u001b[0;34m\u001b[0m\u001b[0;34m\u001b[0m\u001b[0m\n\u001b[0;32m--> 234\u001b[0;31m         \u001b[0msuper\u001b[0m\u001b[0;34m(\u001b[0m\u001b[0mHTTPConnection\u001b[0m\u001b[0;34m,\u001b[0m \u001b[0mself\u001b[0m\u001b[0;34m)\u001b[0m\u001b[0;34m.\u001b[0m\u001b[0mrequest\u001b[0m\u001b[0;34m(\u001b[0m\u001b[0mmethod\u001b[0m\u001b[0;34m,\u001b[0m \u001b[0murl\u001b[0m\u001b[0;34m,\u001b[0m \u001b[0mbody\u001b[0m\u001b[0;34m=\u001b[0m\u001b[0mbody\u001b[0m\u001b[0;34m,\u001b[0m \u001b[0mheaders\u001b[0m\u001b[0;34m=\u001b[0m\u001b[0mheaders\u001b[0m\u001b[0;34m)\u001b[0m\u001b[0;34m\u001b[0m\u001b[0;34m\u001b[0m\u001b[0m\n\u001b[0m\u001b[1;32m    235\u001b[0m \u001b[0;34m\u001b[0m\u001b[0m\n",
      "\u001b[0;32m~/.pyenv/versions/3.8.6/lib/python3.8/http/client.py\u001b[0m in \u001b[0;36mrequest\u001b[0;34m(self, method, url, body, headers, encode_chunked)\u001b[0m\n\u001b[1;32m   1254\u001b[0m         \u001b[0;34m\"\"\"Send a complete request to the server.\"\"\"\u001b[0m\u001b[0;34m\u001b[0m\u001b[0;34m\u001b[0m\u001b[0m\n\u001b[0;32m-> 1255\u001b[0;31m         \u001b[0mself\u001b[0m\u001b[0;34m.\u001b[0m\u001b[0m_send_request\u001b[0m\u001b[0;34m(\u001b[0m\u001b[0mmethod\u001b[0m\u001b[0;34m,\u001b[0m \u001b[0murl\u001b[0m\u001b[0;34m,\u001b[0m \u001b[0mbody\u001b[0m\u001b[0;34m,\u001b[0m \u001b[0mheaders\u001b[0m\u001b[0;34m,\u001b[0m \u001b[0mencode_chunked\u001b[0m\u001b[0;34m)\u001b[0m\u001b[0;34m\u001b[0m\u001b[0;34m\u001b[0m\u001b[0m\n\u001b[0m\u001b[1;32m   1256\u001b[0m \u001b[0;34m\u001b[0m\u001b[0m\n",
      "\u001b[0;32m~/.pyenv/versions/3.8.6/lib/python3.8/http/client.py\u001b[0m in \u001b[0;36m_send_request\u001b[0;34m(self, method, url, body, headers, encode_chunked)\u001b[0m\n\u001b[1;32m   1300\u001b[0m             \u001b[0mbody\u001b[0m \u001b[0;34m=\u001b[0m \u001b[0m_encode\u001b[0m\u001b[0;34m(\u001b[0m\u001b[0mbody\u001b[0m\u001b[0;34m,\u001b[0m \u001b[0;34m'body'\u001b[0m\u001b[0;34m)\u001b[0m\u001b[0;34m\u001b[0m\u001b[0;34m\u001b[0m\u001b[0m\n\u001b[0;32m-> 1301\u001b[0;31m         \u001b[0mself\u001b[0m\u001b[0;34m.\u001b[0m\u001b[0mendheaders\u001b[0m\u001b[0;34m(\u001b[0m\u001b[0mbody\u001b[0m\u001b[0;34m,\u001b[0m \u001b[0mencode_chunked\u001b[0m\u001b[0;34m=\u001b[0m\u001b[0mencode_chunked\u001b[0m\u001b[0;34m)\u001b[0m\u001b[0;34m\u001b[0m\u001b[0;34m\u001b[0m\u001b[0m\n\u001b[0m\u001b[1;32m   1302\u001b[0m \u001b[0;34m\u001b[0m\u001b[0m\n",
      "\u001b[0;32m~/.pyenv/versions/3.8.6/lib/python3.8/http/client.py\u001b[0m in \u001b[0;36mendheaders\u001b[0;34m(self, message_body, encode_chunked)\u001b[0m\n\u001b[1;32m   1249\u001b[0m             \u001b[0;32mraise\u001b[0m \u001b[0mCannotSendHeader\u001b[0m\u001b[0;34m(\u001b[0m\u001b[0;34m)\u001b[0m\u001b[0;34m\u001b[0m\u001b[0;34m\u001b[0m\u001b[0m\n\u001b[0;32m-> 1250\u001b[0;31m         \u001b[0mself\u001b[0m\u001b[0;34m.\u001b[0m\u001b[0m_send_output\u001b[0m\u001b[0;34m(\u001b[0m\u001b[0mmessage_body\u001b[0m\u001b[0;34m,\u001b[0m \u001b[0mencode_chunked\u001b[0m\u001b[0;34m=\u001b[0m\u001b[0mencode_chunked\u001b[0m\u001b[0;34m)\u001b[0m\u001b[0;34m\u001b[0m\u001b[0;34m\u001b[0m\u001b[0m\n\u001b[0m\u001b[1;32m   1251\u001b[0m \u001b[0;34m\u001b[0m\u001b[0m\n",
      "\u001b[0;32m~/.pyenv/versions/3.8.6/lib/python3.8/http/client.py\u001b[0m in \u001b[0;36m_send_output\u001b[0;34m(self, message_body, encode_chunked)\u001b[0m\n\u001b[1;32m   1009\u001b[0m         \u001b[0;32mdel\u001b[0m \u001b[0mself\u001b[0m\u001b[0;34m.\u001b[0m\u001b[0m_buffer\u001b[0m\u001b[0;34m[\u001b[0m\u001b[0;34m:\u001b[0m\u001b[0;34m]\u001b[0m\u001b[0;34m\u001b[0m\u001b[0;34m\u001b[0m\u001b[0m\n\u001b[0;32m-> 1010\u001b[0;31m         \u001b[0mself\u001b[0m\u001b[0;34m.\u001b[0m\u001b[0msend\u001b[0m\u001b[0;34m(\u001b[0m\u001b[0mmsg\u001b[0m\u001b[0;34m)\u001b[0m\u001b[0;34m\u001b[0m\u001b[0;34m\u001b[0m\u001b[0m\n\u001b[0m\u001b[1;32m   1011\u001b[0m \u001b[0;34m\u001b[0m\u001b[0m\n",
      "\u001b[0;32m~/.pyenv/versions/3.8.6/lib/python3.8/http/client.py\u001b[0m in \u001b[0;36msend\u001b[0;34m(self, data)\u001b[0m\n\u001b[1;32m    949\u001b[0m             \u001b[0;32mif\u001b[0m \u001b[0mself\u001b[0m\u001b[0;34m.\u001b[0m\u001b[0mauto_open\u001b[0m\u001b[0;34m:\u001b[0m\u001b[0;34m\u001b[0m\u001b[0;34m\u001b[0m\u001b[0m\n\u001b[0;32m--> 950\u001b[0;31m                 \u001b[0mself\u001b[0m\u001b[0;34m.\u001b[0m\u001b[0mconnect\u001b[0m\u001b[0;34m(\u001b[0m\u001b[0;34m)\u001b[0m\u001b[0;34m\u001b[0m\u001b[0;34m\u001b[0m\u001b[0m\n\u001b[0m\u001b[1;32m    951\u001b[0m             \u001b[0;32melse\u001b[0m\u001b[0;34m:\u001b[0m\u001b[0;34m\u001b[0m\u001b[0;34m\u001b[0m\u001b[0m\n",
      "\u001b[0;32m~/.pyenv/versions/3.8.6/lib/python3.8/site-packages/urllib3/connection.py\u001b[0m in \u001b[0;36mconnect\u001b[0;34m(self)\u001b[0m\n\u001b[1;32m    199\u001b[0m     \u001b[0;32mdef\u001b[0m \u001b[0mconnect\u001b[0m\u001b[0;34m(\u001b[0m\u001b[0mself\u001b[0m\u001b[0;34m)\u001b[0m\u001b[0;34m:\u001b[0m\u001b[0;34m\u001b[0m\u001b[0;34m\u001b[0m\u001b[0m\n\u001b[0;32m--> 200\u001b[0;31m         \u001b[0mconn\u001b[0m \u001b[0;34m=\u001b[0m \u001b[0mself\u001b[0m\u001b[0;34m.\u001b[0m\u001b[0m_new_conn\u001b[0m\u001b[0;34m(\u001b[0m\u001b[0;34m)\u001b[0m\u001b[0;34m\u001b[0m\u001b[0;34m\u001b[0m\u001b[0m\n\u001b[0m\u001b[1;32m    201\u001b[0m         \u001b[0mself\u001b[0m\u001b[0;34m.\u001b[0m\u001b[0m_prepare_conn\u001b[0m\u001b[0;34m(\u001b[0m\u001b[0mconn\u001b[0m\u001b[0;34m)\u001b[0m\u001b[0;34m\u001b[0m\u001b[0;34m\u001b[0m\u001b[0m\n",
      "\u001b[0;32m~/.pyenv/versions/3.8.6/lib/python3.8/site-packages/urllib3/connection.py\u001b[0m in \u001b[0;36m_new_conn\u001b[0;34m(self)\u001b[0m\n\u001b[1;32m    180\u001b[0m         \u001b[0;32mexcept\u001b[0m \u001b[0mSocketError\u001b[0m \u001b[0;32mas\u001b[0m \u001b[0me\u001b[0m\u001b[0;34m:\u001b[0m\u001b[0;34m\u001b[0m\u001b[0;34m\u001b[0m\u001b[0m\n\u001b[0;32m--> 181\u001b[0;31m             raise NewConnectionError(\n\u001b[0m\u001b[1;32m    182\u001b[0m                 \u001b[0mself\u001b[0m\u001b[0;34m,\u001b[0m \u001b[0;34m\"Failed to establish a new connection: %s\"\u001b[0m \u001b[0;34m%\u001b[0m \u001b[0me\u001b[0m\u001b[0;34m\u001b[0m\u001b[0;34m\u001b[0m\u001b[0m\n",
      "\u001b[0;31mNewConnectionError\u001b[0m: <urllib3.connection.HTTPConnection object at 0x7f8434981eb0>: Failed to establish a new connection: [Errno 110] Connection timed out",
      "\nDuring handling of the above exception, another exception occurred:\n",
      "\u001b[0;31mMaxRetryError\u001b[0m                             Traceback (most recent call last)",
      "\u001b[0;32m~/.pyenv/versions/3.8.6/lib/python3.8/site-packages/requests/adapters.py\u001b[0m in \u001b[0;36msend\u001b[0;34m(self, request, stream, timeout, verify, cert, proxies)\u001b[0m\n\u001b[1;32m    438\u001b[0m             \u001b[0;32mif\u001b[0m \u001b[0;32mnot\u001b[0m \u001b[0mchunked\u001b[0m\u001b[0;34m:\u001b[0m\u001b[0;34m\u001b[0m\u001b[0;34m\u001b[0m\u001b[0m\n\u001b[0;32m--> 439\u001b[0;31m                 resp = conn.urlopen(\n\u001b[0m\u001b[1;32m    440\u001b[0m                     \u001b[0mmethod\u001b[0m\u001b[0;34m=\u001b[0m\u001b[0mrequest\u001b[0m\u001b[0;34m.\u001b[0m\u001b[0mmethod\u001b[0m\u001b[0;34m,\u001b[0m\u001b[0;34m\u001b[0m\u001b[0;34m\u001b[0m\u001b[0m\n",
      "\u001b[0;32m~/.pyenv/versions/3.8.6/lib/python3.8/site-packages/urllib3/connectionpool.py\u001b[0m in \u001b[0;36murlopen\u001b[0;34m(self, method, url, body, headers, retries, redirect, assert_same_host, timeout, pool_timeout, release_conn, chunked, body_pos, **response_kw)\u001b[0m\n\u001b[1;32m    754\u001b[0m \u001b[0;34m\u001b[0m\u001b[0m\n\u001b[0;32m--> 755\u001b[0;31m             retries = retries.increment(\n\u001b[0m\u001b[1;32m    756\u001b[0m                 \u001b[0mmethod\u001b[0m\u001b[0;34m,\u001b[0m \u001b[0murl\u001b[0m\u001b[0;34m,\u001b[0m \u001b[0merror\u001b[0m\u001b[0;34m=\u001b[0m\u001b[0me\u001b[0m\u001b[0;34m,\u001b[0m \u001b[0m_pool\u001b[0m\u001b[0;34m=\u001b[0m\u001b[0mself\u001b[0m\u001b[0;34m,\u001b[0m \u001b[0m_stacktrace\u001b[0m\u001b[0;34m=\u001b[0m\u001b[0msys\u001b[0m\u001b[0;34m.\u001b[0m\u001b[0mexc_info\u001b[0m\u001b[0;34m(\u001b[0m\u001b[0;34m)\u001b[0m\u001b[0;34m[\u001b[0m\u001b[0;36m2\u001b[0m\u001b[0;34m]\u001b[0m\u001b[0;34m\u001b[0m\u001b[0;34m\u001b[0m\u001b[0m\n",
      "\u001b[0;32m~/.pyenv/versions/3.8.6/lib/python3.8/site-packages/urllib3/util/retry.py\u001b[0m in \u001b[0;36mincrement\u001b[0;34m(self, method, url, response, error, _pool, _stacktrace)\u001b[0m\n\u001b[1;32m    572\u001b[0m         \u001b[0;32mif\u001b[0m \u001b[0mnew_retry\u001b[0m\u001b[0;34m.\u001b[0m\u001b[0mis_exhausted\u001b[0m\u001b[0;34m(\u001b[0m\u001b[0;34m)\u001b[0m\u001b[0;34m:\u001b[0m\u001b[0;34m\u001b[0m\u001b[0;34m\u001b[0m\u001b[0m\n\u001b[0;32m--> 573\u001b[0;31m             \u001b[0;32mraise\u001b[0m \u001b[0mMaxRetryError\u001b[0m\u001b[0;34m(\u001b[0m\u001b[0m_pool\u001b[0m\u001b[0;34m,\u001b[0m \u001b[0murl\u001b[0m\u001b[0;34m,\u001b[0m \u001b[0merror\u001b[0m \u001b[0;32mor\u001b[0m \u001b[0mResponseError\u001b[0m\u001b[0;34m(\u001b[0m\u001b[0mcause\u001b[0m\u001b[0;34m)\u001b[0m\u001b[0;34m)\u001b[0m\u001b[0;34m\u001b[0m\u001b[0;34m\u001b[0m\u001b[0m\n\u001b[0m\u001b[1;32m    574\u001b[0m \u001b[0;34m\u001b[0m\u001b[0m\n",
      "\u001b[0;31mMaxRetryError\u001b[0m: HTTPConnectionPool(host='in.internal.odahub.io', port=80): Max retries exceeded with url: /staging-1-3/dispatcher/api/par-names?instrument=isgri&product_type=isgri_image (Caused by NewConnectionError('<urllib3.connection.HTTPConnection object at 0x7f8434981eb0>: Failed to establish a new connection: [Errno 110] Connection timed out'))",
      "\nDuring handling of the above exception, another exception occurred:\n",
      "\u001b[0;31mConnectionError\u001b[0m                           Traceback (most recent call last)",
      "\u001b[0;32m<ipython-input-4-154dcbea1251>\u001b[0m in \u001b[0;36m<module>\u001b[0;34m\u001b[0m\n\u001b[1;32m     21\u001b[0m \u001b[0moda\u001b[0m \u001b[0;34m=\u001b[0m \u001b[0mget_oda\u001b[0m\u001b[0;34m(\u001b[0m\u001b[0;34m)\u001b[0m\u001b[0;34m\u001b[0m\u001b[0;34m\u001b[0m\u001b[0m\n\u001b[1;32m     22\u001b[0m \u001b[0;34m\u001b[0m\u001b[0m\n\u001b[0;32m---> 23\u001b[0;31m isgri_image = oda.get_product(\n\u001b[0m\u001b[1;32m     24\u001b[0m                \u001b[0minstrument\u001b[0m\u001b[0;34m=\u001b[0m\u001b[0;34m'isgri'\u001b[0m\u001b[0;34m,\u001b[0m\u001b[0;34m\u001b[0m\u001b[0;34m\u001b[0m\u001b[0m\n\u001b[1;32m     25\u001b[0m                \u001b[0mproduct\u001b[0m\u001b[0;34m=\u001b[0m\u001b[0;34m'isgri_image'\u001b[0m\u001b[0;34m,\u001b[0m\u001b[0;34m\u001b[0m\u001b[0;34m\u001b[0m\u001b[0m\n",
      "\u001b[0;32m~/.pyenv/versions/3.8.6/lib/python3.8/site-packages/oda_api/api.py\u001b[0m in \u001b[0;36mget_product\u001b[0;34m(self, product, instrument, verbose, dry_run, product_type, **kwargs)\u001b[0m\n\u001b[1;32m    641\u001b[0m         \u001b[0mkwargs\u001b[0m\u001b[0;34m[\u001b[0m\u001b[0;34m'dry_run'\u001b[0m\u001b[0;34m]\u001b[0m \u001b[0;34m=\u001b[0m \u001b[0mdry_run\u001b[0m\u001b[0;34m,\u001b[0m\u001b[0;34m\u001b[0m\u001b[0;34m\u001b[0m\u001b[0m\n\u001b[1;32m    642\u001b[0m \u001b[0;34m\u001b[0m\u001b[0m\n\u001b[0;32m--> 643\u001b[0;31m         \u001b[0mres\u001b[0m \u001b[0;34m=\u001b[0m \u001b[0mrequests\u001b[0m\u001b[0;34m.\u001b[0m\u001b[0mget\u001b[0m\u001b[0;34m(\u001b[0m\u001b[0;34m\"%s/api/par-names\"\u001b[0m \u001b[0;34m%\u001b[0m \u001b[0mself\u001b[0m\u001b[0;34m.\u001b[0m\u001b[0murl\u001b[0m\u001b[0;34m,\u001b[0m \u001b[0mparams\u001b[0m\u001b[0;34m=\u001b[0m\u001b[0mdict\u001b[0m\u001b[0;34m(\u001b[0m\u001b[0minstrument\u001b[0m\u001b[0;34m=\u001b[0m\u001b[0minstrument\u001b[0m\u001b[0;34m,\u001b[0m\u001b[0mproduct_type\u001b[0m\u001b[0;34m=\u001b[0m\u001b[0mproduct\u001b[0m\u001b[0;34m)\u001b[0m\u001b[0;34m,\u001b[0m \u001b[0mcookies\u001b[0m\u001b[0;34m=\u001b[0m\u001b[0mself\u001b[0m\u001b[0;34m.\u001b[0m\u001b[0mcookies\u001b[0m\u001b[0;34m)\u001b[0m\u001b[0;34m\u001b[0m\u001b[0;34m\u001b[0m\u001b[0m\n\u001b[0m\u001b[1;32m    644\u001b[0m \u001b[0;34m\u001b[0m\u001b[0m\n\u001b[1;32m    645\u001b[0m         \u001b[0;32mif\u001b[0m \u001b[0mres\u001b[0m\u001b[0;34m.\u001b[0m\u001b[0mstatus_code\u001b[0m \u001b[0;34m==\u001b[0m \u001b[0;36m200\u001b[0m\u001b[0;34m:\u001b[0m\u001b[0;34m\u001b[0m\u001b[0;34m\u001b[0m\u001b[0m\n",
      "\u001b[0;32m~/.pyenv/versions/3.8.6/lib/python3.8/site-packages/requests/api.py\u001b[0m in \u001b[0;36mget\u001b[0;34m(url, params, **kwargs)\u001b[0m\n\u001b[1;32m     74\u001b[0m \u001b[0;34m\u001b[0m\u001b[0m\n\u001b[1;32m     75\u001b[0m     \u001b[0mkwargs\u001b[0m\u001b[0;34m.\u001b[0m\u001b[0msetdefault\u001b[0m\u001b[0;34m(\u001b[0m\u001b[0;34m'allow_redirects'\u001b[0m\u001b[0;34m,\u001b[0m \u001b[0;32mTrue\u001b[0m\u001b[0;34m)\u001b[0m\u001b[0;34m\u001b[0m\u001b[0;34m\u001b[0m\u001b[0m\n\u001b[0;32m---> 76\u001b[0;31m     \u001b[0;32mreturn\u001b[0m \u001b[0mrequest\u001b[0m\u001b[0;34m(\u001b[0m\u001b[0;34m'get'\u001b[0m\u001b[0;34m,\u001b[0m \u001b[0murl\u001b[0m\u001b[0;34m,\u001b[0m \u001b[0mparams\u001b[0m\u001b[0;34m=\u001b[0m\u001b[0mparams\u001b[0m\u001b[0;34m,\u001b[0m \u001b[0;34m**\u001b[0m\u001b[0mkwargs\u001b[0m\u001b[0;34m)\u001b[0m\u001b[0;34m\u001b[0m\u001b[0;34m\u001b[0m\u001b[0m\n\u001b[0m\u001b[1;32m     77\u001b[0m \u001b[0;34m\u001b[0m\u001b[0m\n\u001b[1;32m     78\u001b[0m \u001b[0;34m\u001b[0m\u001b[0m\n",
      "\u001b[0;32m~/.pyenv/versions/3.8.6/lib/python3.8/site-packages/requests/api.py\u001b[0m in \u001b[0;36mrequest\u001b[0;34m(method, url, **kwargs)\u001b[0m\n\u001b[1;32m     59\u001b[0m     \u001b[0;31m# cases, and look like a memory leak in others.\u001b[0m\u001b[0;34m\u001b[0m\u001b[0;34m\u001b[0m\u001b[0;34m\u001b[0m\u001b[0m\n\u001b[1;32m     60\u001b[0m     \u001b[0;32mwith\u001b[0m \u001b[0msessions\u001b[0m\u001b[0;34m.\u001b[0m\u001b[0mSession\u001b[0m\u001b[0;34m(\u001b[0m\u001b[0;34m)\u001b[0m \u001b[0;32mas\u001b[0m \u001b[0msession\u001b[0m\u001b[0;34m:\u001b[0m\u001b[0;34m\u001b[0m\u001b[0;34m\u001b[0m\u001b[0m\n\u001b[0;32m---> 61\u001b[0;31m         \u001b[0;32mreturn\u001b[0m \u001b[0msession\u001b[0m\u001b[0;34m.\u001b[0m\u001b[0mrequest\u001b[0m\u001b[0;34m(\u001b[0m\u001b[0mmethod\u001b[0m\u001b[0;34m=\u001b[0m\u001b[0mmethod\u001b[0m\u001b[0;34m,\u001b[0m \u001b[0murl\u001b[0m\u001b[0;34m=\u001b[0m\u001b[0murl\u001b[0m\u001b[0;34m,\u001b[0m \u001b[0;34m**\u001b[0m\u001b[0mkwargs\u001b[0m\u001b[0;34m)\u001b[0m\u001b[0;34m\u001b[0m\u001b[0;34m\u001b[0m\u001b[0m\n\u001b[0m\u001b[1;32m     62\u001b[0m \u001b[0;34m\u001b[0m\u001b[0m\n\u001b[1;32m     63\u001b[0m \u001b[0;34m\u001b[0m\u001b[0m\n",
      "\u001b[0;32m~/.pyenv/versions/3.8.6/lib/python3.8/site-packages/requests/sessions.py\u001b[0m in \u001b[0;36mrequest\u001b[0;34m(self, method, url, params, data, headers, cookies, files, auth, timeout, allow_redirects, proxies, hooks, stream, verify, cert, json)\u001b[0m\n\u001b[1;32m    540\u001b[0m         }\n\u001b[1;32m    541\u001b[0m         \u001b[0msend_kwargs\u001b[0m\u001b[0;34m.\u001b[0m\u001b[0mupdate\u001b[0m\u001b[0;34m(\u001b[0m\u001b[0msettings\u001b[0m\u001b[0;34m)\u001b[0m\u001b[0;34m\u001b[0m\u001b[0;34m\u001b[0m\u001b[0m\n\u001b[0;32m--> 542\u001b[0;31m         \u001b[0mresp\u001b[0m \u001b[0;34m=\u001b[0m \u001b[0mself\u001b[0m\u001b[0;34m.\u001b[0m\u001b[0msend\u001b[0m\u001b[0;34m(\u001b[0m\u001b[0mprep\u001b[0m\u001b[0;34m,\u001b[0m \u001b[0;34m**\u001b[0m\u001b[0msend_kwargs\u001b[0m\u001b[0;34m)\u001b[0m\u001b[0;34m\u001b[0m\u001b[0;34m\u001b[0m\u001b[0m\n\u001b[0m\u001b[1;32m    543\u001b[0m \u001b[0;34m\u001b[0m\u001b[0m\n\u001b[1;32m    544\u001b[0m         \u001b[0;32mreturn\u001b[0m \u001b[0mresp\u001b[0m\u001b[0;34m\u001b[0m\u001b[0;34m\u001b[0m\u001b[0m\n",
      "\u001b[0;32m~/.pyenv/versions/3.8.6/lib/python3.8/site-packages/requests/sessions.py\u001b[0m in \u001b[0;36msend\u001b[0;34m(self, request, **kwargs)\u001b[0m\n\u001b[1;32m    653\u001b[0m \u001b[0;34m\u001b[0m\u001b[0m\n\u001b[1;32m    654\u001b[0m         \u001b[0;31m# Send the request\u001b[0m\u001b[0;34m\u001b[0m\u001b[0;34m\u001b[0m\u001b[0;34m\u001b[0m\u001b[0m\n\u001b[0;32m--> 655\u001b[0;31m         \u001b[0mr\u001b[0m \u001b[0;34m=\u001b[0m \u001b[0madapter\u001b[0m\u001b[0;34m.\u001b[0m\u001b[0msend\u001b[0m\u001b[0;34m(\u001b[0m\u001b[0mrequest\u001b[0m\u001b[0;34m,\u001b[0m \u001b[0;34m**\u001b[0m\u001b[0mkwargs\u001b[0m\u001b[0;34m)\u001b[0m\u001b[0;34m\u001b[0m\u001b[0;34m\u001b[0m\u001b[0m\n\u001b[0m\u001b[1;32m    656\u001b[0m \u001b[0;34m\u001b[0m\u001b[0m\n\u001b[1;32m    657\u001b[0m         \u001b[0;31m# Total elapsed time of the request (approximately)\u001b[0m\u001b[0;34m\u001b[0m\u001b[0;34m\u001b[0m\u001b[0;34m\u001b[0m\u001b[0m\n",
      "\u001b[0;32m~/.pyenv/versions/3.8.6/lib/python3.8/site-packages/requests/adapters.py\u001b[0m in \u001b[0;36msend\u001b[0;34m(self, request, stream, timeout, verify, cert, proxies)\u001b[0m\n\u001b[1;32m    514\u001b[0m                 \u001b[0;32mraise\u001b[0m \u001b[0mSSLError\u001b[0m\u001b[0;34m(\u001b[0m\u001b[0me\u001b[0m\u001b[0;34m,\u001b[0m \u001b[0mrequest\u001b[0m\u001b[0;34m=\u001b[0m\u001b[0mrequest\u001b[0m\u001b[0;34m)\u001b[0m\u001b[0;34m\u001b[0m\u001b[0;34m\u001b[0m\u001b[0m\n\u001b[1;32m    515\u001b[0m \u001b[0;34m\u001b[0m\u001b[0m\n\u001b[0;32m--> 516\u001b[0;31m             \u001b[0;32mraise\u001b[0m \u001b[0mConnectionError\u001b[0m\u001b[0;34m(\u001b[0m\u001b[0me\u001b[0m\u001b[0;34m,\u001b[0m \u001b[0mrequest\u001b[0m\u001b[0;34m=\u001b[0m\u001b[0mrequest\u001b[0m\u001b[0;34m)\u001b[0m\u001b[0;34m\u001b[0m\u001b[0;34m\u001b[0m\u001b[0m\n\u001b[0m\u001b[1;32m    517\u001b[0m \u001b[0;34m\u001b[0m\u001b[0m\n\u001b[1;32m    518\u001b[0m         \u001b[0;32mexcept\u001b[0m \u001b[0mClosedPoolError\u001b[0m \u001b[0;32mas\u001b[0m \u001b[0me\u001b[0m\u001b[0;34m:\u001b[0m\u001b[0;34m\u001b[0m\u001b[0;34m\u001b[0m\u001b[0m\n",
      "\u001b[0;31mConnectionError\u001b[0m: HTTPConnectionPool(host='in.internal.odahub.io', port=80): Max retries exceeded with url: /staging-1-3/dispatcher/api/par-names?instrument=isgri&product_type=isgri_image (Caused by NewConnectionError('<urllib3.connection.HTTPConnection object at 0x7f8434981eb0>: Failed to establish a new connection: [Errno 110] Connection timed out'))"
     ]
    }
   ],
   "source": [
    "import time\n",
    "\n",
    "import logging\n",
    "logging.basicConfig(level='INFO')\n",
    "logging.getLogger(\"oda_api\").setLevel('INFO')\n",
    "\n",
    "import oda_api.api\n",
    "\n",
    "\n",
    "def get_oda(version=\"1.3\"):\n",
    "    return oda_api.api.DispatcherAPI(url={\n",
    "                                \"1.3\": \"http://in.internal.odahub.io/staging-1-3/dispatcher\",\n",
    "                                \"1.2\": \"http://in.internal.odahub.io/staging-1.2/dispatcher\",\n",
    "                            }[version],\n",
    "#                          cookies={\n",
    "#                              \"_oauth2_proxy\": subprocess.check_output([\"pass\", \"_oauth2_proxy\"]).decode().strip()\n",
    "#                          },\n",
    "                          wait=True,\n",
    "                         )\n",
    "\n",
    "oda = get_oda()\n",
    "\n",
    "isgri_image = oda.get_product(\n",
    "               instrument='isgri', \n",
    "               product='isgri_image',    \n",
    "               E1_keV=25,\n",
    "               E2_keV=80,\n",
    "               osa_version=\"OSA10.2\",\n",
    "               scw_list=\"066500220010.001\",\n",
    "            )\n",
    "\n",
    "jemx_image = get_oda(\"1.2\").get_product(\n",
    "               instrument='jemx', \n",
    "               product='jemx_image',    \n",
    "               E1_keV=25,\n",
    "               E2_keV=80,\n",
    "               osa_version=\"OSA10.2\",\n",
    "               scw_list=\"066500220010.001\",\n",
    "            )"
   ]
  },
  {
   "cell_type": "code",
   "execution_count": null,
   "id": "collaborative-scholar",
   "metadata": {},
   "outputs": [],
   "source": [
    "import astropy.io.fits as fits\n",
    "from astropy import wcs\n",
    "import numpy as np\n",
    "\n",
    "\n",
    "jemx_image = fits.open(\"/mnt/sshfs/isdc/unsaved/astro/savchenk/data/reduced/ddcache/byscw/2077/207700740010.000/jemx_image.v2.2.1/JEMX.v0.jmx1/5cf19168/jmx1_sky_ima.fits.gz\")[2]\n",
    "jemx_var = jemx_image.data\n",
    "\n",
    "isgri_image = fits.open(\"/mnt/sshfs/isdc/unsaved/astro/savchenk/data/reduced/ddcache/byscw/2077/207700740010.000/ii_skyimage.v2/3d87cb36/isgri_sky_ima.fits.gz\")[3]\n",
    "isgri_image.data.max()"
   ]
  },
  {
   "cell_type": "code",
   "execution_count": null,
   "id": "simple-anchor",
   "metadata": {},
   "outputs": [],
   "source": [
    "\n",
    "jemx_wcs = wcs.WCS(jemx_image.header)\n",
    "jemx_wcs.low_level_wcs\n",
    "\n",
    "jemx_deg_per_pix = np.linalg.eigvals(jemx_wcs.wcs.cd)[0]"
   ]
  },
  {
   "cell_type": "code",
   "execution_count": null,
   "id": "shared-gender",
   "metadata": {},
   "outputs": [],
   "source": [
    "jemx_deg_per_pix\n",
    "\n",
    "j_i, j_j = np.meshgrid(np.arange(jemx_var.data.shape[0]), np.arange(jemx_var.data.shape[1]))"
   ]
  },
  {
   "cell_type": "code",
   "execution_count": null,
   "id": "relevant-triple",
   "metadata": {},
   "outputs": [],
   "source": [
    "import scipy as sp\n",
    "import scipy.ndimage as ndimage\n",
    "\n",
    "jemx_var_sm = ndimage.filters.gaussian_filter(jemx_var, 1)"
   ]
  },
  {
   "cell_type": "code",
   "execution_count": null,
   "id": "photographic-diameter",
   "metadata": {},
   "outputs": [],
   "source": [
    "plt.figure()\n",
    "\n",
    "_ = plt.hist(jemx_var.flatten()**0.5, np.linspace(1e-5, 1e-3, 100))"
   ]
  },
  {
   "cell_type": "code",
   "execution_count": null,
   "id": "adjustable-allergy",
   "metadata": {},
   "outputs": [],
   "source": [
    "plt.figure(figsize=(10,10))\n",
    "\n",
    "#isgri_var = isgri_image.mosaic_image_0_mosaic.to_fits_hdu_list()[3].data\n",
    "\n",
    "j_i, j_j = np.meshgrid(np.arange(jemx_var.data.shape[0]), np.arange(jemx_var.data.shape[1]))\n",
    "\n",
    "plt.contourf(\n",
    "    (j_i - np.mean(j_i)) * jemx_deg_per_pix,\n",
    "    (j_j - np.mean(j_j)) * jemx_deg_per_pix,\n",
    "    (jemx_var_sm/np.nanmin(jemx_var_sm))**0.5,\n",
    "    levels=(1, 1/0.5, 1/0.25, 1/0.1)\n",
    ")\n"
   ]
  },
  {
   "cell_type": "code",
   "execution_count": null,
   "id": "matched-brook",
   "metadata": {},
   "outputs": [],
   "source": [
    "plt.figure(figsize=(10,10))\n",
    "\n",
    "isgri_var = isgri_image.data[:,:]\n",
    "\n",
    "isgri_var[np.isnan(isgri_var)] = 1e9\n",
    "isgri_var[isgri_var == 0] = 1e9\n",
    "\n",
    "isgri_wcs = wcs.WCS(isgri_image.header)\n",
    "isgri_wcs.low_level_wcs\n",
    "\n",
    "isgri_deg_per_pix = np.linalg.eigvals(isgri_wcs.wcs.cd)[0]\n",
    "\n",
    "i_i, i_j = np.meshgrid(np.arange(isgri_var.data.shape[0]), np.arange(isgri_var.data.shape[1]))\n",
    "\n",
    "\n",
    "plt.contourf(\n",
    "    (i_i - np.mean(i_i)) * isgri_deg_per_pix,\n",
    "    (i_j - np.mean(i_j)) * isgri_deg_per_pix,\n",
    "    (isgri_var/np.nanmin(isgri_var))**0.5,\n",
    "    levels=(0, 0.5, 2),\n",
    "    #levels=(0, 0.5, 1., 1/0.5, 1/0.25, 1/0.1)\n",
    ")\n"
   ]
  },
  {
   "cell_type": "code",
   "execution_count": null,
   "id": "integrated-explanation",
   "metadata": {},
   "outputs": [],
   "source": [
    "plt.figure()\n",
    "\n",
    "plt.hist(\n",
    "    R['Jupiter_from_sc_x_deg'], np.linspace(0, 10), cumulative=1, alpha=0.5)\n",
    "\n",
    "plt.ylabel('pointings within radius')\n",
    "\n",
    "plt\n",
    "\n",
    "plt.axvline(3/2., label='JEMX \"fully illuminated\"', c='r')\n",
    "plt.axvline(8./2., label='ISGRI fully coded', c='g')\n",
    "\n",
    "plt.axvline(4.8, label='JEMX \"part illuminated\"', c='r', ls='--')\n",
    "plt.axvline(8., label='ISGRI part coded', c='g', ls='--')\n",
    "\n",
    "\n",
    "plt.grid()\n",
    "\n",
    "plt.legend()\n",
    "\n",
    "plt.xlabel(\"deg from Jupiter\")\n",
    "\n",
    "plt.savefig(\"jupiter-pointings.png\")"
   ]
  },
  {
   "cell_type": "code",
   "execution_count": 270,
   "id": "greenhouse-defensive",
   "metadata": {},
   "outputs": [],
   "source": [
    "h0 = np.histogram(\n",
    "    SkyCoord(R['RA_X'], R['DEC_X'], unit='deg').separation(SkyCoord(10,20, unit='deg')).deg, np.linspace(0, 10))\n"
   ]
  },
  {
   "cell_type": "code",
   "execution_count": 272,
   "id": "engaging-death",
   "metadata": {},
   "outputs": [
    {
     "name": "stderr",
     "output_type": "stream",
     "text": [
      "<ipython-input-272-74c5d64f4fbf>:10: RuntimeWarning: invalid value encountered in true_divide\n",
      "  (np.cumsum(h[0]) - np.cumsum(h[0])**0.5) / h[1][:-1]**2,\n",
      "<ipython-input-272-74c5d64f4fbf>:11: RuntimeWarning: invalid value encountered in true_divide\n",
      "  (np.cumsum(h[0]) + np.cumsum(h[0])**0.5) / h[1][:-1]**2,\n",
      "<ipython-input-272-74c5d64f4fbf>:19: RuntimeWarning: invalid value encountered in true_divide\n",
      "  100*(np.cumsum(h0[0]) - np.cumsum(h0[0])**0.5) / h0[1][:-1]**2,\n",
      "<ipython-input-272-74c5d64f4fbf>:20: RuntimeWarning: invalid value encountered in true_divide\n",
      "  100*(np.cumsum(h0[0]) + np.cumsum(h0[0])**0.5) / h0[1][:-1]**2,\n"
     ]
    },
    {
     "data": {
      "text/plain": [
       "Text(0.5, 0, 'deg from Jupiter')"
      ]
     },
     "execution_count": 272,
     "metadata": {},
     "output_type": "execute_result"
    },
    {
     "data": {
      "image/png": "[encoded data removed]",
      "text/plain": [
       "<Figure size 432x288 with 1 Axes>"
      ]
     },
     "metadata": {
      "needs_background": "light"
     },
     "output_type": "display_data"
    }
   ],
   "source": [
    "plt.figure()\n",
    "\n",
    "h = np.histogram(\n",
    "    R['Jupiter_from_sc_x_deg'], np.linspace(0, 10))\n",
    "\n",
    "plt.ylabel('pointings within radius')\n",
    "\n",
    "plt.fill_between(\n",
    "    h[1][:-1],\n",
    "    (np.cumsum(h[0]) - np.cumsum(h[0])**0.5) / h[1][:-1]**2,\n",
    "    (np.cumsum(h[0]) + np.cumsum(h[0])**0.5) / h[1][:-1]**2,\n",
    "    alpha=0.3\n",
    ")\n",
    "\n",
    "\n",
    "\n",
    "plt.ylim([0,30])\n",
    "\n",
    "plt.axvline(4.8, label='JEMX \"fully illuminated\"', c='r')\n",
    "plt.axvline(8., label='ISGRI fully coded', c='g')\n",
    "\n",
    "plt.grid()\n",
    "\n",
    "plt.legend()\n",
    "\n",
    "plt.xlabel(\"deg from Jupiter\")\n"
   ]
  },
  {
   "cell_type": "code",
   "execution_count": null,
   "id": "afraid-southeast",
   "metadata": {},
   "outputs": [],
   "source": [
    "isgri_sensitivity_25_80_keV_1sigma_2ks = 1e-8 * u.erg/u.cm**2/u.s * (1./200.) # 200 sigma in a pointing\n",
    "\n",
    "\n",
    "def total_sensitivity(body_name, lim_deg=10):\n",
    "    sep = R[body_name+\"_from_sc_x_deg\"].astype(float)\n",
    "    distance_cm = R[body_name+\"_distance_cm\"].astype(float)\n",
    "    m = sep < lim_deg    \n",
    "    \n",
    "    sens = np.array(((distance_cm[m] * u.cm)**2 * isgri_sensitivity_25_80_keV_1sigma_2ks * (R['GOOD_ISGRI'][m].astype(float)/2000)**0.5)).to(u.erg/u.s)\n",
    "\n",
    "    sens_combined = np.sum((sens**-2))**-0.5 # weighed mean uncertainty\n",
    "\n",
    "    return dict(\n",
    "        lum_sens_total=sens_combined,\n",
    "        lum_reference=reference_object_erg_s[body_name]*u.erg/u.s,\n",
    "    )\n",
    "        \n",
    "    \n",
    "print(total_sensitivity('Jupiter'))\n",
    "print(total_sensitivity('Venus'))\n"
   ]
  },
  {
   "cell_type": "code",
   "execution_count": 29,
   "id": "personalized-packing",
   "metadata": {},
   "outputs": [
    {
     "data": {
      "text/latex": [
       "$5.5 \\times 10^{14} \\; \\mathrm{\\frac{erg}{s}}$"
      ],
      "text/plain": [
       "<Quantity 5.5e+14 erg / s>"
      ]
     },
     "execution_count": 29,
     "metadata": {},
     "output_type": "execute_result"
    }
   ],
   "source": [
    "# https://arxiv.org/pdf/1012.1088.pdf claims Venus X-ray luminosity could be :\n",
    "\n",
    "(55*u.MW).to(u.erg/u.s)\n",
    "\n",
    "# they also claim that only Chandra could do it. Of course, INTEGRAL can also! Even if not formally. But actually she already did it."
   ]
  },
  {
   "cell_type": "code",
   "execution_count": 763,
   "id": "numeric-chemistry",
   "metadata": {},
   "outputs": [
    {
     "data": {
      "text/latex": [
       "$5.5 \\times 10^{14} \\; \\mathrm{\\frac{erg}{s}}$"
      ],
      "text/plain": [
       "<Quantity 5.5e+14 erg / s>"
      ]
     },
     "execution_count": 763,
     "metadata": {},
     "output_type": "execute_result"
    }
   ],
   "source": [
    "# heasarc claims\n",
    "\n",
    "reference_object_erg_s['Venus']*u.erg/u.s "
   ]
  },
  {
   "cell_type": "code",
   "execution_count": 789,
   "id": "strong-encounter",
   "metadata": {},
   "outputs": [
    {
     "data": {
      "text/html": [
       "&lt;Column name=&apos;SCW_ID&apos; dtype=&apos;str12&apos; length=81&gt;\n",
       "<table>\n",
       "<tr><td>022500150010</td></tr>\n",
       "<tr><td>036900690010</td></tr>\n",
       "<tr><td>036900700010</td></tr>\n",
       "<tr><td>036900710010</td></tr>\n",
       "<tr><td>037000660010</td></tr>\n",
       "<tr><td>037000670010</td></tr>\n",
       "<tr><td>037000680010</td></tr>\n",
       "<tr><td>037000690010</td></tr>\n",
       "<tr><td>037000700010</td></tr>\n",
       "<tr><td>037000710010</td></tr>\n",
       "<tr><td>037000720010</td></tr>\n",
       "<tr><td>116000560010</td></tr>\n",
       "<tr><td>...</td></tr>\n",
       "<tr><td>134800190010</td></tr>\n",
       "<tr><td>134800200010</td></tr>\n",
       "<tr><td>134800210010</td></tr>\n",
       "<tr><td>134800220010</td></tr>\n",
       "<tr><td>198300100010</td></tr>\n",
       "<tr><td>198300110010</td></tr>\n",
       "<tr><td>198300130010</td></tr>\n",
       "<tr><td>198300140010</td></tr>\n",
       "<tr><td>205600100010</td></tr>\n",
       "<tr><td>205600110010</td></tr>\n",
       "<tr><td>205600360010</td></tr>\n",
       "<tr><td>205600370010</td></tr>\n",
       "</table>"
      ],
      "text/plain": [
       "<Column name='SCW_ID' dtype='str12' length=81>\n",
       "022500150010\n",
       "036900690010\n",
       "036900700010\n",
       "036900710010\n",
       "037000660010\n",
       "037000670010\n",
       "037000680010\n",
       "037000690010\n",
       "037000700010\n",
       "037000710010\n",
       "037000720010\n",
       "116000560010\n",
       "         ...\n",
       "134800190010\n",
       "134800200010\n",
       "134800210010\n",
       "134800220010\n",
       "198300100010\n",
       "198300110010\n",
       "198300130010\n",
       "198300140010\n",
       "205600100010\n",
       "205600110010\n",
       "205600360010\n",
       "205600370010"
      ]
     },
     "execution_count": 789,
     "metadata": {},
     "output_type": "execute_result"
    }
   ],
   "source": [
    "R['SCW_ID'][R['Venus_from_sc_x_deg']<10]"
   ]
  },
  {
   "cell_type": "code",
   "execution_count": null,
   "id": "physical-korea",
   "metadata": {},
   "outputs": [],
   "source": [
    "plt.figure(figsize=(12,10))\n",
    "\n",
    "def split_segments(ijd, limit=60):\n",
    "    if len(ijd) == 0:\n",
    "        return []\n",
    "    \n",
    "    d_ijd = ijd[1:] - ijd[:-1]\n",
    "    \n",
    "    m_change_points = d_ijd > limit\n",
    "    \n",
    "    change_points = [ijd[0]] + list(ijd[:-1][m_change_points]) + [ijd[-1]]\n",
    "    \n",
    "    segments = []\n",
    "    \n",
    "    for i1,i2 in zip(change_points[:-1], change_points[1:]):\n",
    "        segments.append(\n",
    "            (ijd > i1) & (ijd < i2)\n",
    "        )\n",
    "    \n",
    "    return segments\n",
    "    \n",
    "for m_segment in split_segments(R['IJD_START'][m_sun_angle].astype(float)):\n",
    "    plt.plot(\n",
    "        T[m_sun_angle][m_segment],\n",
    "        R['Sun_distance_cm'][m_sun_angle][m_segment],\n",
    "        lw=3,\n",
    "        c='r'\n",
    "    )"
   ]
  },
  {
   "cell_type": "code",
   "execution_count": null,
   "id": "enhanced-timer",
   "metadata": {},
   "outputs": [],
   "source": [
    "# jupiter is best but has tons of observations"
   ]
  },
  {
   "cell_type": "code",
   "execution_count": null,
   "id": "accredited-reliance",
   "metadata": {},
   "outputs": [],
   "source": [
    "# venus has no MF, but\n",
    "# despite what is claimed, INTEGRAL can too\n",
    "# https://arxiv.org/pdf/1012.1088.pdf\n",
    "\n",
    "# if there is a flare when observation is possible, it would be nice to observe for a week, could be detection"
   ]
  },
  {
   "cell_type": "code",
   "execution_count": 276,
   "id": "multiple-appreciation",
   "metadata": {},
   "outputs": [
    {
     "name": "stderr",
     "output_type": "stream",
     "text": [
      "2021-03-24 19:54:15 savchenk-NG-VN7-793G-79EG root[1743133] INFO url https://www.astro.unige.ch/cdci/astrooda/dispatch-data/gw//timesystem/api/v1.0/converttime/IJD/5041.5211700300997109/UTC\n"
     ]
    },
    {
     "name": "stdout",
     "output_type": "stream",
     "text": [
      "5037.8197997775305 5044.493882091212\n"
     ]
    },
    {
     "name": "stderr",
     "output_type": "stream",
     "text": [
      "2021-03-24 19:54:15 savchenk-NG-VN7-793G-79EG root[1743133] INFO url https://www.astro.unige.ch/cdci/astrooda/dispatch-data/gw//timesystem/api/v1.0/converttime/IJD/5044.4926764766796623/UTC\n",
      "2021-03-24 19:54:15 savchenk-NG-VN7-793G-79EG root[1743133] INFO url https://www.astro.unige.ch/cdci/astrooda/dispatch-data/gw//timesystem/api/v1.0/converttime/IJD/5041.5211700300997109/SCWID\n",
      "2021-03-24 19:54:16 savchenk-NG-VN7-793G-79EG root[1743133] INFO url https://www.astro.unige.ch/cdci/astrooda/dispatch-data/gw//timesystem/api/v1.0/converttime/IJD/5044.4926764766796623/SCWID\n",
      "2021-03-24 19:54:18 savchenk-NG-VN7-793G-79EG root[1743133] INFO url https://www.astro.unige.ch/cdci/astrooda/dispatch-data/gw//timesystem/api/v1.0/converttime/IJD/5037.8197997775305339/UTC\n",
      "2021-03-24 19:54:18 savchenk-NG-VN7-793G-79EG root[1743133] INFO url https://www.astro.unige.ch/cdci/astrooda/dispatch-data/gw//timesystem/api/v1.0/converttime/IJD/5044.4938820912120718/UTC\n"
     ]
    },
    {
     "name": "stdout",
     "output_type": "stream",
     "text": [
      "2013-10-16T19:39:23.516\n",
      "2013-10-23T11:50:04.228\n"
     ]
    },
    {
     "data": {
      "image/png": "[encoded data removed]",
      "text/plain": [
       "<Figure size 720x720 with 1 Axes>"
      ]
     },
     "metadata": {
      "needs_background": "light"
     },
     "output_type": "display_data"
    }
   ],
   "source": [
    "#from matplotlib import cmap \n",
    "plt.figure(figsize=(10,10))\n",
    "\n",
    "#Venus\n",
    "#C_future = get_body_coord_astropy_future(body_name)\n",
    "\n",
    "m = R.Venus_from_sc_x_deg < 10\n",
    "\n",
    "h = np.histogram(R['IJD_START'][m].astype(float), np.linspace(1000, 7000, 900))\n",
    "i = h[0].argsort()[-2]\n",
    "\n",
    "print(h[1][i], h[1][i+1])\n",
    "\n",
    "ijd = R['IJD_START'][m].astype(float)\n",
    "\n",
    "m &= ijd > h[1][i]\n",
    "m &= ijd < h[1][i+1]\n",
    "\n",
    "ra, dec= R.Venus_ra[m].astype(float),  R.Venus_dec[m].astype(float)\n",
    "\n",
    "\n",
    "a_ra = np.linspace(np.mean(ra)-40, np.mean(ra)+40, 80)\n",
    "a_dec = np.linspace(np.mean(dec)-40, np.mean(dec)+40, 80)\n",
    "\n",
    "g_ra, g_dec = np.meshgrid(\n",
    "    a_ra,\n",
    "    a_dec,\n",
    ")\n",
    "\n",
    "g_coord = SkyCoord(g_ra, g_dec, unit=\"deg\")\n",
    "sun_distance_deg_first = g_coord.separation(Sun_coord[m][0]).deg\n",
    "sun_distance_deg_last = g_coord.separation(Sun_coord[m][-1]).deg\n",
    "\n",
    "sun_map = (sun_distance_deg_first > 40.).astype(float)\n",
    "sun_map += (sun_distance_deg_first > 50.).astype(float)\n",
    "\n",
    "sun_map += (sun_distance_deg_last > 40.).astype(float)\n",
    "sun_map += (sun_distance_deg_last > 50.).astype(float)\n",
    "\n",
    "plt.contourf(\n",
    "    g_ra,\n",
    "    g_dec,\n",
    "    sun_distance_deg_first,\n",
    "    levels=[0, 40],\n",
    "    alpha=0.3\n",
    ")\n",
    "plt.contourf(\n",
    "    g_ra,\n",
    "    g_dec,\n",
    "    sun_distance_deg_first,\n",
    "    levels=[0, 50],\n",
    "    alpha=0.3\n",
    ")\n",
    "plt.contourf(\n",
    "    g_ra,\n",
    "    g_dec,\n",
    "    sun_distance_deg_last,\n",
    "    levels=[0, 40],\n",
    "    alpha=0.3\n",
    ")\n",
    "plt.contourf(\n",
    "    g_ra,\n",
    "    g_dec,\n",
    "    sun_distance_deg_last,\n",
    "    levels=[0, 50],\n",
    "    alpha=0.3\n",
    ")\n",
    "\n",
    "\n",
    "plt.scatter(\n",
    "    ra, dec,\n",
    "    label=\"Venus\"\n",
    ")\n",
    "\n",
    "sc_ra, sc_dec = R['RA_X'][m].astype(float), R['DEC_X'][m].astype(float)\n",
    "\n",
    "plt.scatter(\n",
    "    sc_ra, sc_dec,\n",
    "    label=\"SC X\"\n",
    ")\n",
    "\n",
    "plt.ylim()\n",
    "\n",
    "\n",
    "plt.xlim([np.mean(ra)-15, np.mean(ra)+15])\n",
    "plt.ylim([np.mean(dec)-15, np.mean(dec)+15])\n",
    "\n",
    "plt.title(f\"{ijd[m].min()} - {ijd[m].max()}\\n\" + \\\n",
    "          ic.converttime(\"IJD\", f\"{ijd[m].min():.20g}\", \"UTC\") + \" - \" + ic.converttime(\"IJD\", f\"{ijd[m].max():.20g}\", \"UTC\") + \"\\n\" + \\\n",
    "          ic.converttime(\"IJD\", f\"{ijd[m].min():.20g}\", \"SCWID\") + \" - \" + ic.converttime(\"IJD\", f\"{ijd[m].max():.20g}\", \"SCWID\") + \"\\n\", \n",
    "          font_properties=font_prop)\n",
    "\n",
    "plt.contourf(\n",
    "    g_ra,\n",
    "    g_dec,\n",
    "    SkyCoord(np.mean(sc_ra), np.mean(sc_dec), unit='deg').separation(g_coord).deg,\n",
    "    levels=[0, 8, 15],\n",
    "    cmap=\"autumn\",    \n",
    "    alpha=0.2,\n",
    ")\n",
    "\n",
    "plt.xlabel(\"RA\", font_properties=font_prop)\n",
    "plt.xlabel(\"Dec\", font_properties=font_prop)\n",
    "\n",
    "#plt.xlim()\n",
    "\n",
    "print(ic.converttime(\"IJD\", f\"{h[1][i]:.20g}\", \"UTC\"))\n",
    "print(ic.converttime(\"IJD\", f\"{h[1][i+1]:.20g}\", \"UTC\"))\n",
    "\n",
    "ax=plt.gca()\n",
    "ax.tick_params(axis='x', labelsize=18)\n",
    "ax.tick_params(axis='y', labelsize=18)\n",
    "ax.tick_params(which='major', width=1.5, length=7)\n",
    "ax.tick_params(which='minor', width=1.5, length=4)\n",
    "\n",
    "plt.text(np.mean(ra)-12,\n",
    "         np.mean(dec)-12,\n",
    "         \"grades of blue, from darker to lighter:\\nsun < 40 deg all the time\\nsun < 40 deg at least some time\" + \\\n",
    "         \"\\nsun < 50 deg all the time\\nsun < 50 deg at least some time\",     \n",
    "         font_properties=font_prop, color=\"darkblue\")\n",
    "\n",
    "plt.text(np.mean(ra)+1,\n",
    "         np.mean(dec)+10,\n",
    "         \"grades of orange\\nfrom darker to lighter:\\n\" + \\\n",
    "         \"\\nmean SCX < 8 deg\\nmean SCX < 16 deg\",     \n",
    "         font_properties=font_prop, color=\"darkorange\")\n",
    "\n",
    "plt.legend()\n",
    "\n",
    "plt.savefig(\"venus-in-sgr-oct2013.png\")"
   ]
  },
  {
   "cell_type": "code",
   "execution_count": 215,
   "id": "danish-chair",
   "metadata": {},
   "outputs": [
    {
     "name": "stderr",
     "output_type": "stream",
     "text": [
      "2021-03-19 16:26:49 savchenk-NG-VN7-793G-79EG root[1743133] INFO url https://www.astro.unige.ch/cdci/astrooda/dispatch-data/gw//timesystem/api/v1.0/converttime/IJD/5041.5211700300997109/SCWID\n"
     ]
    },
    {
     "data": {
      "text/plain": [
       "'134500820021'"
      ]
     },
     "execution_count": 215,
     "metadata": {},
     "output_type": "execute_result"
    }
   ],
   "source": [
    "ic.converttime(\"IJD\", f\"{ijd[m].min():.20g}\", \"SCWID\")"
   ]
  },
  {
   "cell_type": "code",
   "execution_count": 300,
   "id": "combined-tracy",
   "metadata": {},
   "outputs": [],
   "source": [
    "def toau(x):\n",
    "    return (np.array(x.astype(float)) * u.cm).to(u.au).value"
   ]
  },
  {
   "cell_type": "code",
   "execution_count": 307,
   "id": "federal-holmes",
   "metadata": {},
   "outputs": [
    {
     "data": {
      "text/plain": [
       "0         20.280395\n",
       "1         20.104897\n",
       "2         20.098546\n",
       "3         20.092123\n",
       "4         20.085820\n",
       "            ...    \n",
       "160548    92.881281\n",
       "160549    93.164473\n",
       "160550    93.437015\n",
       "160551    93.707810\n",
       "160552    95.841704\n",
       "Name: Jupiter_from_sc_x_deg, Length: 160553, dtype: float64"
      ]
     },
     "execution_count": 307,
     "metadata": {},
     "output_type": "execute_result"
    }
   ],
   "source": [
    "R.Jupiter_from_sc_x_deg "
   ]
  },
  {
   "cell_type": "code",
   "execution_count": 314,
   "id": "helpful-width",
   "metadata": {},
   "outputs": [
    {
     "data": {
      "text/plain": [
       "<matplotlib.legend.Legend at 0x7ff2a23b1cd0>"
      ]
     },
     "execution_count": 314,
     "metadata": {},
     "output_type": "execute_result"
    },
    {
     "data": {
      "image/png": "[encoded data removed]",
      "text/plain": [
       "<Figure size 432x288 with 1 Axes>"
      ]
     },
     "metadata": {
      "needs_background": "light"
     },
     "output_type": "display_data"
    }
   ],
   "source": [
    "plt.figure()\n",
    "\n",
    "m = R.Jupiter_from_sc_x_deg < 10\n",
    "h = plt.hist(\n",
    "    toau(R.Jupiter_distance_cm)[m],\n",
    "    alpha=0.3,\n",
    "    bins=np.linspace(3, 15),\n",
    "    label=\"Jupiter\"\n",
    ")\n",
    "\n",
    "m = R.Saturn_from_sc_x_deg < 10\n",
    "plt.hist(\n",
    "    toau(R.Saturn_distance_cm)[m],    \n",
    "    bins=h[1],\n",
    "    label=\"Saturn\"\n",
    ")\n",
    "\n",
    "plt.ylabel(\"ISGRI FCFoV pointings in archive\")\n",
    "plt.xlabel(\"distance from Earth, AU\")\n",
    "\n",
    "plt.legend()"
   ]
  },
  {
   "cell_type": "code",
   "execution_count": 281,
   "id": "operating-reserve",
   "metadata": {},
   "outputs": [
    {
     "data": {
      "text/plain": [
       "0         78941729298709.95\n",
       "1         78313775145895.27\n",
       "2         78289429840609.72\n",
       "3         78265082661944.84\n",
       "4          78240733684661.8\n",
       "                ...        \n",
       "160548    89658584415042.98\n",
       "160549    89660478219692.66\n",
       "160550    89662371521250.52\n",
       "160551    89664262359622.25\n",
       "160552    89666134110051.08\n",
       "Name: Jupiter_distance_cm, Length: 160553, dtype: object"
      ]
     },
     "execution_count": 281,
     "metadata": {},
     "output_type": "execute_result"
    }
   ],
   "source": [
    "R.Jupiter_distance_cm"
   ]
  },
  {
   "cell_type": "code",
   "execution_count": 171,
   "id": "scientific-belgium",
   "metadata": {},
   "outputs": [
    {
     "name": "stderr",
     "output_type": "stream",
     "text": [
      "2021-03-19 16:10:41 savchenk-NG-VN7-793G-79EG root[1743133] INFO url https://www.astro.unige.ch/cdci/astrooda/dispatch-data/gw//timesystem/api/v1.0/converttime/IJD/5048.0480480480473489/UTC\n"
     ]
    },
    {
     "data": {
      "text/plain": [
       "'2013-10-27T01:08:04.167'"
      ]
     },
     "execution_count": 171,
     "metadata": {},
     "output_type": "execute_result"
    }
   ],
   "source": [
    "import integralclient as ic\n",
    "\n",
    "ic.converttime(\"IJD\", f\"{h[1][i]:.20g}\", \"UTC\")"
   ]
  },
  {
   "cell_type": "code",
   "execution_count": 515,
   "id": "boring-puppy",
   "metadata": {},
   "outputs": [
    {
     "data": {
      "image/png": "[encoded data removed]",
      "text/plain": [
       "<Figure size 432x288 with 1 Axes>"
      ]
     },
     "metadata": {
      "needs_background": "light"
     },
     "output_type": "display_data"
    }
   ],
   "source": [
    "plt.figure()\n",
    "\n",
    "# the reason why venus is rare is because of solar angle. inner planets have that restriction\n",
    "# ISGRI has extra 10 deg for off-axis pointing, if designed\n",
    "# it is never possible to observe Venus\n",
    "# https://en.wikipedia.org/wiki/Elongation_(astronomy) of venus is up to 47 deg\n",
    "\n",
    "_=plt.hist(\n",
    "    Sun_coord.separation(scx_coord).deg,\n",
    "    100\n",
    ")\n",
    "\n",
    "plt.axvline()"
   ]
  },
  {
   "cell_type": "markdown",
   "id": "premier-advice",
   "metadata": {},
   "source": [
    "the reason why venus is rare is because of solar angle. inner planets have that restriction\n",
    "ISGRI has extra 10 deg for off-axis pointing, if designed"
   ]
  },
  {
   "cell_type": "code",
   "execution_count": 400,
   "id": "invisible-spell",
   "metadata": {},
   "outputs": [
    {
     "data": {
      "text/plain": [
       "{'Venus': {'sensitivity_erg_s': 2023918343384943.8,\n",
       "  'on_isgri_Ms': 0.168514,\n",
       "  'on_pointings': 81},\n",
       " 'Sun': {'sensitivity_erg_s': inf, 'on_isgri_Ms': 0.0, 'on_pointings': 0},\n",
       " 'Mars': {'sensitivity_erg_s': 1151191493617938.0,\n",
       "  'on_isgri_Ms': 3.744135,\n",
       "  'on_pointings': 1588},\n",
       " 'Mercury': {'sensitivity_erg_s': inf, 'on_isgri_Ms': 0.0, 'on_pointings': 0},\n",
       " 'Jupiter': {'sensitivity_erg_s': 2.182728445837121e+16,\n",
       "  'on_isgri_Ms': 4.360247,\n",
       "  'on_pointings': 1853},\n",
       " 'Saturn': {'sensitivity_erg_s': 6.4927958799684536e+16,\n",
       "  'on_isgri_Ms': 9.066307,\n",
       "  'on_pointings': 3207},\n",
       " 'Uranus': {'sensitivity_erg_s': 1.855665674969776e+18,\n",
       "  'on_isgri_Ms': 0.17205,\n",
       "  'on_pointings': 67},\n",
       " 'Neptune': {'sensitivity_erg_s': 4.746794849613064e+18,\n",
       "  'on_isgri_Ms': 0.182509,\n",
       "  'on_pointings': 61},\n",
       " 'Pluto': {'on_isgri_Ms': 8.682008, 'on_pointings': 3813}}"
      ]
     },
     "execution_count": 400,
     "metadata": {},
     "output_type": "execute_result"
    }
   ],
   "source": [
    "import json\n",
    "\n",
    "#json.dump(summary_by_body, open(\"summary_by_body.json\", \"wt\"), indent=4)\n",
    "\n",
    "summary_by_body"
   ]
  },
  {
   "cell_type": "code",
   "execution_count": 411,
   "id": "turned-symposium",
   "metadata": {},
   "outputs": [
    {
     "data": {
      "text/html": [
       "<div>\n",
       "<style scoped>\n",
       "    .dataframe tbody tr th:only-of-type {\n",
       "        vertical-align: middle;\n",
       "    }\n",
       "\n",
       "    .dataframe tbody tr th {\n",
       "        vertical-align: top;\n",
       "    }\n",
       "\n",
       "    .dataframe thead th {\n",
       "        text-align: right;\n",
       "    }\n",
       "</style>\n",
       "<table border=\"1\" class=\"dataframe\">\n",
       "  <thead>\n",
       "    <tr style=\"text-align: right;\">\n",
       "      <th></th>\n",
       "      <th>name</th>\n",
       "      <th>known_typical_lum</th>\n",
       "      <th>sensitivity_erg_s</th>\n",
       "      <th>on_isgri_Ms</th>\n",
       "      <th>on_pointings</th>\n",
       "    </tr>\n",
       "  </thead>\n",
       "  <tbody>\n",
       "    <tr>\n",
       "      <th>0</th>\n",
       "      <td>Venus</td>\n",
       "      <td>5.500000e+14</td>\n",
       "      <td>2.023918e+15</td>\n",
       "      <td>0.168514</td>\n",
       "      <td>81</td>\n",
       "    </tr>\n",
       "    <tr>\n",
       "      <th>1</th>\n",
       "      <td>Sun</td>\n",
       "      <td>0.000000e+00</td>\n",
       "      <td>inf</td>\n",
       "      <td>0.000000</td>\n",
       "      <td>0</td>\n",
       "    </tr>\n",
       "    <tr>\n",
       "      <th>2</th>\n",
       "      <td>Mars</td>\n",
       "      <td>4.000000e+13</td>\n",
       "      <td>1.151191e+15</td>\n",
       "      <td>3.744135</td>\n",
       "      <td>1588</td>\n",
       "    </tr>\n",
       "    <tr>\n",
       "      <th>3</th>\n",
       "      <td>Mercury</td>\n",
       "      <td>0.000000e+00</td>\n",
       "      <td>inf</td>\n",
       "      <td>0.000000</td>\n",
       "      <td>0</td>\n",
       "    </tr>\n",
       "    <tr>\n",
       "      <th>4</th>\n",
       "      <td>Jupiter</td>\n",
       "      <td>2.200000e+16</td>\n",
       "      <td>2.182728e+16</td>\n",
       "      <td>4.360247</td>\n",
       "      <td>1853</td>\n",
       "    </tr>\n",
       "    <tr>\n",
       "      <th>5</th>\n",
       "      <td>Saturn</td>\n",
       "      <td>8.700000e+14</td>\n",
       "      <td>6.492796e+16</td>\n",
       "      <td>9.066307</td>\n",
       "      <td>3207</td>\n",
       "    </tr>\n",
       "    <tr>\n",
       "      <th>6</th>\n",
       "      <td>Uranus</td>\n",
       "      <td>6.000000e+15</td>\n",
       "      <td>1.855666e+18</td>\n",
       "      <td>0.172050</td>\n",
       "      <td>67</td>\n",
       "    </tr>\n",
       "    <tr>\n",
       "      <th>7</th>\n",
       "      <td>Neptune</td>\n",
       "      <td>1.200000e+16</td>\n",
       "      <td>4.746795e+18</td>\n",
       "      <td>0.182509</td>\n",
       "      <td>61</td>\n",
       "    </tr>\n",
       "    <tr>\n",
       "      <th>8</th>\n",
       "      <td>Pluto</td>\n",
       "      <td>2.000000e+15</td>\n",
       "      <td>NaN</td>\n",
       "      <td>8.682008</td>\n",
       "      <td>3813</td>\n",
       "    </tr>\n",
       "  </tbody>\n",
       "</table>\n",
       "</div>"
      ],
      "text/plain": [
       "      name  known_typical_lum  sensitivity_erg_s  on_isgri_Ms  on_pointings\n",
       "0    Venus       5.500000e+14       2.023918e+15     0.168514            81\n",
       "1      Sun       0.000000e+00                inf     0.000000             0\n",
       "2     Mars       4.000000e+13       1.151191e+15     3.744135          1588\n",
       "3  Mercury       0.000000e+00                inf     0.000000             0\n",
       "4  Jupiter       2.200000e+16       2.182728e+16     4.360247          1853\n",
       "5   Saturn       8.700000e+14       6.492796e+16     9.066307          3207\n",
       "6   Uranus       6.000000e+15       1.855666e+18     0.172050            67\n",
       "7  Neptune       1.200000e+16       4.746795e+18     0.182509            61\n",
       "8    Pluto       2.000000e+15                NaN     8.682008          3813"
      ]
     },
     "execution_count": 411,
     "metadata": {},
     "output_type": "execute_result"
    }
   ],
   "source": [
    "pd.DataFrame([{'name':k, 'known_typical_lum': reference_object_erg_s.get(k, 0), **v} for k, v in summary_by_body.items()])"
   ]
  },
  {
   "cell_type": "code",
   "execution_count": 403,
   "id": "competent-thought",
   "metadata": {},
   "outputs": [
    {
     "name": "stdout",
     "output_type": "stream",
     "text": [
      "Venus\n",
      " : known value 5.5e+14 archive 1 sigma limit 2.024e+15 erg/s\n",
      " : typical known value / 1 sigma limit in archive /  0.272\n",
      " : potential for exposure improvement (400ks)  2.37\n",
      " : typical known value / ToO limit /  0.419\n",
      "Sun\n",
      "nope\n",
      "Mars\n",
      " : known value 4e+13 archive 1 sigma limit 1.151e+15 erg/s\n",
      " : typical known value / 1 sigma limit in archive /  0.0347\n",
      " : potential for exposure improvement (400ks) 0.107\n",
      " : typical known value / ToO limit /  0.0114\n",
      "Mercury\n",
      "nope\n",
      "Jupiter\n",
      " : known value 2.2e+16 archive 1 sigma limit 2.183e+16 erg/s\n",
      " : typical known value / 1 sigma limit in archive /   1.01\n",
      " : potential for exposure improvement (400ks) 0.0917\n",
      " : typical known value / ToO limit /  0.305\n",
      "Saturn\n",
      " : known value 8.7e+14 archive 1 sigma limit 6.493e+16 erg/s\n",
      " : typical known value / 1 sigma limit in archive /  0.0134\n",
      " : potential for exposure improvement (400ks) 0.0441\n",
      " : typical known value / ToO limit /  0.00281\n",
      "Uranus\n",
      " : known value 6e+15 archive 1 sigma limit 1.856e+18 erg/s\n",
      " : typical known value / 1 sigma limit in archive /  0.00323\n",
      " : potential for exposure improvement (400ks)  2.32\n",
      " : typical known value / ToO limit /  0.00493\n",
      "Neptune\n",
      " : known value 1.2e+16 archive 1 sigma limit 4.747e+18 erg/s\n",
      " : typical known value / 1 sigma limit in archive /  0.00253\n",
      " : potential for exposure improvement (400ks)  2.19\n",
      " : typical known value / ToO limit /  0.00374\n",
      "Pluto\n",
      "nope\n"
     ]
    }
   ],
   "source": [
    "for o, d in summary_by_body.items():\n",
    "    print(f\"{o}\")\n",
    "    try:\n",
    "        print(f\" : known value {reference_object_erg_s[o]:5.3g} archive 1 sigma limit {d['sensitivity_erg_s']:5.4g} erg/s\")\n",
    "        print(f\" : typical known value / 1 sigma limit in archive /  {reference_object_erg_s[o]/d['sensitivity_erg_s']:5.3g}\")\n",
    "        print(f\" : potential for exposure improvement (400ks) {0.4/d['on_isgri_Ms']:5.3g}\")    \n",
    "        print(f\" : typical known value / ToO limit /  {reference_object_erg_s[o]/(d['sensitivity_erg_s']/(0.4/d['on_isgri_Ms'])**0.5):5.3g}\")\n",
    "    except:\n",
    "        print(\"nope\")"
   ]
  },
  {
   "cell_type": "code",
   "execution_count": 757,
   "id": "swiss-stone",
   "metadata": {},
   "outputs": [],
   "source": [
    "R.to_pandas().to_csv(\"archive-with-bodies.csv.gz\", compression='gzip')"
   ]
  },
  {
   "cell_type": "code",
   "execution_count": 28,
   "id": "altered-reasoning",
   "metadata": {},
   "outputs": [
    {
     "name": "stdout",
     "output_type": "stream",
     "text": [
      "\n",
      "Object      Lx (erg/s)        Lx (SI)        Comments\n",
      "\n",
      "Moon        7.3E11            73 kW\n",
      "Europa      1.5E13            1.5 MW\n",
      "\n",
      "Io          2.0E13            2 MW\n",
      "Mars        4.0E13          4 - 16 MW\n",
      "Comets      1.0E14          10 - 5000 MW   Within 2 Au of the Sun\n",
      "Earth       3.0E14            30 MW          My guess\n",
      "Venus       5.5E14            55 MW\n",
      "Saturn      8.7E14            87 MW\n",
      "Io Plasma   1.0E15            100 MW\n",
      "Torus\n",
      "Pluto       2.0E15            200 MW         Surprisingly large!\n",
      "Uranus      6.0E15            600 MW\n",
      "Neptune     1.2E16           1200 MW\n",
      "Jupiter     2.2E16           2200 MW\n",
      "\n"
     ]
    },
    {
     "data": {
      "text/plain": [
       "{nan: nan,\n",
       " 'Moon': 730000000000.0,\n",
       " 'Europa': 15000000000000.0,\n",
       " 'Io': 20000000000000.0,\n",
       " 'Mars': 40000000000000.0,\n",
       " 'Comets': 100000000000000.0,\n",
       " 'Earth': 300000000000000.0,\n",
       " 'Venus': 550000000000000.0,\n",
       " 'Saturn': 870000000000000.0,\n",
       " 'Io Plasma': 1000000000000000.0,\n",
       " 'Torus': nan,\n",
       " 'Pluto': 2000000000000000.0,\n",
       " 'Uranus': 6000000000000000.0,\n",
       " 'Neptune': 1.2e+16,\n",
       " 'Jupiter': 2.2e+16}"
      ]
     },
     "execution_count": 28,
     "metadata": {},
     "output_type": "execute_result"
    }
   ],
   "source": [
    "import requests\n",
    "import re\n",
    "import pandas as pd\n",
    "import io\n",
    "\n",
    "\n",
    "t = requests.get(\"https://heasarc.gsfc.nasa.gov/docs/heasarc/headates/what_kind.html\").text\n",
    "table = re.search(\"<pre>(.*?)</pre>\", t, re.M | re.S).groups()[0]\n",
    "table = re.sub(\" - [0-9]\\.[0-9]E[0-9]+? \", \" \"*8, table).replace(\"<\",\" \")\n",
    "print(table)\n",
    "\n",
    "d = pd.read_fwf(io.StringIO(table), header=1)\n",
    "d['Lx_erg_s'] = d['Lx (erg/s)'].astype(float)\n",
    "\n",
    "reference_object_erg_s = dict(zip(d['Object'], d['Lx_erg_s']))\n",
    "reference_object_erg_s"
   ]
  }
 ],
 "metadata": {
  "kernelspec": {
   "display_name": "Python 3",
   "language": "python",
   "name": "python3"
  },
  "language_info": {
   "codemirror_mode": {
    "name": "ipython",
    "version": 3
   },
   "file_extension": ".py",
   "mimetype": "text/x-python",
   "name": "python",
   "nbconvert_exporter": "python",
   "pygments_lexer": "ipython3",
   "version": "3.8.6"
  }
 },
 "nbformat": 4,
 "nbformat_minor": 5
}
