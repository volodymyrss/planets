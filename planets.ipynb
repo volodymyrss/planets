{
 "cells": [
  {
   "cell_type": "code",
   "execution_count": 3,
   "id": "determined-template",
   "metadata": {},
   "outputs": [],
   "source": [
    "#!pip install pyephem\n",
    "\n",
    "import ephem\n",
    "from astropy.coordinates import solar_system\n",
    "from astropy import time\n",
    "from astropy.coordinates import SkyCoord\n",
    "import astroquery.heasarc\n",
    "\n",
    "import astropy.units as u\n",
    "import astropy.coordinates as coord\n",
    "import numpy as np\n",
    "\n",
    "import matplotlib as mpl\n",
    "import matplotlib.pylab as plt\n",
    "\n",
    "import pandas as pd\n",
    "import io\n",
    "\n",
    "import gzip"
   ]
  },
  {
   "cell_type": "code",
   "execution_count": 4,
   "id": "sharp-singing",
   "metadata": {},
   "outputs": [],
   "source": [
    "if False:\n",
    "    # this is slow, 5-10min\n",
    "    H = astroquery.heasarc.Heasarc()\n",
    "\n",
    "    with astroquery.heasarc.Conf.server.set_temp('https://www.isdc.unige.ch/browse/w3query.pl'):\n",
    "        R = H.query_object('Crab', mission='integral_rev3_scw', resultmax=1000000, radius=\"1000 deg\", cache=False,\n",
    "                           time=\"2001-01-01 .. 2021-01-01\",\n",
    "                           fields='All',\n",
    "                           good_isgri=\">1000\",\n",
    "                           scw_type=\"POINTING\"\n",
    "\n",
    "           )\n",
    "\n",
    "    print(\"writing...\")\n",
    "    R.to_pandas().to_csv(open(\"archive.csv\", \"w\"))\n",
    "    \n",
    "    R.sort('SCW_ID')\n",
    "    R.to_pandas().to_csv(\"archive.csv\", encoding='UTF_8')\n",
    "else:\n",
    "    R = pd.read_csv(\"archive.csv\")"
   ]
  },
  {
   "cell_type": "code",
   "execution_count": 5,
   "id": "played-phone",
   "metadata": {},
   "outputs": [
    {
     "name": "stdout",
     "output_type": "stream",
     "text": [
      "Unnamed: 0\n",
      "SCW_ID\n",
      "SCW_VER\n",
      "SCW_TYPE\n",
      "RA_X\n",
      "DEC_X\n",
      "START_DATE\n",
      "END_DATE\n",
      "OBS_ID\n",
      "OBS_TYPE\n",
      "PS\n",
      "PI_NAME\n",
      "GOOD_SPI\n",
      "GOOD_PICSIT\n",
      "GOOD_ISGRI\n",
      "GOOD_JEMX\n",
      "GOOD_JEMX1\n",
      "GOOD_JEMX2\n",
      "GOOD_OMC\n",
      "DSIZE\n",
      "RA_Z\n",
      "DEC_Z\n",
      "POSANGLE\n",
      "OBT_START\n",
      "OBT_END\n",
      "IJD_START\n",
      "IJD_END\n",
      "SPIMODE\n",
      "IBISMODE\n",
      "JMX1MODE\n",
      "JMX2MODE\n",
      "OMCMODE\n",
      "EXP_ID\n",
      "CREA_DT\n",
      "ING_DT\n",
      "Sun_ra\n",
      "Sun_dec\n",
      "Sun_distance_cm\n",
      "Venus_ra\n",
      "Venus_dec\n",
      "Venus_distance_cm\n",
      "Mars_ra\n",
      "Mars_dec\n",
      "Mars_distance_cm\n",
      "Mercury_ra\n",
      "Mercury_dec\n",
      "Mercury_distance_cm\n",
      "Jupiter_ra\n",
      "Jupiter_dec\n",
      "Jupiter_distance_cm\n",
      "Saturn_ra\n",
      "Saturn_dec\n",
      "Saturn_distance_cm\n",
      "Uranus_ra\n",
      "Uranus_dec\n",
      "Uranus_distance_cm\n",
      "Neptune_ra\n",
      "Neptune_dec\n",
      "Neptune_distance_cm\n",
      "Pluto_ra\n",
      "Pluto_dec\n",
      "Pluto_distance_cm\n"
     ]
    }
   ],
   "source": [
    "for c in R.columns:\n",
    "    print(c)\n",
    "    \n",
    "    try:\n",
    "        R[c] = R[c].astype(str)\n",
    "    except:\n",
    "        print(\"fail!\")"
   ]
  },
  {
   "cell_type": "code",
   "execution_count": 7,
   "id": "structured-doctrine",
   "metadata": {},
   "outputs": [],
   "source": [
    "scx_coord = coord.SkyCoord(R['RA_X'], R['DEC_X'], unit=\"deg\")"
   ]
  },
  {
   "cell_type": "code",
   "execution_count": 6,
   "id": "saving-basement",
   "metadata": {},
   "outputs": [
    {
     "ename": "NameError",
     "evalue": "name 'r' is not defined",
     "output_type": "error",
     "traceback": [
      "\u001b[0;31m---------------------------------------------------------------------------\u001b[0m",
      "\u001b[0;31mNameError\u001b[0m                                 Traceback (most recent call last)",
      "\u001b[0;32m<ipython-input-6-b55a84338150>\u001b[0m in \u001b[0;36m<module>\u001b[0;34m\u001b[0m\n\u001b[0;32m----> 1\u001b[0;31m \u001b[0;34m\"total good ISGRI:\"\u001b[0m\u001b[0;34m,\u001b[0m \u001b[0mr\u001b[0m\u001b[0;34m[\u001b[0m\u001b[0;34m'GOOD_ISGRI'\u001b[0m\u001b[0;34m]\u001b[0m\u001b[0;34m.\u001b[0m\u001b[0mastype\u001b[0m\u001b[0;34m(\u001b[0m\u001b[0mfloat\u001b[0m\u001b[0;34m)\u001b[0m\u001b[0;34m.\u001b[0m\u001b[0msum\u001b[0m\u001b[0;34m(\u001b[0m\u001b[0;34m)\u001b[0m\u001b[0;34m/\u001b[0m\u001b[0;36m1e6\u001b[0m\u001b[0;34m\u001b[0m\u001b[0;34m\u001b[0m\u001b[0m\n\u001b[0m",
      "\u001b[0;31mNameError\u001b[0m: name 'r' is not defined"
     ]
    }
   ],
   "source": [
    "\"total good ISGRI:\", r['GOOD_ISGRI'].astype(float).sum()/1e6"
   ]
  },
  {
   "cell_type": "code",
   "execution_count": 8,
   "id": "thrown-melissa",
   "metadata": {},
   "outputs": [],
   "source": [
    "def get_body_coord_pyephem(body_name):\n",
    "    # this is faster than astropy, result is identical\n",
    "    body = getattr(ephem, body_name)()\n",
    "\n",
    "    body_ra = []\n",
    "    body_dec = []\n",
    "    for t1,t2 in zip(R['START_DATE'], R['END_DATE']):\n",
    "        body.compute(t1) \n",
    "        body_ra.append(body.ra/np.pi*180)\n",
    "        body_dec.append(body.dec/np.pi*180)\n",
    "    \n",
    "    return coord.SkyCoord(body_ra, body_dec, unit='deg')"
   ]
  },
  {
   "cell_type": "code",
   "execution_count": 9,
   "id": "handled-consequence",
   "metadata": {},
   "outputs": [],
   "source": [
    "def get_body_coord_astropy(body_name):\n",
    "    return solar_system.get_body(body_name, \n",
    "                                 time.Time(R['IJD_START'].astype(float) + 51544, format=\"mjd\"))\n"
   ]
  },
  {
   "cell_type": "code",
   "execution_count": 10,
   "id": "terminal-stereo",
   "metadata": {},
   "outputs": [
    {
     "data": {
      "text/plain": [
       "'7670.99508748996'"
      ]
     },
     "execution_count": 10,
     "metadata": {},
     "output_type": "execute_result"
    }
   ],
   "source": [
    "R['IJD_START'].max()"
   ]
  },
  {
   "cell_type": "code",
   "execution_count": 12,
   "id": "convenient-sally",
   "metadata": {},
   "outputs": [],
   "source": [
    "T_future_astropy = time.Time(\n",
    "    R['IJD_START'].astype(float).max() + 51544 + np.linspace(0, 365*3, 365*3),\n",
    "    format=\"mjd\")\n",
    "T_future = T_future_astropy.to_datetime()\n",
    "\n",
    "def get_body_coord_astropy_future(body_name):\n",
    "    return solar_system.get_body(body_name, \n",
    "                                 T_future_astropy)"
   ]
  },
  {
   "cell_type": "code",
   "execution_count": 13,
   "id": "operating-tackle",
   "metadata": {},
   "outputs": [],
   "source": [
    "\n",
    "def total_flux_sensivity(c, lim_deg=10):\n",
    "    sep=c.separation(scx_coord).deg\n",
    "    m = sep < lim_deg    \n",
    "    \n",
    "    isgri_sensitivity_25_80_keV_1sigma_2ks = 1e-8 * u.erg/u.cm**2/u.s * (1./2000.)\n",
    "\n",
    "    sens = (c.distance.to(u.cm)[m]**2 * isgri_sensitivity_25_80_keV_1sigma_2ks * (R['GOOD_ISGRI'][m].astype(float)/200)**0.5).to(u.erg/u.s)\n",
    "\n",
    "    sens_combined = np.sum((sens**-2))**-0.5 # weighed mean uncertainty\n",
    "\n",
    "    return sens_combined\n",
    "    "
   ]
  },
  {
   "cell_type": "code",
   "execution_count": 14,
   "id": "daily-passenger",
   "metadata": {},
   "outputs": [],
   "source": [
    "body_names = ['Venus', 'Sun', 'Mars', 'Mercury', 'Jupiter', 'Saturn', 'Uranus', 'Neptune', 'Pluto']"
   ]
  },
  {
   "cell_type": "code",
   "execution_count": 15,
   "id": "sensitive-allen",
   "metadata": {
    "scrolled": false
   },
   "outputs": [
    {
     "name": "stdout",
     "output_type": "stream",
     "text": [
      "\u001b[41m====================================================================================================\u001b[0m\n",
      "\u001b[41m==================================================\u001b[1;42mVenus\u001b[0m\n",
      "found 0.174117 Ms in 85 pointings of Venus good ISGRI observations within 10 deg\n"
     ]
    },
    {
     "data": {
      "image/png": "[encoded data removed]",
      "text/plain": [
       "<Figure size 864x288 with 1 Axes>"
      ]
     },
     "metadata": {
      "needs_background": "light"
     },
     "output_type": "display_data"
    },
    {
     "name": "stdout",
     "output_type": "stream",
     "text": [
      "found 0.168514 Ms in 81 pointings of Venus good ISGRI observations within 10 deg\n"
     ]
    },
    {
     "data": {
      "image/png": "[encoded data removed]",
      "text/plain": [
       "<Figure size 864x288 with 1 Axes>"
      ]
     },
     "metadata": {
      "needs_background": "light"
     },
     "output_type": "display_data"
    },
    {
     "ename": "AttributeError",
     "evalue": "'Series' object has no attribute 'to'",
     "output_type": "error",
     "traceback": [
      "\u001b[0;31m---------------------------------------------------------------------------\u001b[0m",
      "\u001b[0;31mAttributeError\u001b[0m                            Traceback (most recent call last)",
      "\u001b[0;32m<ipython-input-15-1a91439b77ec>\u001b[0m in \u001b[0;36m<module>\u001b[0;34m\u001b[0m\n\u001b[1;32m     49\u001b[0m         \u001b[0;32mtry\u001b[0m\u001b[0;34m:\u001b[0m\u001b[0;34m\u001b[0m\u001b[0;34m\u001b[0m\u001b[0m\n\u001b[1;32m     50\u001b[0m             \u001b[0mc\u001b[0m\u001b[0;34m,\u001b[0m \u001b[0mm\u001b[0m\u001b[0;34m,\u001b[0m \u001b[0mon_isgri\u001b[0m\u001b[0;34m,\u001b[0m \u001b[0mn_point\u001b[0m \u001b[0;34m=\u001b[0m \u001b[0mfind_body_in_fov\u001b[0m\u001b[0;34m(\u001b[0m\u001b[0mbody_name\u001b[0m\u001b[0;34m,\u001b[0m \u001b[0mf\u001b[0m\u001b[0;34m=\u001b[0m\u001b[0mget_body_coord_astropy\u001b[0m\u001b[0;34m)\u001b[0m\u001b[0;34m\u001b[0m\u001b[0;34m\u001b[0m\u001b[0m\n\u001b[0;32m---> 51\u001b[0;31m             \u001b[0msens_combined\u001b[0m \u001b[0;34m=\u001b[0m \u001b[0mtotal_flux_sensivity\u001b[0m\u001b[0;34m(\u001b[0m\u001b[0mc\u001b[0m\u001b[0;34m)\u001b[0m\u001b[0;34m\u001b[0m\u001b[0;34m\u001b[0m\u001b[0m\n\u001b[0m\u001b[1;32m     52\u001b[0m             \u001b[0mprint\u001b[0m\u001b[0;34m(\u001b[0m\u001b[0;34mf\"total flux sensitivity to {body_name} is {sens_combined.to(u.erg/u.s).value:6.3g} erg/s\"\u001b[0m\u001b[0;34m)\u001b[0m\u001b[0;34m\u001b[0m\u001b[0;34m\u001b[0m\u001b[0m\n\u001b[1;32m     53\u001b[0m \u001b[0;34m\u001b[0m\u001b[0m\n",
      "\u001b[0;32m<ipython-input-13-10cf3fce3df7>\u001b[0m in \u001b[0;36mtotal_flux_sensivity\u001b[0;34m(c, lim_deg)\u001b[0m\n\u001b[1;32m      5\u001b[0m     \u001b[0misgri_sensitivity_25_80_keV_1sigma_2ks\u001b[0m \u001b[0;34m=\u001b[0m \u001b[0;36m1e-8\u001b[0m \u001b[0;34m*\u001b[0m \u001b[0mu\u001b[0m\u001b[0;34m.\u001b[0m\u001b[0merg\u001b[0m\u001b[0;34m/\u001b[0m\u001b[0mu\u001b[0m\u001b[0;34m.\u001b[0m\u001b[0mcm\u001b[0m\u001b[0;34m**\u001b[0m\u001b[0;36m2\u001b[0m\u001b[0;34m/\u001b[0m\u001b[0mu\u001b[0m\u001b[0;34m.\u001b[0m\u001b[0ms\u001b[0m \u001b[0;34m*\u001b[0m \u001b[0;34m(\u001b[0m\u001b[0;36m1.\u001b[0m\u001b[0;34m/\u001b[0m\u001b[0;36m2000.\u001b[0m\u001b[0;34m)\u001b[0m\u001b[0;34m\u001b[0m\u001b[0;34m\u001b[0m\u001b[0m\n\u001b[1;32m      6\u001b[0m \u001b[0;34m\u001b[0m\u001b[0m\n\u001b[0;32m----> 7\u001b[0;31m     \u001b[0msens\u001b[0m \u001b[0;34m=\u001b[0m \u001b[0;34m(\u001b[0m\u001b[0mc\u001b[0m\u001b[0;34m.\u001b[0m\u001b[0mdistance\u001b[0m\u001b[0;34m.\u001b[0m\u001b[0mto\u001b[0m\u001b[0;34m(\u001b[0m\u001b[0mu\u001b[0m\u001b[0;34m.\u001b[0m\u001b[0mcm\u001b[0m\u001b[0;34m)\u001b[0m\u001b[0;34m[\u001b[0m\u001b[0mm\u001b[0m\u001b[0;34m]\u001b[0m\u001b[0;34m**\u001b[0m\u001b[0;36m2\u001b[0m \u001b[0;34m*\u001b[0m \u001b[0misgri_sensitivity_25_80_keV_1sigma_2ks\u001b[0m \u001b[0;34m*\u001b[0m \u001b[0;34m(\u001b[0m\u001b[0mR\u001b[0m\u001b[0;34m[\u001b[0m\u001b[0;34m'GOOD_ISGRI'\u001b[0m\u001b[0;34m]\u001b[0m\u001b[0;34m[\u001b[0m\u001b[0mm\u001b[0m\u001b[0;34m]\u001b[0m\u001b[0;34m.\u001b[0m\u001b[0mastype\u001b[0m\u001b[0;34m(\u001b[0m\u001b[0mfloat\u001b[0m\u001b[0;34m)\u001b[0m\u001b[0;34m/\u001b[0m\u001b[0;36m200\u001b[0m\u001b[0;34m)\u001b[0m\u001b[0;34m**\u001b[0m\u001b[0;36m0.5\u001b[0m\u001b[0;34m)\u001b[0m\u001b[0;34m.\u001b[0m\u001b[0mto\u001b[0m\u001b[0;34m(\u001b[0m\u001b[0mu\u001b[0m\u001b[0;34m.\u001b[0m\u001b[0merg\u001b[0m\u001b[0;34m/\u001b[0m\u001b[0mu\u001b[0m\u001b[0;34m.\u001b[0m\u001b[0ms\u001b[0m\u001b[0;34m)\u001b[0m\u001b[0;34m\u001b[0m\u001b[0;34m\u001b[0m\u001b[0m\n\u001b[0m\u001b[1;32m      8\u001b[0m \u001b[0;34m\u001b[0m\u001b[0m\n\u001b[1;32m      9\u001b[0m     \u001b[0msens_combined\u001b[0m \u001b[0;34m=\u001b[0m \u001b[0mnp\u001b[0m\u001b[0;34m.\u001b[0m\u001b[0msum\u001b[0m\u001b[0;34m(\u001b[0m\u001b[0;34m(\u001b[0m\u001b[0msens\u001b[0m\u001b[0;34m**\u001b[0m\u001b[0;34m-\u001b[0m\u001b[0;36m2\u001b[0m\u001b[0;34m)\u001b[0m\u001b[0;34m)\u001b[0m\u001b[0;34m**\u001b[0m\u001b[0;34m-\u001b[0m\u001b[0;36m0.5\u001b[0m \u001b[0;31m# weighed mean uncertainty\u001b[0m\u001b[0;34m\u001b[0m\u001b[0;34m\u001b[0m\u001b[0m\n",
      "\u001b[0;32m~/.pyenv/versions/3.8.6/lib/python3.8/site-packages/pandas/core/generic.py\u001b[0m in \u001b[0;36m__getattr__\u001b[0;34m(self, name)\u001b[0m\n\u001b[1;32m   5137\u001b[0m             \u001b[0;32mif\u001b[0m \u001b[0mself\u001b[0m\u001b[0;34m.\u001b[0m\u001b[0m_info_axis\u001b[0m\u001b[0;34m.\u001b[0m\u001b[0m_can_hold_identifiers_and_holds_name\u001b[0m\u001b[0;34m(\u001b[0m\u001b[0mname\u001b[0m\u001b[0;34m)\u001b[0m\u001b[0;34m:\u001b[0m\u001b[0;34m\u001b[0m\u001b[0;34m\u001b[0m\u001b[0m\n\u001b[1;32m   5138\u001b[0m                 \u001b[0;32mreturn\u001b[0m \u001b[0mself\u001b[0m\u001b[0;34m[\u001b[0m\u001b[0mname\u001b[0m\u001b[0;34m]\u001b[0m\u001b[0;34m\u001b[0m\u001b[0;34m\u001b[0m\u001b[0m\n\u001b[0;32m-> 5139\u001b[0;31m             \u001b[0;32mreturn\u001b[0m \u001b[0mobject\u001b[0m\u001b[0;34m.\u001b[0m\u001b[0m__getattribute__\u001b[0m\u001b[0;34m(\u001b[0m\u001b[0mself\u001b[0m\u001b[0;34m,\u001b[0m \u001b[0mname\u001b[0m\u001b[0;34m)\u001b[0m\u001b[0;34m\u001b[0m\u001b[0;34m\u001b[0m\u001b[0m\n\u001b[0m\u001b[1;32m   5140\u001b[0m \u001b[0;34m\u001b[0m\u001b[0m\n\u001b[1;32m   5141\u001b[0m     \u001b[0;32mdef\u001b[0m \u001b[0m__setattr__\u001b[0m\u001b[0;34m(\u001b[0m\u001b[0mself\u001b[0m\u001b[0;34m,\u001b[0m \u001b[0mname\u001b[0m\u001b[0;34m:\u001b[0m \u001b[0mstr\u001b[0m\u001b[0;34m,\u001b[0m \u001b[0mvalue\u001b[0m\u001b[0;34m)\u001b[0m \u001b[0;34m->\u001b[0m \u001b[0;32mNone\u001b[0m\u001b[0;34m:\u001b[0m\u001b[0;34m\u001b[0m\u001b[0;34m\u001b[0m\u001b[0m\n",
      "\u001b[0;31mAttributeError\u001b[0m: 'Series' object has no attribute 'to'"
     ]
    }
   ],
   "source": [
    "def find_body_in_fov(body_name, lim_deg=10, f=get_body_coord_pyephem, plot=True):\n",
    "    c = f(body_name)\n",
    "\n",
    "    sep=c.separation(scx_coord).deg\n",
    "    m = sep < lim_deg\n",
    "    on_isgri = np.sum(R['GOOD_ISGRI'].astype(float)[m])/1e6\n",
    "    print(f\"found {on_isgri} Ms in {np.sum(m)} pointings of {body_name} good ISGRI observations within {lim_deg} deg\")\n",
    "    \n",
    "    if body_name == \"Sun\":\n",
    "        if np.sum(m) == 0:\n",
    "            print(\"Sun was not observed, which is good!\")\n",
    "        else:\n",
    "            print(\"\\033[31mwarning! sun was observed??\\033[0m\")\n",
    "            #raise RuntimeError\n",
    "    \n",
    "    if plot:\n",
    "        plt.figure(figsize=(12,4))\n",
    "\n",
    "        plt.plot(\n",
    "            R['IJD_START'][::100].astype(float),\n",
    "            c.ra[::100],\n",
    "        )\n",
    "        plt.plot(\n",
    "            R['IJD_START'][::100].astype(float),\n",
    "            c.dec[::100],\n",
    "        )\n",
    "\n",
    "                \n",
    "        \n",
    "        plt.title('')\n",
    "\n",
    "        plt.show()\n",
    "    \n",
    "\n",
    "    return c, m, on_isgri, np.sum(m)\n",
    "\n",
    "fast_way = False\n",
    "\n",
    "summary_by_body={}\n",
    "\n",
    "for body_name in ['Venus', 'Sun', 'Mars', 'Mercury', 'Jupiter', 'Saturn', 'Uranus', 'Neptune', 'Pluto']:\n",
    "    D = {}\n",
    "    summary_by_body[body_name] = D\n",
    "    \n",
    "    print(f\"\\033[41m{'='*100}\\033[0m\")\n",
    "    print(f\"\\033[41m{'='*50}\\033[1;42m{body_name}\\033[0m\")\n",
    "    c, m, on_isgri, n_point = find_body_in_fov(body_name)\n",
    "    if not fast_way:\n",
    "        try:\n",
    "            c, m, on_isgri, n_point = find_body_in_fov(body_name, f=get_body_coord_astropy)\n",
    "            sens_combined = total_flux_sensivity(c)        \n",
    "            print(f\"total flux sensitivity to {body_name} is {sens_combined.to(u.erg/u.s).value:6.3g} erg/s\")\n",
    "            \n",
    "            D[\"sensitivity_erg_s\"] = sens_combined.to(u.erg/u.s).value            \n",
    "            distance_cm = c.distance.cm\n",
    "        except KeyError:\n",
    "            print(\"failed to distance astropy!\")\n",
    "            distance_cm = np.inf\n",
    "            \n",
    "        D[\"on_isgri_Ms\"] = on_isgri\n",
    "        D[\"on_pointings\"] = n_point\n",
    "        R[f'{body_name}_ra'] = c.ra.deg\n",
    "        R[f'{body_name}_dec'] = c.dec.deg\n",
    "        R[f'{body_name}_distance_cm'] = distance_cm\n",
    "\n"
   ]
  },
  {
   "cell_type": "code",
   "execution_count": 307,
   "id": "given-recycling",
   "metadata": {},
   "outputs": [],
   "source": [
    "#R.to_pandas().to_csv(\"archive-with-bodies.csv.gz\", compression='gzip')"
   ]
  },
  {
   "cell_type": "code",
   "execution_count": 17,
   "id": "fresh-conflict",
   "metadata": {},
   "outputs": [],
   "source": [
    "R = pd.read_csv(\"archive-with-bodies.csv.gz\", compression='gzip')"
   ]
  },
  {
   "cell_type": "code",
   "execution_count": 18,
   "id": "amended-reconstruction",
   "metadata": {},
   "outputs": [],
   "source": [
    "import astropy.time as time\n",
    "\n",
    "T = time.Time(R['IJD_START'].astype(float) + 51544, format=\"mjd\").to_datetime()\n"
   ]
  },
  {
   "cell_type": "code",
   "execution_count": 19,
   "id": "neutral-savage",
   "metadata": {},
   "outputs": [],
   "source": [
    "Sun_coord = coord.SkyCoord(R[\"Sun_ra\"], R[\"Sun_dec\"], unit=\"deg\")"
   ]
  },
  {
   "cell_type": "code",
   "execution_count": 20,
   "id": "breathing-antique",
   "metadata": {},
   "outputs": [],
   "source": [
    "Sun_coord_future = get_body_coord_astropy_future('Sun')"
   ]
  },
  {
   "cell_type": "code",
   "execution_count": 21,
   "id": "guided-archives",
   "metadata": {},
   "outputs": [
    {
     "data": {
      "text/plain": [
       "0         4.069455e+12\n",
       "1         4.117846e+12\n",
       "2         4.120334e+12\n",
       "3         4.122867e+12\n",
       "4         4.125445e+12\n",
       "              ...     \n",
       "160548    2.332957e+13\n",
       "160549    2.333077e+13\n",
       "160550    2.333196e+13\n",
       "160551    2.333316e+13\n",
       "160552    2.333434e+13\n",
       "Name: Venus_distance_cm, Length: 160553, dtype: float64"
      ]
     },
     "execution_count": 21,
     "metadata": {},
     "output_type": "execute_result"
    }
   ],
   "source": [
    "R[body_name+\"_distance_cm\"].astype(float)"
   ]
  },
  {
   "cell_type": "code",
   "execution_count": 28,
   "id": "dangerous-contract",
   "metadata": {
    "scrolled": false
   },
   "outputs": [
    {
     "name": "stdout",
     "output_type": "stream",
     "text": [
      "will plot\n",
      "distance_cm [2.33343391e+13 2.33875387e+13 2.34401793e+13 ... 1.74915341e+13\n",
      " 1.75863027e+13 1.76806479e+13]\n",
      "isgri_sensitivity_25_80_keV_1sigma_2ks 5e-11 erg / (cm2 s)\n",
      "convertting coord 1095\n",
      "distance..\n",
      "done!\n",
      "will plot\n",
      "distance_cm [4.06945454e+12 4.11784575e+12 4.12033366e+12 ... 2.33319614e+13\n",
      " 2.33331560e+13 2.33343391e+13]\n",
      "isgri_sensitivity_25_80_keV_1sigma_2ks 5e-11 erg / (cm2 s)\n",
      "convertting coord 160553\n",
      "distance..\n",
      "done!\n",
      "will plot\n",
      "distance_cm [1.34413937e+13 1.35770887e+13 1.37133295e+13 ... 3.63500534e+13\n",
      " 3.63051212e+13 3.62598015e+13]\n",
      "isgri_sensitivity_25_80_keV_1sigma_2ks 5e-11 erg / (cm2 s)\n",
      "convertting coord 1095\n",
      "distance..\n",
      "done!\n",
      "will plot\n",
      "distance_cm [3.66616100e+13 3.64426650e+13 3.64340555e+13 ... 1.34353749e+13\n",
      " 1.34383982e+13 1.34413937e+13]\n",
      "isgri_sensitivity_25_80_keV_1sigma_2ks 5e-11 erg / (cm2 s)\n",
      "convertting coord 160553\n",
      "distance..\n",
      "done!\n",
      "will plot\n",
      "distance_cm [8.96661341e+13 8.97492257e+13 8.98293284e+13 ... 6.66046792e+13\n",
      " 6.68200069e+13 6.70372169e+13]\n",
      "isgri_sensitivity_25_80_keV_1sigma_2ks 5e-11 erg / (cm2 s)\n",
      "convertting coord 1095\n",
      "distance..\n",
      "done!\n",
      "will plot\n",
      "distance_cm [7.89417293e+13 7.83137751e+13 7.82894298e+13 ... 8.96623715e+13\n",
      " 8.96642624e+13 8.96661341e+13]\n",
      "isgri_sensitivity_25_80_keV_1sigma_2ks 5e-11 erg / (cm2 s)\n",
      "convertting coord 160553\n",
      "distance..\n",
      "done!\n",
      "will plot\n",
      "distance_cm [1.63056656e+14 1.63142698e+14 1.63225058e+14 ... 1.53608586e+14\n",
      " 1.53810780e+14 1.54010620e+14]\n",
      "isgri_sensitivity_25_80_keV_1sigma_2ks 5e-11 erg / (cm2 s)\n",
      "convertting coord 1095\n",
      "distance..\n",
      "done!\n",
      "will plot\n",
      "distance_cm [1.24668235e+14 1.24192423e+14 1.24174472e+14 ... 1.63052746e+14\n",
      " 1.63054711e+14 1.63056656e+14]\n",
      "isgri_sensitivity_25_80_keV_1sigma_2ks 5e-11 erg / (cm2 s)\n",
      "convertting coord 160553\n",
      "distance..\n",
      "done!\n",
      "will plot\n",
      "distance_cm [2.89010861e+14 2.89242693e+14 2.89476466e+14 ... 2.83454875e+14\n",
      " 2.83648394e+14 2.83844918e+14]\n",
      "isgri_sensitivity_25_80_keV_1sigma_2ks 5e-11 erg / (cm2 s)\n",
      "convertting coord 1095\n",
      "distance..\n",
      "done!\n",
      "will plot\n",
      "distance_cm [2.95581045e+14 2.96261729e+14 2.96288211e+14 ... 2.89000602e+14\n",
      " 2.89005755e+14 2.89010861e+14]\n",
      "isgri_sensitivity_25_80_keV_1sigma_2ks 5e-11 erg / (cm2 s)\n",
      "convertting coord 160553\n",
      "distance..\n",
      "done!\n",
      "will plot\n",
      "distance_cm [4.53086329e+14 4.53325906e+14 4.53563735e+14 ... 4.50429119e+14\n",
      " 4.50681728e+14 4.50933272e+14]\n",
      "isgri_sensitivity_25_80_keV_1sigma_2ks 5e-11 erg / (cm2 s)\n",
      "convertting coord 1095\n",
      "distance..\n",
      "done!\n",
      "will plot\n",
      "distance_cm [4.50693967e+14 4.51384077e+14 4.51410735e+14 ... 4.53075640e+14\n",
      " 4.53081010e+14 4.53086329e+14]\n",
      "isgri_sensitivity_25_80_keV_1sigma_2ks 5e-11 erg / (cm2 s)\n",
      "convertting coord 160553\n",
      "distance..\n",
      "done!\n"
     ]
    },
    {
     "data": {
      "image/png": "[encoded data removed]",
      "text/plain": [
       "<Figure size 1008x936 with 1 Axes>"
      ]
     },
     "metadata": {
      "needs_background": "light"
     },
     "output_type": "display_data"
    }
   ],
   "source": [
    "ax2=None\n",
    "\n",
    "import matplotlib.font_manager as font_manager\n",
    "font_prop = font_manager.FontProperties(size=16)\n",
    "font_prop14 = font_manager.FontProperties(size=14)\n",
    "\n",
    "\n",
    "#plt.figure(figsize=(14,10))\n",
    "f, ax = plt.subplots(1,1,figsize=(14,13))\n",
    "\n",
    "for body_name in body_names:\n",
    "    if body_name in ['Sun', 'Mercury', 'Pluto']:\n",
    "        continue\n",
    "        \n",
    "    color = None\n",
    "    label = body_name\n",
    "        \n",
    "    C_future = get_body_coord_astropy_future(body_name)\n",
    "    \n",
    "    for _T, distance_cm, _ra, _dec, Sun_c, _ls in [\n",
    "        (T_future, C_future.distance.cm, C_future.ra.deg, C_future.dec.deg, Sun_coord_future, \"--\"),\n",
    "        (T, np.array(R[body_name+\"_distance_cm\"].astype(float)), R[body_name + \"_ra\"].astype(float), R[body_name + \"_dec\"].astype(float), Sun_coord, None),\n",
    "    ]:\n",
    "        print(\"will plot\")\n",
    "        \n",
    "        print(\"distance_cm\", distance_cm)\n",
    "        print(\"isgri_sensitivity_25_80_keV_1sigma_2ks\", isgri_sensitivity_25_80_keV_1sigma_2ks)\n",
    "\n",
    "        sens_ecs_1scw = ((distance_cm*u.cm)**2 * isgri_sensitivity_25_80_keV_1sigma_2ks).to(u.erg/u.s)\n",
    "        sens_ecs_1week = sens_ecs_1scw * (2000. / (24*3600*7 * 0.8) )**0.5\n",
    "        sens_ecs = sens_ecs_1week\n",
    "\n",
    "        isens_ecs = reference_object_erg_s.get(body_name, 1e19) / sens_ecs_1week\n",
    "\n",
    "        p = ax.plot(\n",
    "            _T[::10],\n",
    "            isens_ecs[::10],\n",
    "            #label=label,\n",
    "            ls=_ls or \":\",\n",
    "            alpha=0.7,\n",
    "            color=color,            \n",
    "        )\n",
    "        \n",
    "        color = p[0].get_color()\n",
    "\n",
    "        print(\"convertting coord\", len(_ra))\n",
    "        C = coord.SkyCoord(_ra, _dec, unit=\"deg\")\n",
    "        print(\"distance..\")\n",
    "        \n",
    "        if len(C) == len(scx_coord):\n",
    "            D_deg = C.separation(scx_coord).deg\n",
    "            R[body_name+\"_from_sc_x_deg\"] = D_deg\n",
    "            \n",
    "        print(\"done!\")\n",
    "\n",
    "        Sun_angle_deg = Sun_c.separation(C).deg\n",
    "        m_sun_angle = Sun_angle_deg > (90 - 40 - 5) # 5 for off-axis\n",
    "        m_sun_angle &= Sun_angle_deg < (90 + 40 + 5)\n",
    "\n",
    "\n",
    "        #label = body_name\n",
    "        for m_segment in split_segments((time.Time(_T).mjd - 51544)[m_sun_angle].astype(float)):\n",
    "            ax.plot(\n",
    "                _T[m_sun_angle][m_segment],\n",
    "                isens_ecs[m_sun_angle][m_segment],\n",
    "                lw=3,\n",
    "                c=color,\n",
    "                label=label,\n",
    "                ls=_ls,\n",
    "            )\n",
    "            label = None\n",
    "    \n",
    "    \n",
    "    m = R['GOOD_ISGRI'].astype(float) > 1000\n",
    "    m &= D_deg < 10\n",
    "    \n",
    "    ax.scatter(\n",
    "        T[m],\n",
    "        isens_ecs[m],\n",
    "        c=color,\n",
    "        s=100,\n",
    "        marker=\"o\",\n",
    "        #label=body_name,\n",
    "    )\n",
    "    \n",
    "    #ax.axhline(\n",
    "    #    reference_object_erg_s.get(body_name, 1e19),\n",
    "    #    c=p[0].get_color(),\n",
    "    #)\n",
    "\n",
    "    if ax2 is not None:\n",
    "        p = ax2.plot(\n",
    "            T[::100],\n",
    "            Sun_angle_deg[::100],\n",
    "         #   label=body_name,\n",
    "            c=color,\n",
    "        )\n",
    "    \n",
    "ax.legend()\n",
    "    \n",
    "ax.semilogy()\n",
    "\n",
    "ax.set_xlim([T[-20000],time.Time(\"2024-01-01\").to_datetime()])\n",
    "\n",
    "\n",
    "ax.tick_params(axis='x', labelsize=18)\n",
    "ax.tick_params(axis='y', labelsize=18)\n",
    "ax.tick_params(which='major', width=1.5, length=7)\n",
    "ax.tick_params(which='minor', width=1.5, length=4)\n",
    "\n",
    "\n",
    "ax.grid()\n",
    "\n",
    "ax.set_title(\"Solid lines: INTEGRAL can point; big dots: existing pointings < 10 deg\", font=font_prop)\n",
    "\n",
    "ax.axhspan(3,12, alpha=0.05, color='g')\n",
    "\n",
    "ax.axvspan(\n",
    "    time.Time(\"2021-01-01\").to_datetime(), \n",
    "    time.Time(\"2022-01-01\").to_datetime(), \n",
    "    color='red', alpha=0.1)\n",
    "ax.axvspan(\n",
    "    time.Time(\"2022-01-01\").to_datetime(), \n",
    "    time.Time(\"2024-01-01\").to_datetime(), \n",
    "    color='yellow', alpha=0.1)\n",
    "\n",
    "ax.set_ylim([0.005, 10])\n",
    "\n",
    "ax.set_xlabel(\"Date\", fontproperties=font_prop)\n",
    "ax.set_ylabel(\"\\\"expected\\\" S/N in One Week (0.5 Ms) ISGRI observation\\nfor \\\"typical\\\" body X-ray Luminosity\", fontproperties=font_prop)\n",
    "\n",
    "\n",
    "ax.set_xlim([\n",
    "    time.Time(\"2002-11-01\").to_datetime(),\n",
    "    time.Time(\"2024-01-01\").to_datetime()])\n",
    "\n",
    "plt.savefig(\"sensitivity-by-time.png\")\n",
    "\n",
    "ax.set_xlim([\n",
    "    time.Time(\"2015-11-01\").to_datetime(),\n",
    "    time.Time(\"2024-01-01\").to_datetime()])\n",
    "\n",
    "plt.savefig(\"sensitivity-by-time-recent.png\")\n",
    "\n",
    "ax.set_xlim([\n",
    "    time.Time(\"2021-11-01\").to_datetime(),\n",
    "    time.Time(\"2023-01-01\").to_datetime()])\n",
    "\n",
    "plt.savefig(\"sensitivity-by-time-plan.png\")"
   ]
  },
  {
   "cell_type": "code",
   "execution_count": 199,
   "id": "reflected-moscow",
   "metadata": {},
   "outputs": [
    {
     "data": {
      "image/png": "[encoded data removed]",
      "text/plain": [
       "<Figure size 1008x504 with 3 Axes>"
      ]
     },
     "metadata": {
      "needs_background": "light"
     },
     "output_type": "display_data"
    }
   ],
   "source": [
    "import seaborn\n",
    "flatui = [\"#9b59b6\", \"#3498db\", \"#95a5a6\", \"#e74c3c\", \"#34495e\", \"#2ecc71\"]\n",
    "\n",
    "f, (ax1,ax2,ax3) = plt.subplots(3, 1, figsize=(14,7), sharex=True)\n",
    "\n",
    "C = get_body_coord_astropy_future('Venus')\n",
    "\n",
    "#ax1.grid(True)\n",
    "ax1.plot(\n",
    "    T_future,\n",
    "    Sun_coord_future.separation(C).deg,\n",
    "    lw=3,\n",
    "    c=flatui[1]\n",
    ")\n",
    "ax1.set_ylim([40,50])\n",
    "\n",
    "ax1.text(time.Time(\"2022-03-01\").to_datetime(), 42.3,\n",
    "         \"Venus - Sun separation, deg\",\n",
    "         c=flatui[1],\n",
    "         font_properties=font_prop)\n",
    "\n",
    "ax1.axhspan(50, 55, color=flatui[-1], alpha=0.2)\n",
    "ax1.axhspan(50 - 4, 55, color=flatui[-1], alpha=0.2)\n",
    "ax1.axhspan(50 - 8, 55, color=flatui[-1], alpha=0.2)\n",
    "\n",
    "#ax2.grid(True)\n",
    "ax2.plot(\n",
    "    T_future,\n",
    "    C.distance.to(u.AU).value,\n",
    "    lw=3,\n",
    "    c=flatui[0]\n",
    ")\n",
    "\n",
    "ax2.text(time.Time(\"2022-02-10\").to_datetime(), 1.,\n",
    "         \"Venus - Earth distance, AU\",\n",
    "         c=flatui[0],\n",
    "         font_properties=font_prop)\n",
    "\n",
    "plt.subplots_adjust(hspace=0)\n",
    "\n",
    "#ax3.grid()\n",
    "\n",
    "for dither_offset, ls in [\n",
    "                            (0, '-'), \n",
    "                            (2, '--'), \n",
    "                            (4, ':')\n",
    "                        ]:\n",
    "    plt.plot(\n",
    "        T_future,\n",
    "        C.distance.to(u.AU).value**2 * sensitivity_isgri_vs_off_scx(50 + dither_offset - Sun_coord_future.separation(C).deg),\n",
    "        lw=3,\n",
    "        c=flatui[2],\n",
    "        ls=ls,\n",
    "    )\n",
    "\n",
    "    plt.plot(\n",
    "        T_future,\n",
    "        C.distance.to(u.AU).value**2 * sensitivity_jemx_vs_off_scx(50 + dither_offset- Sun_coord_future.separation(C).deg) ,\n",
    "        lw=3,\n",
    "        c=flatui[3],\n",
    "        ls=ls,\n",
    "    )\n",
    "\n",
    "#10 for 5x5\n",
    "#4 for hex\n",
    "\n",
    "plt.ylim([0, 4])\n",
    "\n",
    "for ax in ax1,ax2, ax3:\n",
    "    ax.tick_params(axis='x', labelsize=14)\n",
    "    ax.tick_params(axis='y', labelsize=14)\n",
    "    ax.tick_params(which='major', width=1.5, length=7)\n",
    "    ax.tick_params(which='minor', width=1.5, length=4)\n",
    "\n",
    "plt.xlim([time.Time(\"2022-02-01\").to_datetime(),time.Time(\"2022-06-01\").to_datetime()])\n",
    "\n",
    "\n",
    "ax3.text(time.Time(\"2022-02-20\").to_datetime(), 2.75,\n",
    "         \"distance$^2$ $\\\\times$ coding fraction\\nISGRI and\",\n",
    "         c=flatui[2],\n",
    "         font_properties=font_prop)\n",
    "\n",
    "ax3.text(time.Time(\"2022-03-05\").to_datetime(), 2.75,\n",
    "         \"JEMX\",\n",
    "         c=flatui[3],\n",
    "         font_properties=font_prop)\n",
    "\n",
    "\n",
    "plt.savefig(\"venus-poiting-optimization.png\")"
   ]
  },
  {
   "cell_type": "code",
   "execution_count": 248,
   "id": "alpha-calcium",
   "metadata": {},
   "outputs": [
    {
     "name": "stderr",
     "output_type": "stream",
     "text": [
      "<ipython-input-248-f56e49632e69>:17: RuntimeWarning: invalid value encountered in true_divide\n",
      "  step_deg*60/(dt*24*3600/2000),\n",
      "/home/savchenk/.pyenv/versions/3.8.6/lib/python3.8/site-packages/numpy/lib/histograms.py:839: RuntimeWarning: invalid value encountered in greater_equal\n",
      "  keep = (tmp_a >= first_edge)\n",
      "/home/savchenk/.pyenv/versions/3.8.6/lib/python3.8/site-packages/numpy/lib/histograms.py:840: RuntimeWarning: invalid value encountered in less_equal\n",
      "  keep &= (tmp_a <= last_edge)\n",
      "<ipython-input-248-f56e49632e69>:17: RuntimeWarning: invalid value encountered in true_divide\n",
      "  step_deg*60/(dt*24*3600/2000),\n",
      "/home/savchenk/.pyenv/versions/3.8.6/lib/python3.8/site-packages/numpy/lib/histograms.py:839: RuntimeWarning: invalid value encountered in greater_equal\n",
      "  keep = (tmp_a >= first_edge)\n",
      "/home/savchenk/.pyenv/versions/3.8.6/lib/python3.8/site-packages/numpy/lib/histograms.py:840: RuntimeWarning: invalid value encountered in less_equal\n",
      "  keep &= (tmp_a <= last_edge)\n"
     ]
    },
    {
     "data": {
      "image/png": "[encoded data removed]",
      "text/plain": [
       "<Figure size 432x288 with 1 Axes>"
      ]
     },
     "metadata": {
      "needs_background": "light"
     },
     "output_type": "display_data"
    }
   ],
   "source": [
    "plt.figure()\n",
    "\n",
    "for body_name in \"Jupiter\", \"Venus\":\n",
    "    m = R[body_name + '_from_sc_x_deg'] < 1000\n",
    "\n",
    "    c = SkyCoord(\n",
    "        R[m][body_name + '_ra'],\n",
    "        R[m][body_name + '_dec'],\n",
    "        unit='deg'\n",
    "    )\n",
    "\n",
    "    step_deg = c[:-1].separation(c[1:]).deg\n",
    "    t = np.array(R[m]['IJD_START'].astype(float))\n",
    "    dt = t[1:] - t[:-1]\n",
    "\n",
    "    plt.hist(    \n",
    "        step_deg*60/(dt*24*3600/2000),\n",
    "        100,\n",
    "        label=body_name,\n",
    "    )\n",
    "    \n",
    "plt.legend()\n",
    "    \n",
    "plt.xlabel('body movement arcmin per 2000 s (~ScW)')\n",
    "plt.ylabel(\"number of ScW\")\n",
    "\n",
    "plt.savefig(\"itra-fov-body-movement.png\")"
   ]
  },
  {
   "cell_type": "code",
   "execution_count": 29,
   "id": "hungry-retro",
   "metadata": {},
   "outputs": [
    {
     "data": {
      "text/html": [
       "<div>\n",
       "<style scoped>\n",
       "    .dataframe tbody tr th:only-of-type {\n",
       "        vertical-align: middle;\n",
       "    }\n",
       "\n",
       "    .dataframe tbody tr th {\n",
       "        vertical-align: top;\n",
       "    }\n",
       "\n",
       "    .dataframe thead th {\n",
       "        text-align: right;\n",
       "    }\n",
       "</style>\n",
       "<table border=\"1\" class=\"dataframe\">\n",
       "  <thead>\n",
       "    <tr style=\"text-align: right;\">\n",
       "      <th></th>\n",
       "      <th>Unnamed: 0</th>\n",
       "      <th>SCW_ID</th>\n",
       "      <th>SCW_VER</th>\n",
       "      <th>SCW_TYPE</th>\n",
       "      <th>RA_X</th>\n",
       "      <th>DEC_X</th>\n",
       "      <th>START_DATE</th>\n",
       "      <th>END_DATE</th>\n",
       "      <th>OBS_ID</th>\n",
       "      <th>OBS_TYPE</th>\n",
       "      <th>...</th>\n",
       "      <th>Neptune_distance_cm</th>\n",
       "      <th>Pluto_ra</th>\n",
       "      <th>Pluto_dec</th>\n",
       "      <th>Pluto_distance_cm</th>\n",
       "      <th>Venus_from_sc_x_deg</th>\n",
       "      <th>Mars_from_sc_x_deg</th>\n",
       "      <th>Jupiter_from_sc_x_deg</th>\n",
       "      <th>Saturn_from_sc_x_deg</th>\n",
       "      <th>Uranus_from_sc_x_deg</th>\n",
       "      <th>Neptune_from_sc_x_deg</th>\n",
       "    </tr>\n",
       "  </thead>\n",
       "  <tbody>\n",
       "    <tr>\n",
       "      <th>0</th>\n",
       "      <td>0</td>\n",
       "      <td>752000030</td>\n",
       "      <td>1</td>\n",
       "      <td>POINTING</td>\n",
       "      <td>149.840576</td>\n",
       "      <td>-0.982139</td>\n",
       "      <td>2002-11-04 03:21:48</td>\n",
       "      <td>2002-11-04 05:51:48</td>\n",
       "      <td>...</td>\n",
       "      <td></td>\n",
       "      <td>...</td>\n",
       "      <td>4.506940e+14</td>\n",
       "      <td>255.939451</td>\n",
       "      <td>-13.447897</td>\n",
       "      <td>inf</td>\n",
       "      <td>62.971269</td>\n",
       "      <td>41.983956</td>\n",
       "      <td>20.280395</td>\n",
       "      <td>64.072893</td>\n",
       "      <td>164.885444</td>\n",
       "      <td>153.098872</td>\n",
       "    </tr>\n",
       "    <tr>\n",
       "      <th>1</th>\n",
       "      <td>1</td>\n",
       "      <td>853000010</td>\n",
       "      <td>1</td>\n",
       "      <td>POINTING</td>\n",
       "      <td>149.840500</td>\n",
       "      <td>-0.982444</td>\n",
       "      <td>2002-11-06 19:56:20</td>\n",
       "      <td>2002-11-06 22:26:20</td>\n",
       "      <td>...</td>\n",
       "      <td></td>\n",
       "      <td>...</td>\n",
       "      <td>4.513841e+14</td>\n",
       "      <td>256.028571</td>\n",
       "      <td>-13.467955</td>\n",
       "      <td>inf</td>\n",
       "      <td>61.628555</td>\n",
       "      <td>43.601798</td>\n",
       "      <td>20.104897</td>\n",
       "      <td>64.188811</td>\n",
       "      <td>164.887883</td>\n",
       "      <td>153.119665</td>\n",
       "    </tr>\n",
       "    <tr>\n",
       "      <th>2</th>\n",
       "      <td>2</td>\n",
       "      <td>853000020</td>\n",
       "      <td>1</td>\n",
       "      <td>POINTING</td>\n",
       "      <td>149.840454</td>\n",
       "      <td>-0.982611</td>\n",
       "      <td>2002-11-06 22:26:20</td>\n",
       "      <td>2002-11-07 00:56:20</td>\n",
       "      <td>...</td>\n",
       "      <td></td>\n",
       "      <td>...</td>\n",
       "      <td>4.514107e+14</td>\n",
       "      <td>256.032067</td>\n",
       "      <td>-13.468724</td>\n",
       "      <td>inf</td>\n",
       "      <td>61.579766</td>\n",
       "      <td>43.664602</td>\n",
       "      <td>20.098546</td>\n",
       "      <td>64.193555</td>\n",
       "      <td>164.887892</td>\n",
       "      <td>153.120459</td>\n",
       "    </tr>\n",
       "    <tr>\n",
       "      <th>3</th>\n",
       "      <td>3</td>\n",
       "      <td>853000030</td>\n",
       "      <td>1</td>\n",
       "      <td>POINTING</td>\n",
       "      <td>149.840454</td>\n",
       "      <td>-0.982639</td>\n",
       "      <td>2002-11-07 00:56:20</td>\n",
       "      <td>2002-11-07 03:26:20</td>\n",
       "      <td>...</td>\n",
       "      <td></td>\n",
       "      <td>...</td>\n",
       "      <td>4.514374e+14</td>\n",
       "      <td>256.035566</td>\n",
       "      <td>-13.469493</td>\n",
       "      <td>inf</td>\n",
       "      <td>61.531250</td>\n",
       "      <td>43.727383</td>\n",
       "      <td>20.092123</td>\n",
       "      <td>64.198297</td>\n",
       "      <td>164.888035</td>\n",
       "      <td>153.121328</td>\n",
       "    </tr>\n",
       "    <tr>\n",
       "      <th>4</th>\n",
       "      <td>4</td>\n",
       "      <td>853000040</td>\n",
       "      <td>1</td>\n",
       "      <td>POINTING</td>\n",
       "      <td>149.840500</td>\n",
       "      <td>-0.982750</td>\n",
       "      <td>2002-11-07 03:26:20</td>\n",
       "      <td>2002-11-07 05:56:20</td>\n",
       "      <td>...</td>\n",
       "      <td></td>\n",
       "      <td>...</td>\n",
       "      <td>4.514640e+14</td>\n",
       "      <td>256.039068</td>\n",
       "      <td>-13.470261</td>\n",
       "      <td>inf</td>\n",
       "      <td>61.482938</td>\n",
       "      <td>43.790121</td>\n",
       "      <td>20.085820</td>\n",
       "      <td>64.203134</td>\n",
       "      <td>164.888093</td>\n",
       "      <td>153.122110</td>\n",
       "    </tr>\n",
       "    <tr>\n",
       "      <th>...</th>\n",
       "      <td>...</td>\n",
       "      <td>...</td>\n",
       "      <td>...</td>\n",
       "      <td>...</td>\n",
       "      <td>...</td>\n",
       "      <td>...</td>\n",
       "      <td>...</td>\n",
       "      <td>...</td>\n",
       "      <td>...</td>\n",
       "      <td>...</td>\n",
       "      <td>...</td>\n",
       "      <td>...</td>\n",
       "      <td>...</td>\n",
       "      <td>...</td>\n",
       "      <td>...</td>\n",
       "      <td>...</td>\n",
       "      <td>...</td>\n",
       "      <td>...</td>\n",
       "      <td>...</td>\n",
       "      <td>...</td>\n",
       "      <td>...</td>\n",
       "    </tr>\n",
       "    <tr>\n",
       "      <th>160548</th>\n",
       "      <td>160548</td>\n",
       "      <td>231500210010</td>\n",
       "      <td>1</td>\n",
       "      <td>POINTING</td>\n",
       "      <td>4.354625</td>\n",
       "      <td>59.149807</td>\n",
       "      <td>2020-12-31 21:43:24</td>\n",
       "      <td>2020-12-31 22:13:20</td>\n",
       "      <td>17200040123                                   ...</td>\n",
       "      <td>GENERAL</td>\n",
       "      <td>...</td>\n",
       "      <td>4.530649e+14</td>\n",
       "      <td>296.304932</td>\n",
       "      <td>-22.450363</td>\n",
       "      <td>inf</td>\n",
       "      <td>116.823943</td>\n",
       "      <td>50.318156</td>\n",
       "      <td>92.881281</td>\n",
       "      <td>93.533241</td>\n",
       "      <td>51.003205</td>\n",
       "      <td>65.883253</td>\n",
       "    </tr>\n",
       "    <tr>\n",
       "      <th>160549</th>\n",
       "      <td>160549</td>\n",
       "      <td>231500220010</td>\n",
       "      <td>1</td>\n",
       "      <td>POINTING</td>\n",
       "      <td>2.231208</td>\n",
       "      <td>61.046001</td>\n",
       "      <td>2020-12-31 22:15:35</td>\n",
       "      <td>2020-12-31 22:45:32</td>\n",
       "      <td>17200040123                                   ...</td>\n",
       "      <td>GENERAL</td>\n",
       "      <td>...</td>\n",
       "      <td>4.530703e+14</td>\n",
       "      <td>296.305713</td>\n",
       "      <td>-22.450265</td>\n",
       "      <td>inf</td>\n",
       "      <td>115.742010</td>\n",
       "      <td>52.486723</td>\n",
       "      <td>93.164473</td>\n",
       "      <td>93.781541</td>\n",
       "      <td>53.139358</td>\n",
       "      <td>67.442583</td>\n",
       "    </tr>\n",
       "    <tr>\n",
       "      <th>160550</th>\n",
       "      <td>160550</td>\n",
       "      <td>231500230010</td>\n",
       "      <td>1</td>\n",
       "      <td>POINTING</td>\n",
       "      <td>359.825073</td>\n",
       "      <td>62.902916</td>\n",
       "      <td>2020-12-31 22:47:47</td>\n",
       "      <td>2020-12-31 23:17:44</td>\n",
       "      <td>17200040123                                   ...</td>\n",
       "      <td>GENERAL</td>\n",
       "      <td>...</td>\n",
       "      <td>4.530756e+14</td>\n",
       "      <td>296.306494</td>\n",
       "      <td>-22.450166</td>\n",
       "      <td>inf</td>\n",
       "      <td>114.625093</td>\n",
       "      <td>54.657433</td>\n",
       "      <td>93.437015</td>\n",
       "      <td>94.018089</td>\n",
       "      <td>55.280850</td>\n",
       "      <td>69.015275</td>\n",
       "    </tr>\n",
       "    <tr>\n",
       "      <th>160551</th>\n",
       "      <td>160551</td>\n",
       "      <td>231500240010</td>\n",
       "      <td>1</td>\n",
       "      <td>POINTING</td>\n",
       "      <td>357.112122</td>\n",
       "      <td>64.710777</td>\n",
       "      <td>2020-12-31 23:19:58</td>\n",
       "      <td>2020-12-31 23:49:55</td>\n",
       "      <td>17200040123                                   ...</td>\n",
       "      <td>GENERAL</td>\n",
       "      <td>...</td>\n",
       "      <td>4.530810e+14</td>\n",
       "      <td>296.307275</td>\n",
       "      <td>-22.450067</td>\n",
       "      <td>inf</td>\n",
       "      <td>113.488181</td>\n",
       "      <td>56.822755</td>\n",
       "      <td>93.707810</td>\n",
       "      <td>94.251989</td>\n",
       "      <td>57.417876</td>\n",
       "      <td>70.601186</td>\n",
       "    </tr>\n",
       "    <tr>\n",
       "      <th>160552</th>\n",
       "      <td>160552</td>\n",
       "      <td>231500250010</td>\n",
       "      <td>1</td>\n",
       "      <td>POINTING</td>\n",
       "      <td>1.441958</td>\n",
       "      <td>65.879112</td>\n",
       "      <td>2020-12-31 23:51:51</td>\n",
       "      <td>2021-01-01 00:21:52</td>\n",
       "      <td>17200040123                                   ...</td>\n",
       "      <td>GENERAL</td>\n",
       "      <td>...</td>\n",
       "      <td>4.530863e+14</td>\n",
       "      <td>296.308049</td>\n",
       "      <td>-22.449969</td>\n",
       "      <td>inf</td>\n",
       "      <td>115.304663</td>\n",
       "      <td>56.915385</td>\n",
       "      <td>95.841704</td>\n",
       "      <td>96.391743</td>\n",
       "      <td>57.086729</td>\n",
       "      <td>72.070681</td>\n",
       "    </tr>\n",
       "  </tbody>\n",
       "</table>\n",
       "<p>160553 rows × 68 columns</p>\n",
       "</div>"
      ],
      "text/plain": [
       "        Unnamed: 0        SCW_ID  SCW_VER  SCW_TYPE        RA_X      DEC_X  \\\n",
       "0                0     752000030        1  POINTING  149.840576  -0.982139   \n",
       "1                1     853000010        1  POINTING  149.840500  -0.982444   \n",
       "2                2     853000020        1  POINTING  149.840454  -0.982611   \n",
       "3                3     853000030        1  POINTING  149.840454  -0.982639   \n",
       "4                4     853000040        1  POINTING  149.840500  -0.982750   \n",
       "...            ...           ...      ...       ...         ...        ...   \n",
       "160548      160548  231500210010        1  POINTING    4.354625  59.149807   \n",
       "160549      160549  231500220010        1  POINTING    2.231208  61.046001   \n",
       "160550      160550  231500230010        1  POINTING  359.825073  62.902916   \n",
       "160551      160551  231500240010        1  POINTING  357.112122  64.710777   \n",
       "160552      160552  231500250010        1  POINTING    1.441958  65.879112   \n",
       "\n",
       "                 START_DATE             END_DATE  \\\n",
       "0       2002-11-04 03:21:48  2002-11-04 05:51:48   \n",
       "1       2002-11-06 19:56:20  2002-11-06 22:26:20   \n",
       "2       2002-11-06 22:26:20  2002-11-07 00:56:20   \n",
       "3       2002-11-07 00:56:20  2002-11-07 03:26:20   \n",
       "4       2002-11-07 03:26:20  2002-11-07 05:56:20   \n",
       "...                     ...                  ...   \n",
       "160548  2020-12-31 21:43:24  2020-12-31 22:13:20   \n",
       "160549  2020-12-31 22:15:35  2020-12-31 22:45:32   \n",
       "160550  2020-12-31 22:47:47  2020-12-31 23:17:44   \n",
       "160551  2020-12-31 23:19:58  2020-12-31 23:49:55   \n",
       "160552  2020-12-31 23:51:51  2021-01-01 00:21:52   \n",
       "\n",
       "                                                   OBS_ID       OBS_TYPE  ...  \\\n",
       "0                                                     ...                 ...   \n",
       "1                                                     ...                 ...   \n",
       "2                                                     ...                 ...   \n",
       "3                                                     ...                 ...   \n",
       "4                                                     ...                 ...   \n",
       "...                                                   ...            ...  ...   \n",
       "160548  17200040123                                   ...  GENERAL        ...   \n",
       "160549  17200040123                                   ...  GENERAL        ...   \n",
       "160550  17200040123                                   ...  GENERAL        ...   \n",
       "160551  17200040123                                   ...  GENERAL        ...   \n",
       "160552  17200040123                                   ...  GENERAL        ...   \n",
       "\n",
       "       Neptune_distance_cm    Pluto_ra  Pluto_dec  Pluto_distance_cm  \\\n",
       "0             4.506940e+14  255.939451 -13.447897                inf   \n",
       "1             4.513841e+14  256.028571 -13.467955                inf   \n",
       "2             4.514107e+14  256.032067 -13.468724                inf   \n",
       "3             4.514374e+14  256.035566 -13.469493                inf   \n",
       "4             4.514640e+14  256.039068 -13.470261                inf   \n",
       "...                    ...         ...        ...                ...   \n",
       "160548        4.530649e+14  296.304932 -22.450363                inf   \n",
       "160549        4.530703e+14  296.305713 -22.450265                inf   \n",
       "160550        4.530756e+14  296.306494 -22.450166                inf   \n",
       "160551        4.530810e+14  296.307275 -22.450067                inf   \n",
       "160552        4.530863e+14  296.308049 -22.449969                inf   \n",
       "\n",
       "        Venus_from_sc_x_deg  Mars_from_sc_x_deg  Jupiter_from_sc_x_deg  \\\n",
       "0                 62.971269           41.983956              20.280395   \n",
       "1                 61.628555           43.601798              20.104897   \n",
       "2                 61.579766           43.664602              20.098546   \n",
       "3                 61.531250           43.727383              20.092123   \n",
       "4                 61.482938           43.790121              20.085820   \n",
       "...                     ...                 ...                    ...   \n",
       "160548           116.823943           50.318156              92.881281   \n",
       "160549           115.742010           52.486723              93.164473   \n",
       "160550           114.625093           54.657433              93.437015   \n",
       "160551           113.488181           56.822755              93.707810   \n",
       "160552           115.304663           56.915385              95.841704   \n",
       "\n",
       "        Saturn_from_sc_x_deg  Uranus_from_sc_x_deg  Neptune_from_sc_x_deg  \n",
       "0                  64.072893            164.885444             153.098872  \n",
       "1                  64.188811            164.887883             153.119665  \n",
       "2                  64.193555            164.887892             153.120459  \n",
       "3                  64.198297            164.888035             153.121328  \n",
       "4                  64.203134            164.888093             153.122110  \n",
       "...                      ...                   ...                    ...  \n",
       "160548             93.533241             51.003205              65.883253  \n",
       "160549             93.781541             53.139358              67.442583  \n",
       "160550             94.018089             55.280850              69.015275  \n",
       "160551             94.251989             57.417876              70.601186  \n",
       "160552             96.391743             57.086729              72.070681  \n",
       "\n",
       "[160553 rows x 68 columns]"
      ]
     },
     "execution_count": 29,
     "metadata": {},
     "output_type": "execute_result"
    }
   ],
   "source": [
    "R"
   ]
  },
  {
   "cell_type": "code",
   "execution_count": 351,
   "id": "attended-update",
   "metadata": {},
   "outputs": [
    {
     "name": "stderr",
     "output_type": "stream",
     "text": [
      "2021-03-27 10:16:45 savchenk-NG-VN7-793G-79EG oda_api.api.dispatcherapi.progress[1743133] INFO - waiting for remote response (since 2021-03-27 10:16:45), please wait for http://in.internal.odahub.io/staging-1-3/dispatcher/run_analysis\n",
      "2021-03-27 10:16:46 savchenk-NG-VN7-793G-79EG oda_api.api.dispatcherapi[1743133] INFO \n",
      "... query status \u001b[35mprepared\u001b[0m => \u001b[35msubmitted\u001b[0m\n",
      "2021-03-27 10:16:46 savchenk-NG-VN7-793G-79EG oda_api.api.dispatcherapi[1743133] INFO ... assigned job id: \u001b[33m9440d6dcbf681358\u001b[0m\n",
      " | the job is working remotely, please wait status=submitted job_id=9440d6dc in 0 messages since 0 seconds (0.29/0.29); in 0 SCW so far; nodes (0): 0 computed 0 restored\u001b[0m\n",
      "2021-03-27 10:16:47 savchenk-NG-VN7-793G-79EG oda_api.api.dispatcherapi.progress[1743133] INFO - waiting for remote response (since 2021-03-27 10:16:47), please wait for http://in.internal.odahub.io/staging-1-3/dispatcher/run_analysis\n",
      " / the job is working remotely, please wait status=submitted job_id=9440d6dc in 1 messages since 1 seconds (0.39/0.49); in 0 SCW so far; nodes (1): 0 computed 1 restored\u001b[0m\n",
      "2021-03-27 10:16:48 savchenk-NG-VN7-793G-79EG oda_api.api.dispatcherapi.progress[1743133] INFO - waiting for remote response (since 2021-03-27 10:16:48), please wait for http://in.internal.odahub.io/staging-1-3/dispatcher/run_analysis\n",
      " - the job is working remotely, please wait status=submitted job_id=9440d6dc in 1 messages since 3 seconds (0.33/0.49); in 0 SCW so far; nodes (1): 0 computed 1 restored\u001b[0m\n",
      "2021-03-27 10:16:49 savchenk-NG-VN7-793G-79EG oda_api.api.dispatcherapi.progress[1743133] INFO - waiting for remote response (since 2021-03-27 10:16:49), please wait for http://in.internal.odahub.io/staging-1-3/dispatcher/run_analysis\n",
      " \\ the job is working remotely, please wait status=submitted job_id=9440d6dc in 1 messages since 4 seconds (0.38/0.53); in 0 SCW so far; nodes (1): 0 computed 1 restored\u001b[0m\n",
      "2021-03-27 10:16:51 savchenk-NG-VN7-793G-79EG oda_api.api.dispatcherapi.progress[1743133] INFO - waiting for remote response (since 2021-03-27 10:16:51), please wait for http://in.internal.odahub.io/staging-1-3/dispatcher/run_analysis\n",
      " | the job is working remotely, please wait status=submitted job_id=9440d6dc in 1 messages since 5 seconds (0.34/0.53); in 0 SCW so far; nodes (1): 0 computed 1 restored\u001b[0m\n",
      "2021-03-27 10:16:52 savchenk-NG-VN7-793G-79EG oda_api.api.dispatcherapi.progress[1743133] INFO - waiting for remote response (since 2021-03-27 10:16:52), please wait for http://in.internal.odahub.io/staging-1-3/dispatcher/run_analysis\n",
      " / the job is working remotely, please wait status=submitted job_id=9440d6dc in 1 messages since 7 seconds (0.33/0.53); in 0 SCW so far; nodes (1): 0 computed 1 restored\u001b[0m\n",
      "2021-03-27 10:16:53 savchenk-NG-VN7-793G-79EG oda_api.api.dispatcherapi.progress[1743133] INFO - waiting for remote response (since 2021-03-27 10:16:53), please wait for http://in.internal.odahub.io/staging-1-3/dispatcher/run_analysis\n",
      " - the job is working remotely, please wait status=submitted job_id=9440d6dc in 1 messages since 8 seconds (0.3/0.53); in 0 SCW so far; nodes (1): 0 computed 1 restored\u001b[0m\n",
      "2021-03-27 10:16:54 savchenk-NG-VN7-793G-79EG oda_api.api.dispatcherapi.progress[1743133] INFO - waiting for remote response (since 2021-03-27 10:16:54), please wait for http://in.internal.odahub.io/staging-1-3/dispatcher/run_analysis\n",
      " \\ the job is working remotely, please wait status=submitted job_id=9440d6dc in 1 messages since 9 seconds (0.34/0.6); in 0 SCW so far; nodes (1): 0 computed 1 restored\u001b[0m\n",
      "2021-03-27 10:16:56 savchenk-NG-VN7-793G-79EG oda_api.api.dispatcherapi.progress[1743133] INFO - waiting for remote response (since 2021-03-27 10:16:56), please wait for http://in.internal.odahub.io/staging-1-3/dispatcher/run_analysis\n",
      "2021-03-27 10:16:58 savchenk-NG-VN7-793G-79EG oda_api.api.dispatcherapi[1743133] INFO \n",
      "... query status \u001b[35msubmitted\u001b[0m => \u001b[35mdone\u001b[0m\n",
      "2021-03-27 10:16:58 savchenk-NG-VN7-793G-79EG oda_api.api.dispatcherapi[1743133] INFO \u001b[32mquery COMPLETED SUCCESSFULLY (state done)\u001b[0m\n",
      "2021-03-27 10:16:58 savchenk-NG-VN7-793G-79EG oda_api.api.dispatcherapi[1743133] INFO query complete: terminating\n",
      "2021-03-27 10:16:58 savchenk-NG-VN7-793G-79EG oda_api.api.dispatcherapi.progress[1743133] INFO - waiting for remote response (since 2021-03-27 10:16:58), please wait for http://in.internal.odahub.io/staging-1.2/dispatcher/run_analysis\n",
      "2021-03-27 10:17:14 savchenk-NG-VN7-793G-79EG oda_api.api.dispatcherapi[1743133] INFO \n",
      "... query status \u001b[35mprepared\u001b[0m => \u001b[35msubmitted\u001b[0m\n",
      "2021-03-27 10:17:14 savchenk-NG-VN7-793G-79EG oda_api.api.dispatcherapi[1743133] INFO ... assigned job id: \u001b[33m7363127587636567729\u001b[0m\n",
      " | the job is working remotely, please wait status=submitted job_id=73631275 in 0 messages since 16 seconds (16/16); in 0 SCW so far; nodes (0): 0 computed 0 restored\u001b[0m\n",
      "2021-03-27 10:17:15 savchenk-NG-VN7-793G-79EG oda_api.api.dispatcherapi.progress[1743133] INFO - waiting for remote response (since 2021-03-27 10:17:15), please wait for http://in.internal.odahub.io/staging-1.2/dispatcher/run_analysis\n",
      " / the job is working remotely, please wait status=submitted job_id=73631275 in 0 messages since 17 seconds (8.1/16); in 0 SCW so far; nodes (0): 0 computed 0 restored\u001b[0m\n",
      "2021-03-27 10:17:16 savchenk-NG-VN7-793G-79EG oda_api.api.dispatcherapi.progress[1743133] INFO - waiting for remote response (since 2021-03-27 10:17:16), please wait for http://in.internal.odahub.io/staging-1.2/dispatcher/run_analysis\n",
      " - the job is working remotely, please wait status=submitted job_id=73631275 in 0 messages since 18 seconds (5.4/16); in 0 SCW so far; nodes (0): 0 computed 0 restored\u001b[0m\n",
      "2021-03-27 10:17:18 savchenk-NG-VN7-793G-79EG oda_api.api.dispatcherapi.progress[1743133] INFO - waiting for remote response (since 2021-03-27 10:17:18), please wait for http://in.internal.odahub.io/staging-1.2/dispatcher/run_analysis\n",
      " \\ the job is working remotely, please wait status=submitted job_id=73631275 in 0 messages since 19 seconds (4.1/16); in 0 SCW so far; nodes (0): 0 computed 0 restored\u001b[0m\n",
      "2021-03-27 10:17:19 savchenk-NG-VN7-793G-79EG oda_api.api.dispatcherapi.progress[1743133] INFO - waiting for remote response (since 2021-03-27 10:17:19), please wait for http://in.internal.odahub.io/staging-1.2/dispatcher/run_analysis\n",
      " | the job is working remotely, please wait status=submitted job_id=73631275 in 0 messages since 20 seconds (3.3/16); in 0 SCW so far; nodes (0): 0 computed 0 restored\u001b[0m\n",
      "2021-03-27 10:17:20 savchenk-NG-VN7-793G-79EG oda_api.api.dispatcherapi.progress[1743133] INFO - waiting for remote response (since 2021-03-27 10:17:20), please wait for http://in.internal.odahub.io/staging-1.2/dispatcher/run_analysis\n",
      "2021-03-27 10:17:20 savchenk-NG-VN7-793G-79EG oda_api.api.dispatcherapi[1743133] INFO \n",
      "... query status \u001b[35msubmitted\u001b[0m => \u001b[35mprogress\u001b[0m\n",
      " / the job is working remotely, please wait status=progress job_id=73631275 in 2 messages since 21 seconds (2.8/16); in 0 SCW so far; nodes (1): 0 computed 0 restored\u001b[0m\n",
      "2021-03-27 10:17:21 savchenk-NG-VN7-793G-79EG oda_api.api.dispatcherapi.progress[1743133] INFO - waiting for remote response (since 2021-03-27 10:17:21), please wait for http://in.internal.odahub.io/staging-1.2/dispatcher/run_analysis\n",
      " - the job is working remotely, please wait status=progress job_id=73631275 in 4 messages since 22 seconds (2.4/16); in 0 SCW so far; nodes (1): 0 computed 0 restored\u001b[0m\n",
      "2021-03-27 10:17:22 savchenk-NG-VN7-793G-79EG oda_api.api.dispatcherapi.progress[1743133] INFO - waiting for remote response (since 2021-03-27 10:17:22), please wait for http://in.internal.odahub.io/staging-1.2/dispatcher/run_analysis\n",
      " \\ the job is working remotely, please wait status=progress job_id=73631275 in 4 messages since 23 seconds (2.1/16); in 0 SCW so far; nodes (1): 0 computed 0 restored\u001b[0m\n",
      "2021-03-27 10:17:23 savchenk-NG-VN7-793G-79EG oda_api.api.dispatcherapi.progress[1743133] INFO - waiting for remote response (since 2021-03-27 10:17:23), please wait for http://in.internal.odahub.io/staging-1.2/dispatcher/run_analysis\n",
      " | the job is working remotely, please wait status=progress job_id=73631275 in 4 messages since 25 seconds (1.9/16); in 0 SCW so far; nodes (1): 0 computed 0 restored\u001b[0m\n"
     ]
    },
    {
     "name": "stderr",
     "output_type": "stream",
     "text": [
      "2021-03-27 10:17:25 savchenk-NG-VN7-793G-79EG oda_api.api.dispatcherapi.progress[1743133] INFO - waiting for remote response (since 2021-03-27 10:17:25), please wait for http://in.internal.odahub.io/staging-1.2/dispatcher/run_analysis\n",
      " / the job is working remotely, please wait status=progress job_id=73631275 in 4 messages since 26 seconds (1.7/16); in 0 SCW so far; nodes (1): 0 computed 0 restored\u001b[0m\n",
      "2021-03-27 10:17:26 savchenk-NG-VN7-793G-79EG oda_api.api.dispatcherapi.progress[1743133] INFO - waiting for remote response (since 2021-03-27 10:17:26), please wait for http://in.internal.odahub.io/staging-1.2/dispatcher/run_analysis\n",
      " - the job is working remotely, please wait status=progress job_id=73631275 in 4 messages since 27 seconds (1.6/16); in 0 SCW so far; nodes (1): 0 computed 0 restored\u001b[0m\n",
      "2021-03-27 10:17:27 savchenk-NG-VN7-793G-79EG oda_api.api.dispatcherapi.progress[1743133] INFO - waiting for remote response (since 2021-03-27 10:17:27), please wait for http://in.internal.odahub.io/staging-1.2/dispatcher/run_analysis\n",
      " \\ the job is working remotely, please wait status=progress job_id=73631275 in 4 messages since 28 seconds (1.5/16); in 0 SCW so far; nodes (1): 0 computed 0 restored\u001b[0m\n",
      "2021-03-27 10:17:28 savchenk-NG-VN7-793G-79EG oda_api.api.dispatcherapi.progress[1743133] INFO - waiting for remote response (since 2021-03-27 10:17:28), please wait for http://in.internal.odahub.io/staging-1.2/dispatcher/run_analysis\n",
      " | the job is working remotely, please wait status=progress job_id=73631275 in 4 messages since 29 seconds (1.4/16); in 0 SCW so far; nodes (1): 0 computed 0 restored\u001b[0m\n",
      "2021-03-27 10:17:29 savchenk-NG-VN7-793G-79EG oda_api.api.dispatcherapi.progress[1743133] INFO - waiting for remote response (since 2021-03-27 10:17:29), please wait for http://in.internal.odahub.io/staging-1.2/dispatcher/run_analysis\n",
      " / the job is working remotely, please wait status=progress job_id=73631275 in 4 messages since 31 seconds (1.3/16); in 0 SCW so far; nodes (1): 0 computed 0 restored\u001b[0m\n",
      "2021-03-27 10:17:30 savchenk-NG-VN7-793G-79EG oda_api.api.dispatcherapi.progress[1743133] INFO - waiting for remote response (since 2021-03-27 10:17:30), please wait for http://in.internal.odahub.io/staging-1.2/dispatcher/run_analysis\n",
      " - the job is working remotely, please wait status=progress job_id=73631275 in 8 messages since 32 seconds (1.2/16); in 1 SCW so far; nodes (2): 0 computed 0 restored\u001b[0m\n",
      "2021-03-27 10:17:32 savchenk-NG-VN7-793G-79EG oda_api.api.dispatcherapi.progress[1743133] INFO - waiting for remote response (since 2021-03-27 10:17:32), please wait for http://in.internal.odahub.io/staging-1.2/dispatcher/run_analysis\n",
      " \\ the job is working remotely, please wait status=progress job_id=73631275 in 9 messages since 33 seconds (1.1/16); in 1 SCW so far; nodes (2): 0 computed 0 restored\u001b[0m\n",
      "2021-03-27 10:17:33 savchenk-NG-VN7-793G-79EG oda_api.api.dispatcherapi.progress[1743133] INFO - waiting for remote response (since 2021-03-27 10:17:33), please wait for http://in.internal.odahub.io/staging-1.2/dispatcher/run_analysis\n",
      " | the job is working remotely, please wait status=progress job_id=73631275 in 9 messages since 34 seconds (1.1/16); in 1 SCW so far; nodes (2): 0 computed 0 restored\u001b[0m\n",
      "2021-03-27 10:17:34 savchenk-NG-VN7-793G-79EG oda_api.api.dispatcherapi.progress[1743133] INFO - waiting for remote response (since 2021-03-27 10:17:34), please wait for http://in.internal.odahub.io/staging-1.2/dispatcher/run_analysis\n",
      " / the job is working remotely, please wait status=progress job_id=73631275 in 10 messages since 35 seconds (1/16); in 1 SCW so far; nodes (2): 0 computed 0 restored\u001b[0m\n",
      "2021-03-27 10:17:35 savchenk-NG-VN7-793G-79EG oda_api.api.dispatcherapi.progress[1743133] INFO - waiting for remote response (since 2021-03-27 10:17:35), please wait for http://in.internal.odahub.io/staging-1.2/dispatcher/run_analysis\n",
      " - the job is working remotely, please wait status=progress job_id=73631275 in 10 messages since 36 seconds (0.98/16); in 1 SCW so far; nodes (2): 0 computed 0 restored\u001b[0m\n",
      "2021-03-27 10:17:36 savchenk-NG-VN7-793G-79EG oda_api.api.dispatcherapi.progress[1743133] INFO - waiting for remote response (since 2021-03-27 10:17:36), please wait for http://in.internal.odahub.io/staging-1.2/dispatcher/run_analysis\n",
      " \\ the job is working remotely, please wait status=progress job_id=73631275 in 10 messages since 37 seconds (0.93/16); in 1 SCW so far; nodes (2): 0 computed 0 restored\u001b[0m\n",
      "2021-03-27 10:17:37 savchenk-NG-VN7-793G-79EG oda_api.api.dispatcherapi.progress[1743133] INFO - waiting for remote response (since 2021-03-27 10:17:37), please wait for http://in.internal.odahub.io/staging-1.2/dispatcher/run_analysis\n",
      " | the job is working remotely, please wait status=progress job_id=73631275 in 10 messages since 38 seconds (0.89/16); in 1 SCW so far; nodes (2): 0 computed 0 restored\u001b[0m\n",
      "2021-03-27 10:17:38 savchenk-NG-VN7-793G-79EG oda_api.api.dispatcherapi.progress[1743133] INFO - waiting for remote response (since 2021-03-27 10:17:38), please wait for http://in.internal.odahub.io/staging-1.2/dispatcher/run_analysis\n",
      " / the job is working remotely, please wait status=progress job_id=73631275 in 10 messages since 40 seconds (0.86/16); in 1 SCW so far; nodes (2): 0 computed 0 restored\u001b[0m\n",
      "2021-03-27 10:17:39 savchenk-NG-VN7-793G-79EG oda_api.api.dispatcherapi.progress[1743133] INFO - waiting for remote response (since 2021-03-27 10:17:39), please wait for http://in.internal.odahub.io/staging-1.2/dispatcher/run_analysis\n",
      " - the job is working remotely, please wait status=progress job_id=73631275 in 10 messages since 41 seconds (0.82/16); in 1 SCW so far; nodes (2): 0 computed 0 restored\u001b[0m\n",
      "2021-03-27 10:17:40 savchenk-NG-VN7-793G-79EG oda_api.api.dispatcherapi.progress[1743133] INFO - waiting for remote response (since 2021-03-27 10:17:40), please wait for http://in.internal.odahub.io/staging-1.2/dispatcher/run_analysis\n",
      " \\ the job is working remotely, please wait status=progress job_id=73631275 in 10 messages since 42 seconds (0.79/16); in 1 SCW so far; nodes (2): 0 computed 0 restored\u001b[0m\n",
      "2021-03-27 10:17:42 savchenk-NG-VN7-793G-79EG oda_api.api.dispatcherapi.progress[1743133] INFO - waiting for remote response (since 2021-03-27 10:17:42), please wait for http://in.internal.odahub.io/staging-1.2/dispatcher/run_analysis\n",
      " | the job is working remotely, please wait status=progress job_id=73631275 in 10 messages since 43 seconds (0.77/16); in 1 SCW so far; nodes (2): 0 computed 0 restored\u001b[0m\n",
      "2021-03-27 10:17:43 savchenk-NG-VN7-793G-79EG oda_api.api.dispatcherapi.progress[1743133] INFO - waiting for remote response (since 2021-03-27 10:17:43), please wait for http://in.internal.odahub.io/staging-1.2/dispatcher/run_analysis\n",
      " / the job is working remotely, please wait status=progress job_id=73631275 in 10 messages since 44 seconds (0.74/16); in 1 SCW so far; nodes (2): 0 computed 0 restored\u001b[0m\n",
      "2021-03-27 10:17:44 savchenk-NG-VN7-793G-79EG oda_api.api.dispatcherapi.progress[1743133] INFO - waiting for remote response (since 2021-03-27 10:17:44), please wait for http://in.internal.odahub.io/staging-1.2/dispatcher/run_analysis\n",
      " - the job is working remotely, please wait status=progress job_id=73631275 in 10 messages since 45 seconds (0.72/16); in 1 SCW so far; nodes (2): 0 computed 0 restored\u001b[0m\n",
      "2021-03-27 10:17:45 savchenk-NG-VN7-793G-79EG oda_api.api.dispatcherapi.progress[1743133] INFO - waiting for remote response (since 2021-03-27 10:17:45), please wait for http://in.internal.odahub.io/staging-1.2/dispatcher/run_analysis\n",
      " \\ the job is working remotely, please wait status=progress job_id=73631275 in 10 messages since 46 seconds (0.7/16); in 1 SCW so far; nodes (2): 0 computed 0 restored\u001b[0m\n",
      "2021-03-27 10:17:46 savchenk-NG-VN7-793G-79EG oda_api.api.dispatcherapi.progress[1743133] INFO - waiting for remote response (since 2021-03-27 10:17:46), please wait for http://in.internal.odahub.io/staging-1.2/dispatcher/run_analysis\n",
      " | the job is working remotely, please wait status=progress job_id=73631275 in 10 messages since 47 seconds (0.68/16); in 1 SCW so far; nodes (2): 0 computed 0 restored\u001b[0m\n",
      "2021-03-27 10:17:47 savchenk-NG-VN7-793G-79EG oda_api.api.dispatcherapi.progress[1743133] INFO - waiting for remote response (since 2021-03-27 10:17:47), please wait for http://in.internal.odahub.io/staging-1.2/dispatcher/run_analysis\n"
     ]
    },
    {
     "name": "stderr",
     "output_type": "stream",
     "text": [
      " / the job is working remotely, please wait status=progress job_id=73631275 in 10 messages since 49 seconds (0.66/16); in 1 SCW so far; nodes (2): 0 computed 0 restored\u001b[0m\n",
      "2021-03-27 10:17:48 savchenk-NG-VN7-793G-79EG oda_api.api.dispatcherapi.progress[1743133] INFO - waiting for remote response (since 2021-03-27 10:17:48), please wait for http://in.internal.odahub.io/staging-1.2/dispatcher/run_analysis\n",
      " - the job is working remotely, please wait status=progress job_id=73631275 in 13 messages since 50 seconds (0.64/16); in 1 SCW so far; nodes (2): 0 computed 1 restored\u001b[0m\n",
      "2021-03-27 10:17:49 savchenk-NG-VN7-793G-79EG oda_api.api.dispatcherapi.progress[1743133] INFO - waiting for remote response (since 2021-03-27 10:17:49), please wait for http://in.internal.odahub.io/staging-1.2/dispatcher/run_analysis\n",
      " \\ the job is working remotely, please wait status=progress job_id=73631275 in 13 messages since 51 seconds (0.62/16); in 1 SCW so far; nodes (2): 0 computed 1 restored\u001b[0m\n",
      "2021-03-27 10:17:51 savchenk-NG-VN7-793G-79EG oda_api.api.dispatcherapi.progress[1743133] INFO - waiting for remote response (since 2021-03-27 10:17:51), please wait for http://in.internal.odahub.io/staging-1.2/dispatcher/run_analysis\n",
      "2021-03-27 10:17:51 savchenk-NG-VN7-793G-79EG oda_api.api.dispatcherapi[1743133] INFO \n",
      "... query status \u001b[35mprogress\u001b[0m => \u001b[35mready\u001b[0m\n",
      " | the job is working remotely, please wait status=ready job_id=73631275 in 15 messages since 52 seconds (0.61/16); in 1 SCW so far; nodes (2): 1 computed 1 restored\u001b[0m\n",
      "2021-03-27 10:17:52 savchenk-NG-VN7-793G-79EG oda_api.api.dispatcherapi.progress[1743133] INFO - waiting for remote response (since 2021-03-27 10:17:52), please wait for http://in.internal.odahub.io/staging-1.2/dispatcher/run_analysis\n",
      "2021-03-27 10:18:15 savchenk-NG-VN7-793G-79EG oda_api.api.dispatcherapi[1743133] INFO \n",
      "... query status \u001b[35mready\u001b[0m => \u001b[35mdone\u001b[0m\n",
      "2021-03-27 10:18:15 savchenk-NG-VN7-793G-79EG oda_api.api.dispatcherapi[1743133] INFO \u001b[32mquery COMPLETED SUCCESSFULLY (state done)\u001b[0m\n",
      "2021-03-27 10:18:15 savchenk-NG-VN7-793G-79EG oda_api.api.dispatcherapi[1743133] INFO query complete: terminating\n"
     ]
    }
   ],
   "source": [
    "import time\n",
    "\n",
    "import logging\n",
    "logging.basicConfig(level='INFO')\n",
    "logging.getLogger(\"oda_api\").setLevel('INFO')\n",
    "\n",
    "import oda_api.api\n",
    "\n",
    "\n",
    "def get_oda(version=\"1.3\"):\n",
    "    return oda_api.api.DispatcherAPI(url={\n",
    "                                \"1.3\": \"http://in.internal.odahub.io/staging-1-3/dispatcher\",\n",
    "                                \"1.2\": \"http://in.internal.odahub.io/staging-1.2/dispatcher\",\n",
    "                            }[version],\n",
    "#                          cookies={\n",
    "#                              \"_oauth2_proxy\": subprocess.check_output([\"pass\", \"_oauth2_proxy\"]).decode().strip()\n",
    "#                          },\n",
    "                          wait=True,\n",
    "                         )\n",
    "\n",
    "oda = get_oda()\n",
    "\n",
    "isgri_image = oda.get_product(\n",
    "               instrument='isgri', \n",
    "               product='isgri_image',    \n",
    "               E1_keV=25,\n",
    "               E2_keV=80,\n",
    "               osa_version=\"OSA10.2\",\n",
    "               scw_list=\"066500220010.001\",\n",
    "            )\n",
    "\n",
    "jemx_image = get_oda(\"1.2\").get_product(\n",
    "               instrument='jemx', \n",
    "               product='jemx_image',    \n",
    "               E1_keV=25,\n",
    "               E2_keV=80,\n",
    "               osa_version=\"OSA10.2\",\n",
    "               scw_list=\"066500220010.001\",\n",
    "            )"
   ]
  },
  {
   "cell_type": "code",
   "execution_count": 83,
   "id": "declared-jaguar",
   "metadata": {},
   "outputs": [],
   "source": [
    "import astropy.io.fits as fits\n",
    "from astropy import wcs\n",
    "import numpy as np\n",
    "\n",
    "\n",
    "jemx_image = fits.open(\"/mnt/sshfs/isdc/unsaved/astro/savchenk/data/reduced/ddcache/byscw/2077/207700740010.000/jemx_image.v2.2.1/JEMX.v0.jmx1/5cf19168/jmx1_sky_ima.fits.gz\")[2]\n",
    "jemx_var = jemx_image.data"
   ]
  },
  {
   "cell_type": "code",
   "execution_count": 128,
   "id": "finnish-decade",
   "metadata": {},
   "outputs": [
    {
     "name": "stderr",
     "output_type": "stream",
     "text": [
      "WARNING: FITSFixedWarning: RADECSYS= 'FK5 ' / Stellar reference frame \n",
      "the RADECSYS keyword is deprecated, use RADESYSa. [astropy.wcs.wcs]\n",
      "WARNING: FITSFixedWarning: 'datfix' made the change 'Set DATEREF to '2000-01-01' from MJDREF'. [astropy.wcs.wcs]\n"
     ]
    }
   ],
   "source": [
    "\n",
    "jemx_wcs = wcs.WCS(jemx_image.header)\n",
    "jemx_wcs.low_level_wcs\n",
    "\n",
    "jemx_deg_per_pix = np.linalg.eigvals(jemx_wcs.wcs.cd)[0]"
   ]
  },
  {
   "cell_type": "code",
   "execution_count": 421,
   "id": "contemporary-astrology",
   "metadata": {},
   "outputs": [],
   "source": [
    "jemx_deg_per_pix\n",
    "\n",
    "j_i, j_j = np.meshgrid(np.arange(jemx_var.data.shape[0]), np.arange(jemx_var.data.shape[1]))"
   ]
  },
  {
   "cell_type": "code",
   "execution_count": null,
   "id": "pregnant-charlotte",
   "metadata": {},
   "outputs": [],
   "source": []
  },
  {
   "cell_type": "code",
   "execution_count": 130,
   "id": "designed-community",
   "metadata": {},
   "outputs": [],
   "source": [
    "import scipy as sp\n",
    "import scipy.ndimage as ndimage\n",
    "\n",
    "jemx_var_sm = ndimage.filters.gaussian_filter(jemx_var, 1)"
   ]
  },
  {
   "cell_type": "code",
   "execution_count": 553,
   "id": "congressional-feeding",
   "metadata": {},
   "outputs": [
    {
     "data": {
      "text/plain": [
       "<matplotlib.legend.Legend at 0x7ff2485d81c0>"
      ]
     },
     "execution_count": 553,
     "metadata": {},
     "output_type": "execute_result"
    },
    {
     "data": {
      "image/png": "[encoded data removed]",
      "text/plain": [
       "<Figure size 432x288 with 1 Axes>"
      ]
     },
     "metadata": {
      "needs_background": "light"
     },
     "output_type": "display_data"
    }
   ],
   "source": [
    "plt.figure()\n",
    "\n",
    "for n, vr, dpp in (\"JEMX\", jemx_var, jemx_deg_per_pix), (\"ISGRI\", isgri_var, isgri_deg_per_pix):\n",
    "    h = np.histogram(\n",
    "        vr.flatten()**0.5/np.nanquantile(vr.flatten()**0.5, 0.5), \n",
    "        #np.linspace(0.9, 100, 100), \n",
    "        np.logspace(-0.1, 2, 100), \n",
    "     #   weights=np.ones_like(vr.flatten())*dpp**2,\n",
    "    )\n",
    "        \n",
    "    plt.plot(\n",
    "        (np.cumsum(h[0])*dpp**2)**0.5/np.pi,\n",
    "        h[1][:-1],\n",
    "        \n",
    "        alpha=0.5,\n",
    "        label=n,\n",
    "    )\n",
    "    \n",
    "    \n",
    "plt.legend()\n",
    "#plt.semilogx()\n",
    "\n"
   ]
  },
  {
   "cell_type": "code",
   "execution_count": 531,
   "id": "attached-action",
   "metadata": {},
   "outputs": [
    {
     "data": {
      "text/plain": [
       "6.041411744206471e-09"
      ]
     },
     "execution_count": 531,
     "metadata": {},
     "output_type": "execute_result"
    }
   ],
   "source": [
    "np.nanquantile(jemx_var.flatten(), 0.01)"
   ]
  },
  {
   "cell_type": "code",
   "execution_count": 134,
   "id": "accurate-headquarters",
   "metadata": {},
   "outputs": [
    {
     "name": "stderr",
     "output_type": "stream",
     "text": [
      "<ipython-input-134-6f2b5c0a1471>:26: RuntimeWarning: Mean of empty slice.\n",
      "  y.append(normed_var.flatten()[m].mean()**0.5)\n",
      "/home/savchenk/.pyenv/versions/3.8.6/lib/python3.8/site-packages/numpy/core/_methods.py:161: RuntimeWarning: invalid value encountered in true_divide\n",
      "  ret = ret.dtype.type(ret / rcount)\n"
     ]
    },
    {
     "data": {
      "text/plain": [
       "(0.0, 10.0)"
      ]
     },
     "execution_count": 134,
     "metadata": {},
     "output_type": "execute_result"
    },
    {
     "data": {
      "image/png": "[encoded data removed]",
      "text/plain": [
       "<Figure size 720x720 with 1 Axes>"
      ]
     },
     "metadata": {
      "needs_background": "light"
     },
     "output_type": "display_data"
    },
    {
     "data": {
      "image/png": "[encoded data removed]",
      "text/plain": [
       "<Figure size 432x288 with 1 Axes>"
      ]
     },
     "metadata": {
      "needs_background": "light"
     },
     "output_type": "display_data"
    }
   ],
   "source": [
    "plt.figure(figsize=(10,10))\n",
    "\n",
    "#isgri_var = isgri_image.mosaic_image_0_mosaic.to_fits_hdu_list()[3].data\n",
    "\n",
    "j_i, j_j = np.meshgrid(np.arange(jemx_var.data.shape[0]), np.arange(jemx_var.data.shape[1]))\n",
    "\n",
    "plt.contourf(\n",
    "    (j_i - np.mean(j_i)) * jemx_deg_per_pix,\n",
    "    (j_j - np.mean(j_j)) * jemx_deg_per_pix,\n",
    "    (jemx_var_sm/np.nanmin(jemx_var_sm))**0.5,\n",
    "    levels=(1, 1/0.5, 1/0.25, 1/0.1)\n",
    ")\n",
    "\n",
    "deg_from_scx = (((j_i - np.mean(j_i)) * jemx_deg_per_pix)**2 + ((j_j - np.mean(j_j)) * jemx_deg_per_pix)**2)**0.5\n",
    "\n",
    "plt.figure()\n",
    "\n",
    "_x = np.linspace(0, 20, 100)\n",
    "x = []\n",
    "y = []\n",
    "\n",
    "normed_var = jemx_var_sm/np.nanmin(jemx_var_sm) / 1.2\n",
    "\n",
    "for x1, x2 in zip(_x[:-1], _x[1:]):\n",
    "    m = (deg_from_scx.flatten() > x1) & (deg_from_scx.flatten()<=x2)\n",
    "    y.append(normed_var.flatten()[m].mean()**0.5)\n",
    "    x.append((x1+x2)/2.)\n",
    "    \n",
    "plt.scatter(\n",
    "    deg_from_scx.flatten(),\n",
    "    normed_var.flatten()**0.5,\n",
    ")\n",
    "\n",
    "deg_off_scx = np.array(x)\n",
    "sensitivity_jemx_vs_off_scx = interp1d(x, np.array(y), bounds_error=False)\n",
    "\n",
    "\n",
    "plt.plot(deg_off_scx, sensitivity_jemx_vs_off_scx(deg_off_scx), lw=3, c='r')\n",
    "plt.plot(x, np.array(y)*0 + 1, lw=3, c='g')\n",
    "\n",
    "plt.ylim([0,10])\n",
    "\n"
   ]
  },
  {
   "cell_type": "code",
   "execution_count": 494,
   "id": "beautiful-neighbor",
   "metadata": {},
   "outputs": [
    {
     "data": {
      "text/plain": [
       "29014.041"
      ]
     },
     "execution_count": 494,
     "metadata": {},
     "output_type": "execute_result"
    }
   ],
   "source": [
    "isgri_image = fits.open(\"/mnt/sshfs/isdc/unsaved/astro/savchenk/data/reduced/ddcache/byscw/2077/207700740010.000/ii_skyimage.v2/3d87cb36/isgri_sky_ima.fits.gz\")[3]\n",
    "\n",
    "isgri_image.data.max()"
   ]
  },
  {
   "cell_type": "code",
   "execution_count": 84,
   "id": "fitting-literature",
   "metadata": {},
   "outputs": [
    {
     "name": "stderr",
     "output_type": "stream",
     "text": [
      "WARNING: FITSFixedWarning: RADECSYS= 'FK5 ' / Stellar reference frame \n",
      "the RADECSYS keyword is deprecated, use RADESYSa. [astropy.wcs.wcs]\n",
      "WARNING: FITSFixedWarning: 'datfix' made the change 'Set DATEREF to '2000-01-01' from MJDREF'. [astropy.wcs.wcs]\n"
     ]
    },
    {
     "data": {
      "text/plain": [
       "<matplotlib.contour.QuadContourSet at 0x7f600e40c670>"
      ]
     },
     "execution_count": 84,
     "metadata": {},
     "output_type": "execute_result"
    },
    {
     "data": {
      "image/png": "[encoded data removed]",
      "text/plain": [
       "<Figure size 720x720 with 1 Axes>"
      ]
     },
     "metadata": {
      "needs_background": "light"
     },
     "output_type": "display_data"
    }
   ],
   "source": [
    "plt.figure(figsize=(10,10))\n",
    "\n",
    "isgri_image = fits.open(\"/mnt/sshfs/isdc/unsaved/astro/savchenk/data/reduced/ddcache/byscw/2077/207700740010.000/ii_skyimage.v2/3d87cb36/isgri_sky_ima.fits.gz\")[3]\n",
    "isgri_var = isgri_image.data[:,:]\n",
    "\n",
    "isgri_var[np.isnan(isgri_var)] = 1e9\n",
    "isgri_var[isgri_var == 0] = 1e9\n",
    "\n",
    "isgri_wcs = wcs.WCS(isgri_image.header)\n",
    "isgri_wcs.low_level_wcs\n",
    "\n",
    "isgri_deg_per_pix = np.linalg.eigvals(isgri_wcs.wcs.cd)[0]\n",
    "\n",
    "i_i, i_j = np.meshgrid(np.arange(isgri_var.data.shape[0]), np.arange(isgri_var.data.shape[1]))\n",
    "\n",
    "\n",
    "plt.contourf(\n",
    "    (i_i - np.mean(i_i)) * isgri_deg_per_pix,\n",
    "    (i_j - np.mean(i_j)) * isgri_deg_per_pix,\n",
    "    (isgri_var/np.nanmin(isgri_var))**0.5,\n",
    "    levels=(0, 0.5, 2),\n",
    "    #levels=(0, 0.5, 1., 1/0.5, 1/0.25, 1/0.1)\n",
    ")\n"
   ]
  },
  {
   "cell_type": "code",
   "execution_count": 108,
   "id": "annual-riding",
   "metadata": {},
   "outputs": [],
   "source": [
    "from scipy.interpolate import interp1d"
   ]
  },
  {
   "cell_type": "code",
   "execution_count": 140,
   "id": "completed-ticket",
   "metadata": {},
   "outputs": [
    {
     "data": {
      "text/plain": [
       "(0.0, 10.0)"
      ]
     },
     "execution_count": 140,
     "metadata": {},
     "output_type": "execute_result"
    },
    {
     "data": {
      "image/png": "[encoded data removed]",
      "text/plain": [
       "<Figure size 432x288 with 1 Axes>"
      ]
     },
     "metadata": {
      "needs_background": "light"
     },
     "output_type": "display_data"
    }
   ],
   "source": [
    "deg_from_scx = (((i_i - np.mean(i_i)) * isgri_deg_per_pix)**2 + ((i_j - np.mean(i_j)) * isgri_deg_per_pix)**2)**0.5\n",
    "\n",
    "plt.figure()\n",
    "\n",
    "_x = np.linspace(0, 20, 100)\n",
    "x = []\n",
    "y = []\n",
    "\n",
    "normed_var = isgri_var/np.nanmin(isgri_var) / 1.2\n",
    "\n",
    "for x1, x2 in zip(_x[:-1], _x[1:]):\n",
    "    m = (deg_from_scx.flatten() > x1) & (deg_from_scx.flatten()<=x2)\n",
    "    y.append(normed_var.flatten()[m].mean()**0.5)\n",
    "    x.append((x1+x2)/2.)\n",
    "    \n",
    "plt.scatter(\n",
    "    deg_from_scx.flatten(),\n",
    "    normed_var.flatten()**0.5,\n",
    ")\n",
    "\n",
    "deg_off_scx = np.array(x)\n",
    "sensitivity_isgri_vs_off_scx = interp1d(x, np.array(y), bounds_error=False)\n",
    "\n",
    "\n",
    "plt.plot(deg_off_scx, sensitivity_vs_off_scx(deg_off_scx), lw=3, c='r')\n",
    "plt.plot(x, np.array(y)*0 + 1, lw=3, c='g')\n",
    "\n",
    "plt.ylim([0,10])\n"
   ]
  },
  {
   "cell_type": "code",
   "execution_count": 496,
   "id": "immune-destination",
   "metadata": {},
   "outputs": [
    {
     "name": "stderr",
     "output_type": "stream",
     "text": [
      "<ipython-input-496-6b1937d1eedf>:1: RuntimeWarning: divide by zero encountered in true_divide\n",
      "  (isgri_var/np.nanmin(isgri_var))**0.5\n",
      "<ipython-input-496-6b1937d1eedf>:1: RuntimeWarning: invalid value encountered in true_divide\n",
      "  (isgri_var/np.nanmin(isgri_var))**0.5\n"
     ]
    },
    {
     "data": {
      "text/plain": [
       "array([[nan, nan, nan, ..., nan, nan, nan],\n",
       "       [nan, nan, nan, ..., nan, nan, nan],\n",
       "       [nan, nan, nan, ..., nan, nan, nan],\n",
       "       ...,\n",
       "       [nan, nan, nan, ..., nan, nan, nan],\n",
       "       [nan, nan, nan, ..., nan, nan, nan],\n",
       "       [nan, nan, nan, ..., nan, nan, nan]], dtype=float32)"
      ]
     },
     "execution_count": 496,
     "metadata": {},
     "output_type": "execute_result"
    }
   ],
   "source": [
    "#(isgri_var/np.nanmin(isgri_var))**0.5"
   ]
  },
  {
   "cell_type": "code",
   "execution_count": 498,
   "id": "framed-saying",
   "metadata": {},
   "outputs": [
    {
     "data": {
      "text/plain": [
       "29014.041"
      ]
     },
     "execution_count": 498,
     "metadata": {},
     "output_type": "execute_result"
    }
   ],
   "source": [
    "np.nanmax(isgri_var)"
   ]
  },
  {
   "cell_type": "code",
   "execution_count": 469,
   "id": "pressed-south",
   "metadata": {},
   "outputs": [
    {
     "ename": "AttributeError",
     "evalue": "'numpy.ndarray' object has no attribute 'nanmax'",
     "output_type": "error",
     "traceback": [
      "\u001b[0;31m---------------------------------------------------------------------------\u001b[0m",
      "\u001b[0;31mAttributeError\u001b[0m                            Traceback (most recent call last)",
      "\u001b[0;32m<ipython-input-469-696cd9bb3d01>\u001b[0m in \u001b[0;36m<module>\u001b[0;34m\u001b[0m\n\u001b[0;32m----> 1\u001b[0;31m \u001b[0misgri_var\u001b[0m\u001b[0;34m.\u001b[0m\u001b[0mnanmax\u001b[0m\u001b[0;34m(\u001b[0m\u001b[0;34m)\u001b[0m\u001b[0;34m\u001b[0m\u001b[0;34m\u001b[0m\u001b[0m\n\u001b[0m",
      "\u001b[0;31mAttributeError\u001b[0m: 'numpy.ndarray' object has no attribute 'nanmax'"
     ]
    }
   ],
   "source": [
    "isgri_var.nanmax()"
   ]
  },
  {
   "cell_type": "code",
   "execution_count": 454,
   "id": "enabling-comment",
   "metadata": {},
   "outputs": [
    {
     "ename": "SyntaxError",
     "evalue": "invalid syntax (<ipython-input-454-c10dbbcdabf4>, line 13)",
     "output_type": "error",
     "traceback": [
      "\u001b[0;36m  File \u001b[0;32m\"<ipython-input-454-c10dbbcdabf4>\"\u001b[0;36m, line \u001b[0;32m13\u001b[0m\n\u001b[0;31m    plt.axvline(4.8., label='JEMX \"part illuminated\"', c='r', ls='--')\u001b[0m\n\u001b[0m                    ^\u001b[0m\n\u001b[0;31mSyntaxError\u001b[0m\u001b[0;31m:\u001b[0m invalid syntax\n"
     ]
    }
   ],
   "source": [
    "plt.figure()\n",
    "\n",
    "plt.hist(\n",
    "    R['Jupiter_from_sc_x_deg'], np.linspace(0, 10), cumulative=1, alpha=0.5)\n",
    "\n",
    "plt.ylabel('pointings within radius')\n",
    "\n",
    "plt\n",
    "\n",
    "plt.axvline(3/2., label='JEMX \"fully illuminated\"', c='r')\n",
    "plt.axvline(8./2., label='ISGRI fully coded', c='g')\n",
    "\n",
    "plt.axvline(4.8., label='JEMX \"part illuminated\"', c='r', ls='--')\n",
    "plt.axvline(8.., label='ISGRI part coded', c='g', ls='--')\n",
    "\n",
    "\n",
    "plt.grid()\n",
    "\n",
    "plt.legend()\n",
    "\n",
    "plt.xlabel(\"deg from Jupiter\")\n",
    "\n",
    "plt.savefig(\"jupiter-pointings.png\")"
   ]
  },
  {
   "cell_type": "code",
   "execution_count": 264,
   "id": "spoken-tissue",
   "metadata": {},
   "outputs": [
    {
     "data": {
      "text/html": [
       "<div>\n",
       "<style scoped>\n",
       "    .dataframe tbody tr th:only-of-type {\n",
       "        vertical-align: middle;\n",
       "    }\n",
       "\n",
       "    .dataframe tbody tr th {\n",
       "        vertical-align: top;\n",
       "    }\n",
       "\n",
       "    .dataframe thead th {\n",
       "        text-align: right;\n",
       "    }\n",
       "</style>\n",
       "<table border=\"1\" class=\"dataframe\">\n",
       "  <thead>\n",
       "    <tr style=\"text-align: right;\">\n",
       "      <th></th>\n",
       "      <th>Unnamed: 0</th>\n",
       "      <th>SCW_ID</th>\n",
       "      <th>SCW_VER</th>\n",
       "      <th>SCW_TYPE</th>\n",
       "      <th>RA_X</th>\n",
       "      <th>DEC_X</th>\n",
       "      <th>START_DATE</th>\n",
       "      <th>END_DATE</th>\n",
       "      <th>OBS_ID</th>\n",
       "      <th>OBS_TYPE</th>\n",
       "      <th>...</th>\n",
       "      <th>Neptune_distance_cm</th>\n",
       "      <th>Pluto_ra</th>\n",
       "      <th>Pluto_dec</th>\n",
       "      <th>Pluto_distance_cm</th>\n",
       "      <th>Venus_from_sc_x_deg</th>\n",
       "      <th>Mars_from_sc_x_deg</th>\n",
       "      <th>Jupiter_from_sc_x_deg</th>\n",
       "      <th>Saturn_from_sc_x_deg</th>\n",
       "      <th>Uranus_from_sc_x_deg</th>\n",
       "      <th>Neptune_from_sc_x_deg</th>\n",
       "    </tr>\n",
       "  </thead>\n",
       "  <tbody>\n",
       "    <tr>\n",
       "      <th>23364</th>\n",
       "      <td>23364</td>\n",
       "      <td>32100080010</td>\n",
       "      <td>1</td>\n",
       "      <td>POINTING</td>\n",
       "      <td>188.441177</td>\n",
       "      <td>-1.924306</td>\n",
       "      <td>2005-05-30 22:02:19</td>\n",
       "      <td>2005-05-30 22:37:02</td>\n",
       "      <td>03999150001                                   ...</td>\n",
       "      <td>GCDE</td>\n",
       "      <td>...</td>\n",
       "      <td>443833056905342.3</td>\n",
       "      <td>263.3898576528224</td>\n",
       "      <td>-14.984057360137609</td>\n",
       "      <td>inf</td>\n",
       "      <td>103.106886</td>\n",
       "      <td>162.839829</td>\n",
       "      <td>0.415057</td>\n",
       "      <td>74.150501</td>\n",
       "      <td>152.076445</td>\n",
       "      <td>128.973614</td>\n",
       "    </tr>\n",
       "    <tr>\n",
       "      <th>47930</th>\n",
       "      <td>47930</td>\n",
       "      <td>68000090010</td>\n",
       "      <td>1</td>\n",
       "      <td>POINTING</td>\n",
       "      <td>294.163788</td>\n",
       "      <td>-21.377695000000003</td>\n",
       "      <td>2008-05-08 15:09:54</td>\n",
       "      <td>2008-05-08 16:08:00</td>\n",
       "      <td>05200260004                                   ...</td>\n",
       "      <td>GENERAL</td>\n",
       "      <td>...</td>\n",
       "      <td>450659335464671.2</td>\n",
       "      <td>270.85097639091566</td>\n",
       "      <td>-17.021424214009894</td>\n",
       "      <td>inf</td>\n",
       "      <td>107.406619</td>\n",
       "      <td>172.901638</td>\n",
       "      <td>0.290940</td>\n",
       "      <td>140.771870</td>\n",
       "      <td>59.179728</td>\n",
       "      <td>31.645304</td>\n",
       "    </tr>\n",
       "    <tr>\n",
       "      <th>146377</th>\n",
       "      <td>146377</td>\n",
       "      <td>207800120010</td>\n",
       "      <td>1</td>\n",
       "      <td>POINTING</td>\n",
       "      <td>263.723236</td>\n",
       "      <td>-23.071832999999998</td>\n",
       "      <td>2019-04-11 11:08:50</td>\n",
       "      <td>2019-04-11 11:42:11</td>\n",
       "      <td>16200230012                                   ...</td>\n",
       "      <td>GENERAL</td>\n",
       "      <td>...</td>\n",
       "      <td>460236811287725.8</td>\n",
       "      <td>294.98716131029215</td>\n",
       "      <td>-21.716596525681897</td>\n",
       "      <td>inf</td>\n",
       "      <td>84.378195</td>\n",
       "      <td>162.861495</td>\n",
       "      <td>0.419098</td>\n",
       "      <td>25.746776</td>\n",
       "      <td>127.380971</td>\n",
       "      <td>82.959784</td>\n",
       "    </tr>\n",
       "  </tbody>\n",
       "</table>\n",
       "<p>3 rows × 68 columns</p>\n",
       "</div>"
      ],
      "text/plain": [
       "       Unnamed: 0        SCW_ID SCW_VER  SCW_TYPE        RA_X  \\\n",
       "23364       23364   32100080010       1  POINTING  188.441177   \n",
       "47930       47930   68000090010       1  POINTING  294.163788   \n",
       "146377     146377  207800120010       1  POINTING  263.723236   \n",
       "\n",
       "                      DEC_X           START_DATE             END_DATE  \\\n",
       "23364             -1.924306  2005-05-30 22:02:19  2005-05-30 22:37:02   \n",
       "47930   -21.377695000000003  2008-05-08 15:09:54  2008-05-08 16:08:00   \n",
       "146377  -23.071832999999998  2019-04-11 11:08:50  2019-04-11 11:42:11   \n",
       "\n",
       "                                                   OBS_ID       OBS_TYPE  ...  \\\n",
       "23364   03999150001                                   ...  GCDE           ...   \n",
       "47930   05200260004                                   ...  GENERAL        ...   \n",
       "146377  16200230012                                   ...  GENERAL        ...   \n",
       "\n",
       "       Neptune_distance_cm            Pluto_ra            Pluto_dec  \\\n",
       "23364    443833056905342.3   263.3898576528224  -14.984057360137609   \n",
       "47930    450659335464671.2  270.85097639091566  -17.021424214009894   \n",
       "146377   460236811287725.8  294.98716131029215  -21.716596525681897   \n",
       "\n",
       "       Pluto_distance_cm Venus_from_sc_x_deg Mars_from_sc_x_deg  \\\n",
       "23364                inf          103.106886         162.839829   \n",
       "47930                inf          107.406619         172.901638   \n",
       "146377               inf           84.378195         162.861495   \n",
       "\n",
       "       Jupiter_from_sc_x_deg Saturn_from_sc_x_deg Uranus_from_sc_x_deg  \\\n",
       "23364               0.415057            74.150501           152.076445   \n",
       "47930               0.290940           140.771870            59.179728   \n",
       "146377              0.419098            25.746776           127.380971   \n",
       "\n",
       "       Neptune_from_sc_x_deg  \n",
       "23364             128.973614  \n",
       "47930              31.645304  \n",
       "146377             82.959784  \n",
       "\n",
       "[3 rows x 68 columns]"
      ]
     },
     "execution_count": 264,
     "metadata": {},
     "output_type": "execute_result"
    }
   ],
   "source": [
    "R[R['Jupiter_from_sc_x_deg'] < 0.5]"
   ]
  },
  {
   "cell_type": "code",
   "execution_count": 270,
   "id": "dutch-israel",
   "metadata": {},
   "outputs": [],
   "source": [
    "h0 = np.histogram(\n",
    "    SkyCoord(R['RA_X'], R['DEC_X'], unit='deg').separation(SkyCoord(10,20, unit='deg')).deg, np.linspace(0, 10))\n"
   ]
  },
  {
   "cell_type": "code",
   "execution_count": 272,
   "id": "identical-interim",
   "metadata": {},
   "outputs": [
    {
     "name": "stderr",
     "output_type": "stream",
     "text": [
      "<ipython-input-272-74c5d64f4fbf>:10: RuntimeWarning: invalid value encountered in true_divide\n",
      "  (np.cumsum(h[0]) - np.cumsum(h[0])**0.5) / h[1][:-1]**2,\n",
      "<ipython-input-272-74c5d64f4fbf>:11: RuntimeWarning: invalid value encountered in true_divide\n",
      "  (np.cumsum(h[0]) + np.cumsum(h[0])**0.5) / h[1][:-1]**2,\n",
      "<ipython-input-272-74c5d64f4fbf>:19: RuntimeWarning: invalid value encountered in true_divide\n",
      "  100*(np.cumsum(h0[0]) - np.cumsum(h0[0])**0.5) / h0[1][:-1]**2,\n",
      "<ipython-input-272-74c5d64f4fbf>:20: RuntimeWarning: invalid value encountered in true_divide\n",
      "  100*(np.cumsum(h0[0]) + np.cumsum(h0[0])**0.5) / h0[1][:-1]**2,\n"
     ]
    },
    {
     "data": {
      "text/plain": [
       "Text(0.5, 0, 'deg from Jupiter')"
      ]
     },
     "execution_count": 272,
     "metadata": {},
     "output_type": "execute_result"
    },
    {
     "data": {
      "image/png": "[encoded data removed]",
      "text/plain": [
       "<Figure size 432x288 with 1 Axes>"
      ]
     },
     "metadata": {
      "needs_background": "light"
     },
     "output_type": "display_data"
    }
   ],
   "source": [
    "plt.figure()\n",
    "\n",
    "h = np.histogram(\n",
    "    R['Jupiter_from_sc_x_deg'], np.linspace(0, 10))\n",
    "\n",
    "plt.ylabel('pointings within radius')\n",
    "\n",
    "plt.fill_between(\n",
    "    h[1][:-1],\n",
    "    (np.cumsum(h[0]) - np.cumsum(h[0])**0.5) / h[1][:-1]**2,\n",
    "    (np.cumsum(h[0]) + np.cumsum(h[0])**0.5) / h[1][:-1]**2,\n",
    "    alpha=0.3\n",
    ")\n",
    "\n",
    "\n",
    "\n",
    "plt.ylim([0,30])\n",
    "\n",
    "plt.axvline(4.8, label='JEMX \"fully illuminated\"', c='r')\n",
    "plt.axvline(8., label='ISGRI fully coded', c='g')\n",
    "\n",
    "plt.grid()\n",
    "\n",
    "plt.legend()\n",
    "\n",
    "plt.xlabel(\"deg from Jupiter\")\n"
   ]
  },
  {
   "cell_type": "code",
   "execution_count": 23,
   "id": "australian-event",
   "metadata": {},
   "outputs": [
    {
     "ename": "AttributeError",
     "evalue": "'numpy.ndarray' object has no attribute 'to'",
     "output_type": "error",
     "traceback": [
      "\u001b[0;31m---------------------------------------------------------------------------\u001b[0m",
      "\u001b[0;31mAttributeError\u001b[0m                            Traceback (most recent call last)",
      "\u001b[0;32m<ipython-input-23-a1151e8e383f>\u001b[0m in \u001b[0;36m<module>\u001b[0;34m\u001b[0m\n\u001b[1;32m     17\u001b[0m \u001b[0;34m\u001b[0m\u001b[0m\n\u001b[1;32m     18\u001b[0m \u001b[0;34m\u001b[0m\u001b[0m\n\u001b[0;32m---> 19\u001b[0;31m \u001b[0mprint\u001b[0m\u001b[0;34m(\u001b[0m\u001b[0mtotal_sensitivity\u001b[0m\u001b[0;34m(\u001b[0m\u001b[0;34m'Jupiter'\u001b[0m\u001b[0;34m)\u001b[0m\u001b[0;34m)\u001b[0m\u001b[0;34m\u001b[0m\u001b[0;34m\u001b[0m\u001b[0m\n\u001b[0m\u001b[1;32m     20\u001b[0m \u001b[0mprint\u001b[0m\u001b[0;34m(\u001b[0m\u001b[0mtotal_sensitivity\u001b[0m\u001b[0;34m(\u001b[0m\u001b[0;34m'Venus'\u001b[0m\u001b[0;34m)\u001b[0m\u001b[0;34m)\u001b[0m\u001b[0;34m\u001b[0m\u001b[0;34m\u001b[0m\u001b[0m\n",
      "\u001b[0;32m<ipython-input-23-a1151e8e383f>\u001b[0m in \u001b[0;36mtotal_sensitivity\u001b[0;34m(body_name, lim_deg)\u001b[0m\n\u001b[1;32m      7\u001b[0m     \u001b[0mm\u001b[0m \u001b[0;34m=\u001b[0m \u001b[0msep\u001b[0m \u001b[0;34m<\u001b[0m \u001b[0mlim_deg\u001b[0m\u001b[0;34m\u001b[0m\u001b[0;34m\u001b[0m\u001b[0m\n\u001b[1;32m      8\u001b[0m \u001b[0;34m\u001b[0m\u001b[0m\n\u001b[0;32m----> 9\u001b[0;31m     \u001b[0msens\u001b[0m \u001b[0;34m=\u001b[0m \u001b[0mnp\u001b[0m\u001b[0;34m.\u001b[0m\u001b[0marray\u001b[0m\u001b[0;34m(\u001b[0m\u001b[0;34m(\u001b[0m\u001b[0;34m(\u001b[0m\u001b[0mdistance_cm\u001b[0m\u001b[0;34m[\u001b[0m\u001b[0mm\u001b[0m\u001b[0;34m]\u001b[0m \u001b[0;34m*\u001b[0m \u001b[0mu\u001b[0m\u001b[0;34m.\u001b[0m\u001b[0mcm\u001b[0m\u001b[0;34m)\u001b[0m\u001b[0;34m**\u001b[0m\u001b[0;36m2\u001b[0m \u001b[0;34m*\u001b[0m \u001b[0misgri_sensitivity_25_80_keV_1sigma_2ks\u001b[0m \u001b[0;34m*\u001b[0m \u001b[0;34m(\u001b[0m\u001b[0mR\u001b[0m\u001b[0;34m[\u001b[0m\u001b[0;34m'GOOD_ISGRI'\u001b[0m\u001b[0;34m]\u001b[0m\u001b[0;34m[\u001b[0m\u001b[0mm\u001b[0m\u001b[0;34m]\u001b[0m\u001b[0;34m.\u001b[0m\u001b[0mastype\u001b[0m\u001b[0;34m(\u001b[0m\u001b[0mfloat\u001b[0m\u001b[0;34m)\u001b[0m\u001b[0;34m/\u001b[0m\u001b[0;36m2000\u001b[0m\u001b[0;34m)\u001b[0m\u001b[0;34m**\u001b[0m\u001b[0;36m0.5\u001b[0m\u001b[0;34m)\u001b[0m\u001b[0;34m)\u001b[0m\u001b[0;34m.\u001b[0m\u001b[0mto\u001b[0m\u001b[0;34m(\u001b[0m\u001b[0mu\u001b[0m\u001b[0;34m.\u001b[0m\u001b[0merg\u001b[0m\u001b[0;34m/\u001b[0m\u001b[0mu\u001b[0m\u001b[0;34m.\u001b[0m\u001b[0ms\u001b[0m\u001b[0;34m)\u001b[0m\u001b[0;34m\u001b[0m\u001b[0;34m\u001b[0m\u001b[0m\n\u001b[0m\u001b[1;32m     10\u001b[0m \u001b[0;34m\u001b[0m\u001b[0m\n\u001b[1;32m     11\u001b[0m     \u001b[0msens_combined\u001b[0m \u001b[0;34m=\u001b[0m \u001b[0mnp\u001b[0m\u001b[0;34m.\u001b[0m\u001b[0msum\u001b[0m\u001b[0;34m(\u001b[0m\u001b[0;34m(\u001b[0m\u001b[0msens\u001b[0m\u001b[0;34m**\u001b[0m\u001b[0;34m-\u001b[0m\u001b[0;36m2\u001b[0m\u001b[0;34m)\u001b[0m\u001b[0;34m)\u001b[0m\u001b[0;34m**\u001b[0m\u001b[0;34m-\u001b[0m\u001b[0;36m0.5\u001b[0m \u001b[0;31m# weighed mean uncertainty\u001b[0m\u001b[0;34m\u001b[0m\u001b[0;34m\u001b[0m\u001b[0m\n",
      "\u001b[0;31mAttributeError\u001b[0m: 'numpy.ndarray' object has no attribute 'to'"
     ]
    }
   ],
   "source": [
    "isgri_sensitivity_25_80_keV_1sigma_2ks = 1e-8 * u.erg/u.cm**2/u.s * (1./200.) # 200 sigma in a pointing\n",
    "\n",
    "\n",
    "def total_sensitivity(body_name, lim_deg=10):\n",
    "    sep = R[body_name+\"_from_sc_x_deg\"].astype(float)\n",
    "    distance_cm = R[body_name+\"_distance_cm\"].astype(float)\n",
    "    m = sep < lim_deg    \n",
    "    \n",
    "    sens = np.array(((distance_cm[m] * u.cm)**2 * isgri_sensitivity_25_80_keV_1sigma_2ks * (R['GOOD_ISGRI'][m].astype(float)/2000)**0.5)).to(u.erg/u.s)\n",
    "\n",
    "    sens_combined = np.sum((sens**-2))**-0.5 # weighed mean uncertainty\n",
    "\n",
    "    return dict(\n",
    "        lum_sens_total=sens_combined,\n",
    "        lum_reference=reference_object_erg_s[body_name]*u.erg/u.s,\n",
    "    )\n",
    "        \n",
    "    \n",
    "print(total_sensitivity('Jupiter'))\n",
    "print(total_sensitivity('Venus'))\n"
   ]
  },
  {
   "cell_type": "code",
   "execution_count": 29,
   "id": "cubic-bahamas",
   "metadata": {},
   "outputs": [
    {
     "data": {
      "text/latex": [
       "$5.5 \\times 10^{14} \\; \\mathrm{\\frac{erg}{s}}$"
      ],
      "text/plain": [
       "<Quantity 5.5e+14 erg / s>"
      ]
     },
     "execution_count": 29,
     "metadata": {},
     "output_type": "execute_result"
    }
   ],
   "source": [
    "# https://arxiv.org/pdf/1012.1088.pdf claims Venus X-ray luminosity could be :\n",
    "\n",
    "(55*u.MW).to(u.erg/u.s)\n",
    "\n",
    "# they also claim that only Chandra could do it. Of course, INTEGRAL can also! Even if not formally. But actually she already did it."
   ]
  },
  {
   "cell_type": "code",
   "execution_count": 763,
   "id": "preceding-synthetic",
   "metadata": {},
   "outputs": [
    {
     "data": {
      "text/latex": [
       "$5.5 \\times 10^{14} \\; \\mathrm{\\frac{erg}{s}}$"
      ],
      "text/plain": [
       "<Quantity 5.5e+14 erg / s>"
      ]
     },
     "execution_count": 763,
     "metadata": {},
     "output_type": "execute_result"
    }
   ],
   "source": [
    "# heasarc claims\n",
    "\n",
    "reference_object_erg_s['Venus']*u.erg/u.s "
   ]
  },
  {
   "cell_type": "code",
   "execution_count": 789,
   "id": "immediate-great",
   "metadata": {},
   "outputs": [
    {
     "data": {
      "text/html": [
       "&lt;Column name=&apos;SCW_ID&apos; dtype=&apos;str12&apos; length=81&gt;\n",
       "<table>\n",
       "<tr><td>022500150010</td></tr>\n",
       "<tr><td>036900690010</td></tr>\n",
       "<tr><td>036900700010</td></tr>\n",
       "<tr><td>036900710010</td></tr>\n",
       "<tr><td>037000660010</td></tr>\n",
       "<tr><td>037000670010</td></tr>\n",
       "<tr><td>037000680010</td></tr>\n",
       "<tr><td>037000690010</td></tr>\n",
       "<tr><td>037000700010</td></tr>\n",
       "<tr><td>037000710010</td></tr>\n",
       "<tr><td>037000720010</td></tr>\n",
       "<tr><td>116000560010</td></tr>\n",
       "<tr><td>...</td></tr>\n",
       "<tr><td>134800190010</td></tr>\n",
       "<tr><td>134800200010</td></tr>\n",
       "<tr><td>134800210010</td></tr>\n",
       "<tr><td>134800220010</td></tr>\n",
       "<tr><td>198300100010</td></tr>\n",
       "<tr><td>198300110010</td></tr>\n",
       "<tr><td>198300130010</td></tr>\n",
       "<tr><td>198300140010</td></tr>\n",
       "<tr><td>205600100010</td></tr>\n",
       "<tr><td>205600110010</td></tr>\n",
       "<tr><td>205600360010</td></tr>\n",
       "<tr><td>205600370010</td></tr>\n",
       "</table>"
      ],
      "text/plain": [
       "<Column name='SCW_ID' dtype='str12' length=81>\n",
       "022500150010\n",
       "036900690010\n",
       "036900700010\n",
       "036900710010\n",
       "037000660010\n",
       "037000670010\n",
       "037000680010\n",
       "037000690010\n",
       "037000700010\n",
       "037000710010\n",
       "037000720010\n",
       "116000560010\n",
       "         ...\n",
       "134800190010\n",
       "134800200010\n",
       "134800210010\n",
       "134800220010\n",
       "198300100010\n",
       "198300110010\n",
       "198300130010\n",
       "198300140010\n",
       "205600100010\n",
       "205600110010\n",
       "205600360010\n",
       "205600370010"
      ]
     },
     "execution_count": 789,
     "metadata": {},
     "output_type": "execute_result"
    }
   ],
   "source": [
    "R['SCW_ID'][R['Venus_from_sc_x_deg']<10]"
   ]
  },
  {
   "cell_type": "code",
   "execution_count": 27,
   "id": "developing-approval",
   "metadata": {},
   "outputs": [
    {
     "ename": "IndexError",
     "evalue": "Boolean index has wrong length: 1095 instead of 160553",
     "output_type": "error",
     "traceback": [
      "\u001b[0;31m---------------------------------------------------------------------------\u001b[0m",
      "\u001b[0;31mIndexError\u001b[0m                                Traceback (most recent call last)",
      "\u001b[0;32m<ipython-input-27-1c8b40a519d5>\u001b[0m in \u001b[0;36m<module>\u001b[0;34m\u001b[0m\n\u001b[1;32m     20\u001b[0m     \u001b[0;32mreturn\u001b[0m \u001b[0msegments\u001b[0m\u001b[0;34m\u001b[0m\u001b[0;34m\u001b[0m\u001b[0m\n\u001b[1;32m     21\u001b[0m \u001b[0;34m\u001b[0m\u001b[0m\n\u001b[0;32m---> 22\u001b[0;31m \u001b[0;32mfor\u001b[0m \u001b[0mm_segment\u001b[0m \u001b[0;32min\u001b[0m \u001b[0msplit_segments\u001b[0m\u001b[0;34m(\u001b[0m\u001b[0mR\u001b[0m\u001b[0;34m[\u001b[0m\u001b[0;34m'IJD_START'\u001b[0m\u001b[0;34m]\u001b[0m\u001b[0;34m[\u001b[0m\u001b[0mm_sun_angle\u001b[0m\u001b[0;34m]\u001b[0m\u001b[0;34m.\u001b[0m\u001b[0mastype\u001b[0m\u001b[0;34m(\u001b[0m\u001b[0mfloat\u001b[0m\u001b[0;34m)\u001b[0m\u001b[0;34m)\u001b[0m\u001b[0;34m:\u001b[0m\u001b[0;34m\u001b[0m\u001b[0;34m\u001b[0m\u001b[0m\n\u001b[0m\u001b[1;32m     23\u001b[0m     plt.plot(\n\u001b[1;32m     24\u001b[0m         \u001b[0mT\u001b[0m\u001b[0;34m[\u001b[0m\u001b[0mm_sun_angle\u001b[0m\u001b[0;34m]\u001b[0m\u001b[0;34m[\u001b[0m\u001b[0mm_segment\u001b[0m\u001b[0;34m]\u001b[0m\u001b[0;34m,\u001b[0m\u001b[0;34m\u001b[0m\u001b[0;34m\u001b[0m\u001b[0m\n",
      "\u001b[0;32m~/.pyenv/versions/3.8.6/lib/python3.8/site-packages/pandas/core/series.py\u001b[0m in \u001b[0;36m__getitem__\u001b[0;34m(self, key)\u001b[0m\n\u001b[1;32m    900\u001b[0m \u001b[0;34m\u001b[0m\u001b[0m\n\u001b[1;32m    901\u001b[0m         \u001b[0;32mif\u001b[0m \u001b[0mcom\u001b[0m\u001b[0;34m.\u001b[0m\u001b[0mis_bool_indexer\u001b[0m\u001b[0;34m(\u001b[0m\u001b[0mkey\u001b[0m\u001b[0;34m)\u001b[0m\u001b[0;34m:\u001b[0m\u001b[0;34m\u001b[0m\u001b[0;34m\u001b[0m\u001b[0m\n\u001b[0;32m--> 902\u001b[0;31m             \u001b[0mkey\u001b[0m \u001b[0;34m=\u001b[0m \u001b[0mcheck_bool_indexer\u001b[0m\u001b[0;34m(\u001b[0m\u001b[0mself\u001b[0m\u001b[0;34m.\u001b[0m\u001b[0mindex\u001b[0m\u001b[0;34m,\u001b[0m \u001b[0mkey\u001b[0m\u001b[0;34m)\u001b[0m\u001b[0;34m\u001b[0m\u001b[0;34m\u001b[0m\u001b[0m\n\u001b[0m\u001b[1;32m    903\u001b[0m             \u001b[0mkey\u001b[0m \u001b[0;34m=\u001b[0m \u001b[0mnp\u001b[0m\u001b[0;34m.\u001b[0m\u001b[0masarray\u001b[0m\u001b[0;34m(\u001b[0m\u001b[0mkey\u001b[0m\u001b[0;34m,\u001b[0m \u001b[0mdtype\u001b[0m\u001b[0;34m=\u001b[0m\u001b[0mbool\u001b[0m\u001b[0;34m)\u001b[0m\u001b[0;34m\u001b[0m\u001b[0;34m\u001b[0m\u001b[0m\n\u001b[1;32m    904\u001b[0m             \u001b[0;32mreturn\u001b[0m \u001b[0mself\u001b[0m\u001b[0;34m.\u001b[0m\u001b[0m_get_values\u001b[0m\u001b[0;34m(\u001b[0m\u001b[0mkey\u001b[0m\u001b[0;34m)\u001b[0m\u001b[0;34m\u001b[0m\u001b[0;34m\u001b[0m\u001b[0m\n",
      "\u001b[0;32m~/.pyenv/versions/3.8.6/lib/python3.8/site-packages/pandas/core/indexing.py\u001b[0m in \u001b[0;36mcheck_bool_indexer\u001b[0;34m(index, key)\u001b[0m\n\u001b[1;32m   2193\u001b[0m         \u001b[0;31m# key may contain nan elements, check_array_indexer needs bool array\u001b[0m\u001b[0;34m\u001b[0m\u001b[0;34m\u001b[0m\u001b[0;34m\u001b[0m\u001b[0m\n\u001b[1;32m   2194\u001b[0m         \u001b[0mresult\u001b[0m \u001b[0;34m=\u001b[0m \u001b[0mpd_array\u001b[0m\u001b[0;34m(\u001b[0m\u001b[0mresult\u001b[0m\u001b[0;34m,\u001b[0m \u001b[0mdtype\u001b[0m\u001b[0;34m=\u001b[0m\u001b[0mbool\u001b[0m\u001b[0;34m)\u001b[0m\u001b[0;34m\u001b[0m\u001b[0;34m\u001b[0m\u001b[0m\n\u001b[0;32m-> 2195\u001b[0;31m     \u001b[0;32mreturn\u001b[0m \u001b[0mcheck_array_indexer\u001b[0m\u001b[0;34m(\u001b[0m\u001b[0mindex\u001b[0m\u001b[0;34m,\u001b[0m \u001b[0mresult\u001b[0m\u001b[0;34m)\u001b[0m\u001b[0;34m\u001b[0m\u001b[0;34m\u001b[0m\u001b[0m\n\u001b[0m\u001b[1;32m   2196\u001b[0m \u001b[0;34m\u001b[0m\u001b[0m\n\u001b[1;32m   2197\u001b[0m \u001b[0;34m\u001b[0m\u001b[0m\n",
      "\u001b[0;32m~/.pyenv/versions/3.8.6/lib/python3.8/site-packages/pandas/core/indexers.py\u001b[0m in \u001b[0;36mcheck_array_indexer\u001b[0;34m(array, indexer)\u001b[0m\n\u001b[1;32m    468\u001b[0m         \u001b[0;31m# GH26658\u001b[0m\u001b[0;34m\u001b[0m\u001b[0;34m\u001b[0m\u001b[0;34m\u001b[0m\u001b[0m\n\u001b[1;32m    469\u001b[0m         \u001b[0;32mif\u001b[0m \u001b[0mlen\u001b[0m\u001b[0;34m(\u001b[0m\u001b[0mindexer\u001b[0m\u001b[0;34m)\u001b[0m \u001b[0;34m!=\u001b[0m \u001b[0mlen\u001b[0m\u001b[0;34m(\u001b[0m\u001b[0marray\u001b[0m\u001b[0;34m)\u001b[0m\u001b[0;34m:\u001b[0m\u001b[0;34m\u001b[0m\u001b[0;34m\u001b[0m\u001b[0m\n\u001b[0;32m--> 470\u001b[0;31m             raise IndexError(\n\u001b[0m\u001b[1;32m    471\u001b[0m                 \u001b[0;34mf\"Boolean index has wrong length: \"\u001b[0m\u001b[0;34m\u001b[0m\u001b[0;34m\u001b[0m\u001b[0m\n\u001b[1;32m    472\u001b[0m                 \u001b[0;34mf\"{len(indexer)} instead of {len(array)}\"\u001b[0m\u001b[0;34m\u001b[0m\u001b[0;34m\u001b[0m\u001b[0m\n",
      "\u001b[0;31mIndexError\u001b[0m: Boolean index has wrong length: 1095 instead of 160553"
     ]
    },
    {
     "data": {
      "text/plain": [
       "<Figure size 864x720 with 0 Axes>"
      ]
     },
     "metadata": {},
     "output_type": "display_data"
    }
   ],
   "source": [
    "plt.figure(figsize=(12,10))\n",
    "\n",
    "def split_segments(ijd, limit=60):\n",
    "    if len(ijd) == 0:\n",
    "        return []\n",
    "    \n",
    "    d_ijd = ijd[1:] - ijd[:-1]\n",
    "    \n",
    "    m_change_points = d_ijd > limit\n",
    "    \n",
    "    change_points = [ijd[0]] + list(ijd[:-1][m_change_points]) + [ijd[-1]]\n",
    "    \n",
    "    segments = []\n",
    "    \n",
    "    for i1,i2 in zip(change_points[:-1], change_points[1:]):\n",
    "        segments.append(\n",
    "            (ijd > i1) & (ijd < i2)\n",
    "        )\n",
    "    \n",
    "    return segments\n",
    "    \n",
    "for m_segment in split_segments(R['IJD_START'][m_sun_angle].astype(float)):\n",
    "    plt.plot(\n",
    "        T[m_sun_angle][m_segment],\n",
    "        R['Sun_distance_cm'][m_sun_angle][m_segment],\n",
    "        lw=3,\n",
    "        c='r'\n",
    "    )"
   ]
  },
  {
   "cell_type": "code",
   "execution_count": null,
   "id": "strong-pepper",
   "metadata": {},
   "outputs": [],
   "source": [
    "# jupiter is best but has tons of observations"
   ]
  },
  {
   "cell_type": "code",
   "execution_count": null,
   "id": "natural-performance",
   "metadata": {},
   "outputs": [],
   "source": [
    "# venus has no MF, but\n",
    "# despite what is claimed, INTEGRAL can too\n",
    "# https://arxiv.org/pdf/1012.1088.pdf\n",
    "\n",
    "# if there is a flare when observation is possible, it would be nice to observe for a week, could be detection"
   ]
  },
  {
   "cell_type": "code",
   "execution_count": 276,
   "id": "acquired-vienna",
   "metadata": {},
   "outputs": [
    {
     "name": "stderr",
     "output_type": "stream",
     "text": [
      "2021-03-24 19:54:15 savchenk-NG-VN7-793G-79EG root[1743133] INFO url https://www.astro.unige.ch/cdci/astrooda/dispatch-data/gw//timesystem/api/v1.0/converttime/IJD/5041.5211700300997109/UTC\n"
     ]
    },
    {
     "name": "stdout",
     "output_type": "stream",
     "text": [
      "5037.8197997775305 5044.493882091212\n"
     ]
    },
    {
     "name": "stderr",
     "output_type": "stream",
     "text": [
      "2021-03-24 19:54:15 savchenk-NG-VN7-793G-79EG root[1743133] INFO url https://www.astro.unige.ch/cdci/astrooda/dispatch-data/gw//timesystem/api/v1.0/converttime/IJD/5044.4926764766796623/UTC\n",
      "2021-03-24 19:54:15 savchenk-NG-VN7-793G-79EG root[1743133] INFO url https://www.astro.unige.ch/cdci/astrooda/dispatch-data/gw//timesystem/api/v1.0/converttime/IJD/5041.5211700300997109/SCWID\n",
      "2021-03-24 19:54:16 savchenk-NG-VN7-793G-79EG root[1743133] INFO url https://www.astro.unige.ch/cdci/astrooda/dispatch-data/gw//timesystem/api/v1.0/converttime/IJD/5044.4926764766796623/SCWID\n",
      "2021-03-24 19:54:18 savchenk-NG-VN7-793G-79EG root[1743133] INFO url https://www.astro.unige.ch/cdci/astrooda/dispatch-data/gw//timesystem/api/v1.0/converttime/IJD/5037.8197997775305339/UTC\n",
      "2021-03-24 19:54:18 savchenk-NG-VN7-793G-79EG root[1743133] INFO url https://www.astro.unige.ch/cdci/astrooda/dispatch-data/gw//timesystem/api/v1.0/converttime/IJD/5044.4938820912120718/UTC\n"
     ]
    },
    {
     "name": "stdout",
     "output_type": "stream",
     "text": [
      "2013-10-16T19:39:23.516\n",
      "2013-10-23T11:50:04.228\n"
     ]
    },
    {
     "data": {
      "image/png": "[encoded data removed]",
      "text/plain": [
       "<Figure size 720x720 with 1 Axes>"
      ]
     },
     "metadata": {
      "needs_background": "light"
     },
     "output_type": "display_data"
    }
   ],
   "source": [
    "#from matplotlib import cmap \n",
    "plt.figure(figsize=(10,10))\n",
    "\n",
    "#Venus\n",
    "#C_future = get_body_coord_astropy_future(body_name)\n",
    "\n",
    "m = R.Venus_from_sc_x_deg < 10\n",
    "\n",
    "h = np.histogram(R['IJD_START'][m].astype(float), np.linspace(1000, 7000, 900))\n",
    "i = h[0].argsort()[-2]\n",
    "\n",
    "print(h[1][i], h[1][i+1])\n",
    "\n",
    "ijd = R['IJD_START'][m].astype(float)\n",
    "\n",
    "m &= ijd > h[1][i]\n",
    "m &= ijd < h[1][i+1]\n",
    "\n",
    "ra, dec= R.Venus_ra[m].astype(float),  R.Venus_dec[m].astype(float)\n",
    "\n",
    "\n",
    "a_ra = np.linspace(np.mean(ra)-40, np.mean(ra)+40, 80)\n",
    "a_dec = np.linspace(np.mean(dec)-40, np.mean(dec)+40, 80)\n",
    "\n",
    "g_ra, g_dec = np.meshgrid(\n",
    "    a_ra,\n",
    "    a_dec,\n",
    ")\n",
    "\n",
    "g_coord = SkyCoord(g_ra, g_dec, unit=\"deg\")\n",
    "sun_distance_deg_first = g_coord.separation(Sun_coord[m][0]).deg\n",
    "sun_distance_deg_last = g_coord.separation(Sun_coord[m][-1]).deg\n",
    "\n",
    "sun_map = (sun_distance_deg_first > 40.).astype(float)\n",
    "sun_map += (sun_distance_deg_first > 50.).astype(float)\n",
    "\n",
    "sun_map += (sun_distance_deg_last > 40.).astype(float)\n",
    "sun_map += (sun_distance_deg_last > 50.).astype(float)\n",
    "\n",
    "plt.contourf(\n",
    "    g_ra,\n",
    "    g_dec,\n",
    "    sun_distance_deg_first,\n",
    "    levels=[0, 40],\n",
    "    alpha=0.3\n",
    ")\n",
    "plt.contourf(\n",
    "    g_ra,\n",
    "    g_dec,\n",
    "    sun_distance_deg_first,\n",
    "    levels=[0, 50],\n",
    "    alpha=0.3\n",
    ")\n",
    "plt.contourf(\n",
    "    g_ra,\n",
    "    g_dec,\n",
    "    sun_distance_deg_last,\n",
    "    levels=[0, 40],\n",
    "    alpha=0.3\n",
    ")\n",
    "plt.contourf(\n",
    "    g_ra,\n",
    "    g_dec,\n",
    "    sun_distance_deg_last,\n",
    "    levels=[0, 50],\n",
    "    alpha=0.3\n",
    ")\n",
    "\n",
    "\n",
    "plt.scatter(\n",
    "    ra, dec,\n",
    "    label=\"Venus\"\n",
    ")\n",
    "\n",
    "sc_ra, sc_dec = R['RA_X'][m].astype(float), R['DEC_X'][m].astype(float)\n",
    "\n",
    "plt.scatter(\n",
    "    sc_ra, sc_dec,\n",
    "    label=\"SC X\"\n",
    ")\n",
    "\n",
    "plt.ylim()\n",
    "\n",
    "\n",
    "plt.xlim([np.mean(ra)-15, np.mean(ra)+15])\n",
    "plt.ylim([np.mean(dec)-15, np.mean(dec)+15])\n",
    "\n",
    "plt.title(f\"{ijd[m].min()} - {ijd[m].max()}\\n\" + \\\n",
    "          ic.converttime(\"IJD\", f\"{ijd[m].min():.20g}\", \"UTC\") + \" - \" + ic.converttime(\"IJD\", f\"{ijd[m].max():.20g}\", \"UTC\") + \"\\n\" + \\\n",
    "          ic.converttime(\"IJD\", f\"{ijd[m].min():.20g}\", \"SCWID\") + \" - \" + ic.converttime(\"IJD\", f\"{ijd[m].max():.20g}\", \"SCWID\") + \"\\n\", \n",
    "          font_properties=font_prop)\n",
    "\n",
    "plt.contourf(\n",
    "    g_ra,\n",
    "    g_dec,\n",
    "    SkyCoord(np.mean(sc_ra), np.mean(sc_dec), unit='deg').separation(g_coord).deg,\n",
    "    levels=[0, 8, 15],\n",
    "    cmap=\"autumn\",    \n",
    "    alpha=0.2,\n",
    ")\n",
    "\n",
    "plt.xlabel(\"RA\", font_properties=font_prop)\n",
    "plt.xlabel(\"Dec\", font_properties=font_prop)\n",
    "\n",
    "#plt.xlim()\n",
    "\n",
    "print(ic.converttime(\"IJD\", f\"{h[1][i]:.20g}\", \"UTC\"))\n",
    "print(ic.converttime(\"IJD\", f\"{h[1][i+1]:.20g}\", \"UTC\"))\n",
    "\n",
    "ax=plt.gca()\n",
    "ax.tick_params(axis='x', labelsize=18)\n",
    "ax.tick_params(axis='y', labelsize=18)\n",
    "ax.tick_params(which='major', width=1.5, length=7)\n",
    "ax.tick_params(which='minor', width=1.5, length=4)\n",
    "\n",
    "plt.text(np.mean(ra)-12,\n",
    "         np.mean(dec)-12,\n",
    "         \"grades of blue, from darker to lighter:\\nsun < 40 deg all the time\\nsun < 40 deg at least some time\" + \\\n",
    "         \"\\nsun < 50 deg all the time\\nsun < 50 deg at least some time\",     \n",
    "         font_properties=font_prop, color=\"darkblue\")\n",
    "\n",
    "plt.text(np.mean(ra)+1,\n",
    "         np.mean(dec)+10,\n",
    "         \"grades of orange\\nfrom darker to lighter:\\n\" + \\\n",
    "         \"\\nmean SCX < 8 deg\\nmean SCX < 16 deg\",     \n",
    "         font_properties=font_prop, color=\"darkorange\")\n",
    "\n",
    "plt.legend()\n",
    "\n",
    "plt.savefig(\"venus-in-sgr-oct2013.png\")"
   ]
  },
  {
   "cell_type": "code",
   "execution_count": 215,
   "id": "interior-performance",
   "metadata": {},
   "outputs": [
    {
     "name": "stderr",
     "output_type": "stream",
     "text": [
      "2021-03-19 16:26:49 savchenk-NG-VN7-793G-79EG root[1743133] INFO url https://www.astro.unige.ch/cdci/astrooda/dispatch-data/gw//timesystem/api/v1.0/converttime/IJD/5041.5211700300997109/SCWID\n"
     ]
    },
    {
     "data": {
      "text/plain": [
       "'134500820021'"
      ]
     },
     "execution_count": 215,
     "metadata": {},
     "output_type": "execute_result"
    }
   ],
   "source": [
    "ic.converttime(\"IJD\", f\"{ijd[m].min():.20g}\", \"SCWID\")"
   ]
  },
  {
   "cell_type": "code",
   "execution_count": 300,
   "id": "plain-punishment",
   "metadata": {},
   "outputs": [],
   "source": [
    "def toau(x):\n",
    "    return (np.array(x.astype(float)) * u.cm).to(u.au).value"
   ]
  },
  {
   "cell_type": "code",
   "execution_count": 307,
   "id": "prospective-tooth",
   "metadata": {},
   "outputs": [
    {
     "data": {
      "text/plain": [
       "0         20.280395\n",
       "1         20.104897\n",
       "2         20.098546\n",
       "3         20.092123\n",
       "4         20.085820\n",
       "            ...    \n",
       "160548    92.881281\n",
       "160549    93.164473\n",
       "160550    93.437015\n",
       "160551    93.707810\n",
       "160552    95.841704\n",
       "Name: Jupiter_from_sc_x_deg, Length: 160553, dtype: float64"
      ]
     },
     "execution_count": 307,
     "metadata": {},
     "output_type": "execute_result"
    }
   ],
   "source": [
    "R.Jupiter_from_sc_x_deg "
   ]
  },
  {
   "cell_type": "code",
   "execution_count": 314,
   "id": "accredited-ownership",
   "metadata": {},
   "outputs": [
    {
     "data": {
      "text/plain": [
       "<matplotlib.legend.Legend at 0x7ff2a23b1cd0>"
      ]
     },
     "execution_count": 314,
     "metadata": {},
     "output_type": "execute_result"
    },
    {
     "data": {
      "image/png": "[encoded data removed]",
      "text/plain": [
       "<Figure size 432x288 with 1 Axes>"
      ]
     },
     "metadata": {
      "needs_background": "light"
     },
     "output_type": "display_data"
    }
   ],
   "source": [
    "plt.figure()\n",
    "\n",
    "m = R.Jupiter_from_sc_x_deg < 10\n",
    "h = plt.hist(\n",
    "    toau(R.Jupiter_distance_cm)[m],\n",
    "    alpha=0.3,\n",
    "    bins=np.linspace(3, 15),\n",
    "    label=\"Jupiter\"\n",
    ")\n",
    "\n",
    "m = R.Saturn_from_sc_x_deg < 10\n",
    "plt.hist(\n",
    "    toau(R.Saturn_distance_cm)[m],    \n",
    "    bins=h[1],\n",
    "    label=\"Saturn\"\n",
    ")\n",
    "\n",
    "plt.ylabel(\"ISGRI FCFoV pointings in archive\")\n",
    "plt.xlabel(\"distance from Earth, AU\")\n",
    "\n",
    "plt.legend()"
   ]
  },
  {
   "cell_type": "code",
   "execution_count": 281,
   "id": "equal-anchor",
   "metadata": {},
   "outputs": [
    {
     "data": {
      "text/plain": [
       "0         78941729298709.95\n",
       "1         78313775145895.27\n",
       "2         78289429840609.72\n",
       "3         78265082661944.84\n",
       "4          78240733684661.8\n",
       "                ...        \n",
       "160548    89658584415042.98\n",
       "160549    89660478219692.66\n",
       "160550    89662371521250.52\n",
       "160551    89664262359622.25\n",
       "160552    89666134110051.08\n",
       "Name: Jupiter_distance_cm, Length: 160553, dtype: object"
      ]
     },
     "execution_count": 281,
     "metadata": {},
     "output_type": "execute_result"
    }
   ],
   "source": [
    "R.Jupiter_distance_cm"
   ]
  },
  {
   "cell_type": "code",
   "execution_count": 171,
   "id": "generous-bobby",
   "metadata": {},
   "outputs": [
    {
     "name": "stderr",
     "output_type": "stream",
     "text": [
      "2021-03-19 16:10:41 savchenk-NG-VN7-793G-79EG root[1743133] INFO url https://www.astro.unige.ch/cdci/astrooda/dispatch-data/gw//timesystem/api/v1.0/converttime/IJD/5048.0480480480473489/UTC\n"
     ]
    },
    {
     "data": {
      "text/plain": [
       "'2013-10-27T01:08:04.167'"
      ]
     },
     "execution_count": 171,
     "metadata": {},
     "output_type": "execute_result"
    }
   ],
   "source": [
    "import integralclient as ic\n",
    "\n",
    "ic.converttime(\"IJD\", f\"{h[1][i]:.20g}\", \"UTC\")"
   ]
  },
  {
   "cell_type": "code",
   "execution_count": 515,
   "id": "psychological-massachusetts",
   "metadata": {},
   "outputs": [
    {
     "data": {
      "image/png": "[encoded data removed]",
      "text/plain": [
       "<Figure size 432x288 with 1 Axes>"
      ]
     },
     "metadata": {
      "needs_background": "light"
     },
     "output_type": "display_data"
    }
   ],
   "source": [
    "plt.figure()\n",
    "\n",
    "# the reason why venus is rare is because of solar angle. inner planets have that restriction\n",
    "# ISGRI has extra 10 deg for off-axis pointing, if designed\n",
    "# it is never possible to observe Venus\n",
    "# https://en.wikipedia.org/wiki/Elongation_(astronomy) of venus is up to 47 deg\n",
    "\n",
    "_=plt.hist(\n",
    "    Sun_coord.separation(scx_coord).deg,\n",
    "    100\n",
    ")\n",
    "\n",
    "plt.axvline()"
   ]
  },
  {
   "cell_type": "markdown",
   "id": "quick-preliminary",
   "metadata": {},
   "source": [
    "the reason why venus is rare is because of solar angle. inner planets have that restriction\n",
    "ISGRI has extra 10 deg for off-axis pointing, if designed"
   ]
  },
  {
   "cell_type": "code",
   "execution_count": 400,
   "id": "visible-elevation",
   "metadata": {},
   "outputs": [
    {
     "data": {
      "text/plain": [
       "{'Venus': {'sensitivity_erg_s': 2023918343384943.8,\n",
       "  'on_isgri_Ms': 0.168514,\n",
       "  'on_pointings': 81},\n",
       " 'Sun': {'sensitivity_erg_s': inf, 'on_isgri_Ms': 0.0, 'on_pointings': 0},\n",
       " 'Mars': {'sensitivity_erg_s': 1151191493617938.0,\n",
       "  'on_isgri_Ms': 3.744135,\n",
       "  'on_pointings': 1588},\n",
       " 'Mercury': {'sensitivity_erg_s': inf, 'on_isgri_Ms': 0.0, 'on_pointings': 0},\n",
       " 'Jupiter': {'sensitivity_erg_s': 2.182728445837121e+16,\n",
       "  'on_isgri_Ms': 4.360247,\n",
       "  'on_pointings': 1853},\n",
       " 'Saturn': {'sensitivity_erg_s': 6.4927958799684536e+16,\n",
       "  'on_isgri_Ms': 9.066307,\n",
       "  'on_pointings': 3207},\n",
       " 'Uranus': {'sensitivity_erg_s': 1.855665674969776e+18,\n",
       "  'on_isgri_Ms': 0.17205,\n",
       "  'on_pointings': 67},\n",
       " 'Neptune': {'sensitivity_erg_s': 4.746794849613064e+18,\n",
       "  'on_isgri_Ms': 0.182509,\n",
       "  'on_pointings': 61},\n",
       " 'Pluto': {'on_isgri_Ms': 8.682008, 'on_pointings': 3813}}"
      ]
     },
     "execution_count": 400,
     "metadata": {},
     "output_type": "execute_result"
    }
   ],
   "source": [
    "import json\n",
    "\n",
    "#json.dump(summary_by_body, open(\"summary_by_body.json\", \"wt\"), indent=4)\n",
    "\n",
    "summary_by_body"
   ]
  },
  {
   "cell_type": "code",
   "execution_count": 411,
   "id": "strange-twist",
   "metadata": {},
   "outputs": [
    {
     "data": {
      "text/html": [
       "<div>\n",
       "<style scoped>\n",
       "    .dataframe tbody tr th:only-of-type {\n",
       "        vertical-align: middle;\n",
       "    }\n",
       "\n",
       "    .dataframe tbody tr th {\n",
       "        vertical-align: top;\n",
       "    }\n",
       "\n",
       "    .dataframe thead th {\n",
       "        text-align: right;\n",
       "    }\n",
       "</style>\n",
       "<table border=\"1\" class=\"dataframe\">\n",
       "  <thead>\n",
       "    <tr style=\"text-align: right;\">\n",
       "      <th></th>\n",
       "      <th>name</th>\n",
       "      <th>known_typical_lum</th>\n",
       "      <th>sensitivity_erg_s</th>\n",
       "      <th>on_isgri_Ms</th>\n",
       "      <th>on_pointings</th>\n",
       "    </tr>\n",
       "  </thead>\n",
       "  <tbody>\n",
       "    <tr>\n",
       "      <th>0</th>\n",
       "      <td>Venus</td>\n",
       "      <td>5.500000e+14</td>\n",
       "      <td>2.023918e+15</td>\n",
       "      <td>0.168514</td>\n",
       "      <td>81</td>\n",
       "    </tr>\n",
       "    <tr>\n",
       "      <th>1</th>\n",
       "      <td>Sun</td>\n",
       "      <td>0.000000e+00</td>\n",
       "      <td>inf</td>\n",
       "      <td>0.000000</td>\n",
       "      <td>0</td>\n",
       "    </tr>\n",
       "    <tr>\n",
       "      <th>2</th>\n",
       "      <td>Mars</td>\n",
       "      <td>4.000000e+13</td>\n",
       "      <td>1.151191e+15</td>\n",
       "      <td>3.744135</td>\n",
       "      <td>1588</td>\n",
       "    </tr>\n",
       "    <tr>\n",
       "      <th>3</th>\n",
       "      <td>Mercury</td>\n",
       "      <td>0.000000e+00</td>\n",
       "      <td>inf</td>\n",
       "      <td>0.000000</td>\n",
       "      <td>0</td>\n",
       "    </tr>\n",
       "    <tr>\n",
       "      <th>4</th>\n",
       "      <td>Jupiter</td>\n",
       "      <td>2.200000e+16</td>\n",
       "      <td>2.182728e+16</td>\n",
       "      <td>4.360247</td>\n",
       "      <td>1853</td>\n",
       "    </tr>\n",
       "    <tr>\n",
       "      <th>5</th>\n",
       "      <td>Saturn</td>\n",
       "      <td>8.700000e+14</td>\n",
       "      <td>6.492796e+16</td>\n",
       "      <td>9.066307</td>\n",
       "      <td>3207</td>\n",
       "    </tr>\n",
       "    <tr>\n",
       "      <th>6</th>\n",
       "      <td>Uranus</td>\n",
       "      <td>6.000000e+15</td>\n",
       "      <td>1.855666e+18</td>\n",
       "      <td>0.172050</td>\n",
       "      <td>67</td>\n",
       "    </tr>\n",
       "    <tr>\n",
       "      <th>7</th>\n",
       "      <td>Neptune</td>\n",
       "      <td>1.200000e+16</td>\n",
       "      <td>4.746795e+18</td>\n",
       "      <td>0.182509</td>\n",
       "      <td>61</td>\n",
       "    </tr>\n",
       "    <tr>\n",
       "      <th>8</th>\n",
       "      <td>Pluto</td>\n",
       "      <td>2.000000e+15</td>\n",
       "      <td>NaN</td>\n",
       "      <td>8.682008</td>\n",
       "      <td>3813</td>\n",
       "    </tr>\n",
       "  </tbody>\n",
       "</table>\n",
       "</div>"
      ],
      "text/plain": [
       "      name  known_typical_lum  sensitivity_erg_s  on_isgri_Ms  on_pointings\n",
       "0    Venus       5.500000e+14       2.023918e+15     0.168514            81\n",
       "1      Sun       0.000000e+00                inf     0.000000             0\n",
       "2     Mars       4.000000e+13       1.151191e+15     3.744135          1588\n",
       "3  Mercury       0.000000e+00                inf     0.000000             0\n",
       "4  Jupiter       2.200000e+16       2.182728e+16     4.360247          1853\n",
       "5   Saturn       8.700000e+14       6.492796e+16     9.066307          3207\n",
       "6   Uranus       6.000000e+15       1.855666e+18     0.172050            67\n",
       "7  Neptune       1.200000e+16       4.746795e+18     0.182509            61\n",
       "8    Pluto       2.000000e+15                NaN     8.682008          3813"
      ]
     },
     "execution_count": 411,
     "metadata": {},
     "output_type": "execute_result"
    }
   ],
   "source": [
    "pd.DataFrame([{'name':k, 'known_typical_lum': reference_object_erg_s.get(k, 0), **v} for k, v in summary_by_body.items()])"
   ]
  },
  {
   "cell_type": "code",
   "execution_count": 403,
   "id": "ignored-johns",
   "metadata": {},
   "outputs": [
    {
     "name": "stdout",
     "output_type": "stream",
     "text": [
      "Venus\n",
      " : known value 5.5e+14 archive 1 sigma limit 2.024e+15 erg/s\n",
      " : typical known value / 1 sigma limit in archive /  0.272\n",
      " : potential for exposure improvement (400ks)  2.37\n",
      " : typical known value / ToO limit /  0.419\n",
      "Sun\n",
      "nope\n",
      "Mars\n",
      " : known value 4e+13 archive 1 sigma limit 1.151e+15 erg/s\n",
      " : typical known value / 1 sigma limit in archive /  0.0347\n",
      " : potential for exposure improvement (400ks) 0.107\n",
      " : typical known value / ToO limit /  0.0114\n",
      "Mercury\n",
      "nope\n",
      "Jupiter\n",
      " : known value 2.2e+16 archive 1 sigma limit 2.183e+16 erg/s\n",
      " : typical known value / 1 sigma limit in archive /   1.01\n",
      " : potential for exposure improvement (400ks) 0.0917\n",
      " : typical known value / ToO limit /  0.305\n",
      "Saturn\n",
      " : known value 8.7e+14 archive 1 sigma limit 6.493e+16 erg/s\n",
      " : typical known value / 1 sigma limit in archive /  0.0134\n",
      " : potential for exposure improvement (400ks) 0.0441\n",
      " : typical known value / ToO limit /  0.00281\n",
      "Uranus\n",
      " : known value 6e+15 archive 1 sigma limit 1.856e+18 erg/s\n",
      " : typical known value / 1 sigma limit in archive /  0.00323\n",
      " : potential for exposure improvement (400ks)  2.32\n",
      " : typical known value / ToO limit /  0.00493\n",
      "Neptune\n",
      " : known value 1.2e+16 archive 1 sigma limit 4.747e+18 erg/s\n",
      " : typical known value / 1 sigma limit in archive /  0.00253\n",
      " : potential for exposure improvement (400ks)  2.19\n",
      " : typical known value / ToO limit /  0.00374\n",
      "Pluto\n",
      "nope\n"
     ]
    }
   ],
   "source": [
    "for o, d in summary_by_body.items():\n",
    "    print(f\"{o}\")\n",
    "    try:\n",
    "        print(f\" : known value {reference_object_erg_s[o]:5.3g} archive 1 sigma limit {d['sensitivity_erg_s']:5.4g} erg/s\")\n",
    "        print(f\" : typical known value / 1 sigma limit in archive /  {reference_object_erg_s[o]/d['sensitivity_erg_s']:5.3g}\")\n",
    "        print(f\" : potential for exposure improvement (400ks) {0.4/d['on_isgri_Ms']:5.3g}\")    \n",
    "        print(f\" : typical known value / ToO limit /  {reference_object_erg_s[o]/(d['sensitivity_erg_s']/(0.4/d['on_isgri_Ms'])**0.5):5.3g}\")\n",
    "    except:\n",
    "        print(\"nope\")"
   ]
  },
  {
   "cell_type": "code",
   "execution_count": 757,
   "id": "social-square",
   "metadata": {},
   "outputs": [],
   "source": [
    "R.to_pandas().to_csv(\"archive-with-bodies.csv.gz\", compression='gzip')"
   ]
  },
  {
   "cell_type": "code",
   "execution_count": 25,
   "id": "normal-queue",
   "metadata": {},
   "outputs": [
    {
     "name": "stdout",
     "output_type": "stream",
     "text": [
      "\n",
      "Object      Lx (erg/s)        Lx (SI)        Comments\n",
      "\n",
      "Moon        7.3E11            73 kW\n",
      "Europa      1.5E13            1.5 MW\n",
      "\n",
      "Io          2.0E13            2 MW\n",
      "Mars        4.0E13          4 - 16 MW\n",
      "Comets      1.0E14          10 - 5000 MW   Within 2 Au of the Sun\n",
      "Earth       3.0E14            30 MW          My guess\n",
      "Venus       5.5E14            55 MW\n",
      "Saturn      8.7E14            87 MW\n",
      "Io Plasma   1.0E15            100 MW\n",
      "Torus\n",
      "Pluto       2.0E15            200 MW         Surprisingly large!\n",
      "Uranus      6.0E15            600 MW\n",
      "Neptune     1.2E16           1200 MW\n",
      "Jupiter     2.2E16           2200 MW\n",
      "\n"
     ]
    },
    {
     "data": {
      "text/plain": [
       "{nan: nan,\n",
       " 'Moon': 730000000000.0,\n",
       " 'Europa': 15000000000000.0,\n",
       " 'Io': 20000000000000.0,\n",
       " 'Mars': 40000000000000.0,\n",
       " 'Comets': 100000000000000.0,\n",
       " 'Earth': 300000000000000.0,\n",
       " 'Venus': 550000000000000.0,\n",
       " 'Saturn': 870000000000000.0,\n",
       " 'Io Plasma': 1000000000000000.0,\n",
       " 'Torus': nan,\n",
       " 'Pluto': 2000000000000000.0,\n",
       " 'Uranus': 6000000000000000.0,\n",
       " 'Neptune': 1.2e+16,\n",
       " 'Jupiter': 2.2e+16}"
      ]
     },
     "execution_count": 25,
     "metadata": {},
     "output_type": "execute_result"
    }
   ],
   "source": [
    "import requests\n",
    "import re\n",
    "import pandas as pd\n",
    "import io\n",
    "\n",
    "\n",
    "t = requests.get(\"https://heasarc.gsfc.nasa.gov/docs/heasarc/headates/what_kind.html\").text\n",
    "table = re.search(\"<pre>(.*?)</pre>\", t, re.M | re.S).groups()[0]\n",
    "table = re.sub(\" - [0-9]\\.[0-9]E[0-9]+? \", \" \"*8, table).replace(\"<\",\" \")\n",
    "print(table)\n",
    "\n",
    "d = pd.read_fwf(io.StringIO(table), header=1)\n",
    "d['Lx_erg_s'] = d['Lx (erg/s)'].astype(float)\n",
    "\n",
    "reference_object_erg_s = dict(zip(d['Object'], d['Lx_erg_s']))\n",
    "reference_object_erg_s"
   ]
  }
 ],
 "metadata": {
  "kernelspec": {
   "display_name": "Python 3",
   "language": "python",
   "name": "python3"
  },
  "language_info": {
   "codemirror_mode": {
    "name": "ipython",
    "version": 3
   },
   "file_extension": ".py",
   "mimetype": "text/x-python",
   "name": "python",
   "nbconvert_exporter": "python",
   "pygments_lexer": "ipython3",
   "version": "3.8.6"
  }
 },
 "nbformat": 4,
 "nbformat_minor": 5
}
